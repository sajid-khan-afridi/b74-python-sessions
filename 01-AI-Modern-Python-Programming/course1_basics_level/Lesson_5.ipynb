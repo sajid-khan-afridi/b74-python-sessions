{
  "cells": [
    {
      "cell_type": "markdown",
      "metadata": {
        "id": "zheaVXh-Fxab"
      },
      "source": [
        "# Remaining Topics, Python Operators and Projects"
      ]
    },
    {
      "cell_type": "markdown",
      "metadata": {
        "id": "xf0pv-GZV4q7"
      },
      "source": [
        "### 🔄 Type Conversion in Python\n",
        "You can convert data from one type to another using built-in functions. For example:\n",
        "\n",
        "float() — converts data to a decimal number\n",
        "\n",
        "int() — converts data to a whole number\n",
        "\n",
        "str() — converts data to text (string)"
      ]
    },
    {
      "cell_type": "code",
      "source": [
        "# Convert integer to float\n",
        "print(float(5))        # Output: 5.0\n",
        "\n",
        "# Convert float to integer (decimal part is removed)\n",
        "print(int(3.9))        # Output: 3\n",
        "\n",
        "# Convert number to string\n",
        "print(str(42))         # Output: '42'\n"
      ],
      "metadata": {
        "id": "FGRSrVEJYY3C"
      },
      "execution_count": null,
      "outputs": []
    },
    {
      "cell_type": "markdown",
      "source": [
        "The **`len()`** is a built-in function in Python that returns the number of items in an object.\n",
        "\n",
        "\n",
        "\n",
        "**For strings, it returns the number of characters, including spaces and punctuation (e.g., ,, !, .).**\n",
        "\n",
        "`len()` can be used with various other data types like list, tuples, dictionaries, etc."
      ],
      "metadata": {
        "id": "4Zvew_r8x3lB"
      }
    },
    {
      "cell_type": "code",
      "source": [
        "print(len(\"Hammad\"))"
      ],
      "metadata": {
        "id": "qoOpOdFzKuWl"
      },
      "execution_count": null,
      "outputs": []
    },
    {
      "cell_type": "markdown",
      "source": [
        "### fix the below code"
      ],
      "metadata": {
        "id": "FzDsVwEqaeDv"
      }
    },
    {
      "cell_type": "code",
      "execution_count": null,
      "metadata": {
        "id": "zAmqkfpFV3bP"
      },
      "outputs": [],
      "source": [
        "# COMPLETE THE TASK\n",
        "\n",
        "print(\"Number of letters in your name: \" + input(\"Enter your name: \"))"
      ]
    },
    {
      "cell_type": "markdown",
      "metadata": {
        "id": "mpvUIxpuWaFq"
      },
      "source": [
        "### TypeError with len() function\n",
        "These errors occur when you are using the wrong data type. e.g. len(12345)"
      ]
    },
    {
      "cell_type": "code",
      "execution_count": null,
      "metadata": {
        "id": "VKUWiyThWcKl"
      },
      "outputs": [],
      "source": [
        "len(\"34324\")"
      ]
    },
    {
      "cell_type": "markdown",
      "source": [
        "### **Key Takeaway**\n",
        "\n",
        "- The `len()` function works on sequences or collections (e.g., strings, lists, tuples), not on single values like integers or floats.\n",
        "- To count digits in a number, convert it to a string using `str()` before using `len()`."
      ],
      "metadata": {
        "id": "XruC81-E0ra9"
      }
    },
    {
      "cell_type": "markdown",
      "metadata": {
        "id": "7YDCiZGDZQNA"
      },
      "source": [
        "### Number Manipulation. int() and round() functions"
      ]
    },
    {
      "cell_type": "code",
      "execution_count": null,
      "metadata": {
        "id": "5Q6InAFRZmCm"
      },
      "outputs": [],
      "source": [
        "# Flooring a Number\n",
        "number = 3.738492\n",
        "int(number)"
      ]
    },
    {
      "cell_type": "code",
      "execution_count": null,
      "metadata": {
        "id": "EQqgxwpdZxsM"
      },
      "outputs": [],
      "source": [
        "### Rounding a Number\n",
        "number = 3.738492\n",
        "round(number, 2)"
      ]
    },
    {
      "cell_type": "markdown",
      "source": [
        "**Formatting with f-strings**\n",
        "\n",
        "You can control the display of numbers with a specific number of decimal places using string formatting. This doesn't change the number's value but formats its output."
      ],
      "metadata": {
        "id": "3BHBZFUd3IpQ"
      }
    },
    {
      "cell_type": "code",
      "source": [
        "number = 3.738492\n",
        "print(f\"{number:.2f}\")"
      ],
      "metadata": {
        "id": "GuaCDBvD25fc"
      },
      "execution_count": null,
      "outputs": []
    },
    {
      "cell_type": "markdown",
      "metadata": {
        "id": "4h70y4wtpOKf"
      },
      "source": [
        "### Method of different DataType"
      ]
    },
    {
      "cell_type": "code",
      "execution_count": null,
      "metadata": {
        "id": "UtcZIs_upkhP"
      },
      "outputs": [],
      "source": [
        "name : str = \"Ahmad\"\n",
        "age : int = 30\n",
        "percentage : float = 89.4\n",
        "result : bool = True"
      ]
    },
    {
      "cell_type": "code",
      "execution_count": null,
      "metadata": {
        "id": "4msXzTdVrlqR",
        "collapsed": true
      },
      "outputs": [],
      "source": [
        "[i for i in dir(name) if \"__\" not in i]"
      ]
    },
    {
      "cell_type": "markdown",
      "source": [
        "**Breakdown**\n",
        "- `dir(name)`: Returns a list of all attributes and methods of the object `name`.\n",
        "- `if \"__\" not in i`: Filters out any item `i` containing `\"__\"` (special methods like `__init__` or `__str__`).\n",
        "- `[i for i in ...]`: Creates a new list with only the items that pass the filter."
      ],
      "metadata": {
        "id": "1Str9tE84kRb"
      }
    },
    {
      "cell_type": "code",
      "execution_count": null,
      "metadata": {
        "id": "s3W4HWM0riUx",
        "collapsed": true
      },
      "outputs": [],
      "source": [
        "[i for i in dir(age) if \"__\" not in i]"
      ]
    },
    {
      "cell_type": "code",
      "execution_count": null,
      "metadata": {
        "id": "s8tdXa8YroIh",
        "collapsed": true
      },
      "outputs": [],
      "source": [
        "[i for i in dir(percentage) if \"__\" not in i]"
      ]
    },
    {
      "cell_type": "code",
      "execution_count": null,
      "metadata": {
        "id": "lE_9vPuLrvB5",
        "collapsed": true
      },
      "outputs": [],
      "source": [
        "[i for i in dir(result) if \"__\" not in i]"
      ]
    },
    {
      "cell_type": "markdown",
      "metadata": {
        "id": "RcDoYKT14-MM"
      },
      "source": [
        "## Python Operators\n",
        "An operator in Python is a symbol or word that performs an action on values or variables. It is used to do calculations, compare values, assign data, or check conditions."
      ]
    },
    {
      "cell_type": "markdown",
      "metadata": {
        "id": "K9fmGc0yf1ZQ"
      },
      "source": [
        "### Python divides the operators in the following groups:\n",
        "\n",
        "Common Types of Python Operators:\n",
        "* Arithmetic Operators – For math (e.g., +, -, *, /)\n",
        "\n",
        "* Assignment Operators – To assign values (e.g., =, +=)\n",
        "\n",
        "* Comparison Operators – To compare values (e.g., ==, !=)\n",
        "\n",
        "* Logical Operators – To combine conditions (e.g., and, or)\n",
        "\n",
        "* Identity Operators – To check if variables refer to the same object (e.g., is, is not)\n",
        "\n",
        "* Membership Operators – To check if a value is in a sequence (e.g., in, not in)\n",
        "\n",
        "* Bitwise Operators – To work with binary numbers (e.g., &, |, ^)"
      ]
    },
    {
      "cell_type": "markdown",
      "metadata": {
        "id": "QwbyjZHxhvVU"
      },
      "source": [
        "### **Python Arithmetic Operators**"
      ]
    },
    {
      "cell_type": "code",
      "source": [
        "!pip -q install pandas"
      ],
      "metadata": {
        "id": "9t2aC-Rh5fYP"
      },
      "execution_count": null,
      "outputs": []
    },
    {
      "cell_type": "code",
      "execution_count": null,
      "metadata": {
        "id": "JHI0qDr7hF9p"
      },
      "outputs": [],
      "source": [
        "import pandas as pd\n",
        "\n",
        "table = pd.read_html('https://www.w3schools.com/python/python_operators.asp')\n",
        "table[0]"
      ]
    },
    {
      "cell_type": "code",
      "execution_count": null,
      "metadata": {
        "id": "fB8HOm7Lf6ii",
        "collapsed": true
      },
      "outputs": [],
      "source": [
        "num1 : int = 50\n",
        "num2 : int = 11\n",
        "result = num1+num2\n",
        "print(result)"
      ]
    },
    {
      "cell_type": "markdown",
      "metadata": {
        "id": "i2RV2P_xh-B7"
      },
      "source": [
        "### **Python Assignment Operators**"
      ]
    },
    {
      "cell_type": "code",
      "execution_count": null,
      "metadata": {
        "id": "Bony0h7viBN5"
      },
      "outputs": [],
      "source": [
        "table[1]"
      ]
    },
    {
      "cell_type": "code",
      "execution_count": null,
      "metadata": {
        "id": "81i6qQLvJ6nc"
      },
      "outputs": [],
      "source": [
        "x = 3\n",
        "x = x ** 2\n",
        "print(x)"
      ]
    },
    {
      "cell_type": "markdown",
      "metadata": {
        "id": "P9IZkT63iSVG"
      },
      "source": [
        "### **Python Comparison Operators**"
      ]
    },
    {
      "cell_type": "code",
      "execution_count": null,
      "metadata": {
        "id": "7U2Gd-i0iVUR"
      },
      "outputs": [],
      "source": [
        "table[2]"
      ]
    },
    {
      "cell_type": "code",
      "execution_count": null,
      "metadata": {
        "id": "0RBszovTJ6nc"
      },
      "outputs": [],
      "source": [
        "print(4==4)\n",
        "print(4==\"4\")\n",
        "print(4>3)\n"
      ]
    },
    {
      "cell_type": "markdown",
      "metadata": {
        "id": "y2xskhvkinzm"
      },
      "source": [
        "### **Python Logical Operators**\n",
        "\n",
        "Logical operators combine boolean expressions and return `True` or `False`."
      ]
    },
    {
      "cell_type": "code",
      "execution_count": null,
      "metadata": {
        "id": "hnzeG-ZMivZW"
      },
      "outputs": [],
      "source": [
        "table[3]"
      ]
    },
    {
      "cell_type": "code",
      "execution_count": null,
      "metadata": {
        "id": "oR1ajtsVJ6nd"
      },
      "outputs": [],
      "source": [
        "True and False"
      ]
    },
    {
      "cell_type": "code",
      "source": [
        "print(6>3 and 7<3)\n",
        "print(6>3 or 7<3)\n",
        "print(not(6>3 and 7<3))"
      ],
      "metadata": {
        "id": "GnOgE44dOHvW"
      },
      "execution_count": null,
      "outputs": []
    },
    {
      "cell_type": "markdown",
      "metadata": {
        "id": "h0cBW2k0i7Tr"
      },
      "source": [
        "### **Python Identity Operators**\n",
        "\n",
        "Identity operators check if two variables refer to the same object in memory."
      ]
    },
    {
      "cell_type": "code",
      "execution_count": null,
      "metadata": {
        "id": "ASKF4kTDi-fH"
      },
      "outputs": [],
      "source": [
        "table[4]"
      ]
    },
    {
      "cell_type": "markdown",
      "metadata": {
        "id": "MBoMMaItJ6ne"
      },
      "source": [
        "### `is` Operator:\n",
        "- **Purpose**: Tests for object identity.\n",
        "- **Function**: Checks whether two variables point to the same object (i.e., have the same memory address).\n",
        "- **Example**:\n",
        "\n",
        "\n"
      ]
    },
    {
      "cell_type": "code",
      "execution_count": null,
      "metadata": {
        "id": "OMrb1I8LJ6ne"
      },
      "outputs": [],
      "source": [
        "a : int = 5\n",
        "b : int = 6\n",
        "print(id(a))\n",
        "print(id(b))\n",
        "a is not b\n"
      ]
    },
    {
      "cell_type": "markdown",
      "metadata": {
        "id": "vW_3ibAdjIFq"
      },
      "source": [
        "### **Python Membership Operators**"
      ]
    },
    {
      "cell_type": "code",
      "execution_count": null,
      "metadata": {
        "id": "wVvL5i1YjKIU"
      },
      "outputs": [],
      "source": [
        "table[5]"
      ]
    },
    {
      "cell_type": "markdown",
      "metadata": {
        "id": "QY02P4UAJ6nf"
      },
      "source": [
        "### `in` Operator:\n",
        "- **Purpose**: Tests for membership.\n",
        "- **Function**: Checks whether an element exists in a container (like a list, set, string, dictionary, etc.).\n",
        "- **Example**:\n"
      ]
    },
    {
      "cell_type": "code",
      "execution_count": null,
      "metadata": {
        "id": "N8gsOeEqJ6nf"
      },
      "outputs": [],
      "source": [
        "text = \"hello\"\n",
        "print('h' in text)  # True ('h' is in the string \"hello\")\n",
        "print('z' in text)  # False ('z' is not in the string \"hello\")"
      ]
    },
    {
      "cell_type": "markdown",
      "metadata": {
        "id": "ppJFmERyJ6nf"
      },
      "source": [
        "### **Summary:**\n",
        "In Python, `is` and `in` are both operators, but they serve very different purposes:\n",
        "\n",
        "- **`is`**: Compares object identity.\n",
        "- **`in`**: Checks for membership within a container.\n",
        "\n",
        "---"
      ]
    },
    {
      "cell_type": "markdown",
      "source": [
        "<img src=\"https://www.mathnasium.com/storage/app/uploads/public/66d/889/270/66d8892706f97111428791.png\" alt=\"PEMDAS Order of Operations\" width=\"600\">"
      ],
      "metadata": {
        "id": "cMHodjksB5YX"
      }
    },
    {
      "cell_type": "markdown",
      "metadata": {
        "id": "Aj-7Ek8rjY54"
      },
      "source": [
        "## **Understanding PEMDAS in Python**\n",
        "\n",
        "PEMDAS is a rule for the **order of operations** in mathematical expressions. It ensures consistent evaluation of expressions in Python and other programming languages.\n",
        "\n",
        "### **What is PEMDAS?**\n",
        "PEMDAS stands for:\n",
        "- **P**: **Parentheses** – Solve expressions in parentheses first.\n",
        "- **E**: **Exponents** – Evaluate exponents (e.g., `**` in Python).\n",
        "- **MD**: **Multiplication and Division** – From left to right.\n",
        "- **AS**: **Addition and Subtraction** – From left to right.\n",
        "\n",
        "### Example\n"
      ]
    },
    {
      "cell_type": "code",
      "source": [
        "result = 2 + 3 * 4 ** 2 / (1 + 1)\n",
        "# Step-by-step:\n",
        "# 1. Parentheses: (1 + 1) = 2\n",
        "# 2. Exponents: 4 ** 2 = 16\n",
        "# 3. Multiplication/Division (left to right): 3 * 16 / 2 = 48 / 2 = 24\n",
        "# 4. Addition: 2 + 24 = 26\n",
        "print(result)  # Output: 26"
      ],
      "metadata": {
        "id": "sm2mZdxyA1W4"
      },
      "execution_count": null,
      "outputs": []
    },
    {
      "cell_type": "markdown",
      "metadata": {
        "id": "yiA4IGqviiVV"
      },
      "source": [
        "### **Understanding ASCII Codes in Python**\n",
        "\n",
        "ASCII (American Standard Code for Information Interchange) assigns a unique number to each character, such as letters, digits, and symbols, to represent them in computers.\n",
        "\n",
        "---\n",
        "### **Key ASCII Values**\n",
        "- Uppercase: `A=65`, `B=66`, ..., `Z=90`\n",
        "- Lowercase: `a=97`, `b=98`, ..., `z=122`\n",
        "- Digits: `0=48`, `1=49`, ..., `9=57`\n",
        "\n",
        "### **Python Functions for ASCII**\n",
        "- **`ord()`**: Returns the ASCII (or Unicode) value of a single character.\n",
        "- **`chr()`**: Converts an ASCII (or Unicode) value to its corresponding character.\n"
      ]
    },
    {
      "cell_type": "code",
      "execution_count": null,
      "metadata": {
        "id": "U-nk0KqIimRw"
      },
      "outputs": [],
      "source": [
        "print(ord('0'))\n",
        "print(chr(65))"
      ]
    },
    {
      "cell_type": "markdown",
      "metadata": {
        "id": "xFDNg5Gxbmsf"
      },
      "source": [
        "## Project\n",
        "- use f-string\n",
        "- arithmetic operator\n",
        "- escape sequences\n",
        "- compound assignment operator"
      ]
    },
    {
      "cell_type": "code",
      "execution_count": null,
      "metadata": {
        "id": "rAoQejCXbq_4"
      },
      "outputs": [],
      "source": [
        "# --- Trip Summary ---\n",
        "# Traveler Name: Ahmad\n",
        "# Hometown: Peshawar\n",
        "# Destination: Karachi\n",
        "\n",
        "# Estimated Costs:\n",
        "# Travel: 10000\n",
        "# Accommodation: 2000\n",
        "# Other Expenses: 2000\n",
        "\n",
        "# Total Estimated Cost: 14000\n"
      ]
    }
  ],
  "metadata": {
    "colab": {
      "collapsed_sections": [
        "xf0pv-GZV4q7",
        "RcDoYKT14-MM"
      ],
      "provenance": []
    },
    "kernelspec": {
      "display_name": "Python 3",
      "name": "python3"
    },
    "language_info": {
      "codemirror_mode": {
        "name": "ipython",
        "version": 3
      },
      "file_extension": ".py",
      "mimetype": "text/x-python",
      "name": "python",
      "nbconvert_exporter": "python",
      "pygments_lexer": "ipython3",
      "version": "3.12.8"
    }
  },
  "nbformat": 4,
  "nbformat_minor": 0
}
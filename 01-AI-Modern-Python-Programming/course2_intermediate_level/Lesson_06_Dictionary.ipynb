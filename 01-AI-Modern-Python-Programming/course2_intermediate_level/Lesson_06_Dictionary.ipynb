{
  "cells": [
    {
      "cell_type": "markdown",
      "id": "022e08bc",
      "metadata": {
        "id": "022e08bc"
      },
      "source": [
        "# Introduction to Dictionaries in Python\n",
        "\n",
        "## What is a Dictionary?\n",
        "\n",
        "Dictionary, a data structure in Python, is a collection of *key-value pairs*, where each *key is unique*, and each key is associated with a specific value.\n",
        "\n",
        "Dictionary enable the association of values with unique keys, providing a way to store and retrieve information using meaningful identifiers. Dictionaries are particularly valuable when there is a need for fast data access and retrieval based on specific keys. They are versatile and widely used in scenarios where data needs to be stored and accessed in a structured manner.\n",
        "\n",
        "## Why Do We Need Dictionaries?\n",
        "\n",
        "### The Problem: Efficient Data Lookups\n",
        "\n",
        "Consider a scenario where you are managing a collection of students name with score. Initially,  might think of using two separate lists. One for student names and one for their corresponding scores:\n",
        "\n",
        "\n",
        "\n"
      ]
    },
    {
      "cell_type": "code",
      "execution_count": null,
      "id": "d6b037a2",
      "metadata": {
        "id": "d6b037a2"
      },
      "outputs": [],
      "source": [
        "students : list[str ]= [\"Alice\", \"Bob\", \"Charlie\"]\n",
        "scores : list[int] = [85, 92, 78]"
      ]
    },
    {
      "cell_type": "markdown",
      "id": "9b1d5a90",
      "metadata": {
        "id": "9b1d5a90"
      },
      "source": [
        "\n",
        "To find the score of a specific student,  would need to first find the index of the student's name in the `students` list and then use that index to look up the score in the `scores` list:\n",
        "\n",
        "\n",
        "\n"
      ]
    },
    {
      "cell_type": "code",
      "execution_count": null,
      "id": "03ee09bd",
      "metadata": {
        "id": "03ee09bd"
      },
      "outputs": [],
      "source": [
        "# --- Using two parallel lists ---\n",
        "# To get Bob’s score we first have to search for his index, then\n",
        "# use that index in the scores list—two separate steps.\n",
        "\n",
        "index : int = students.index(\"Bob\")# 1\n",
        "print(index)\n",
        "score : int = scores[index]\n",
        "print(score)"
      ]
    },
    {
      "cell_type": "markdown",
      "id": "93188425",
      "metadata": {
        "id": "93188425"
      },
      "source": [
        "While this approach works, it quickly becomes inefficient as the lists grow in size. Searching for a student's name in the list takes time, and managing two separate lists can lead to errors, especially if they become out of sync.\n",
        "\n",
        "### The Solution: Constant-Time Lookups with Dictionaries\n",
        "\n",
        "Dictionaries provide a more efficient and intuitive way to handle this situation. By using student names as keys and their scores as values,  can store the data in a dictionary:\n",
        "\n",
        "\n",
        "\n"
      ]
    },
    {
      "cell_type": "code",
      "source": [
        "# --- Using a dictionary (MUCH simpler) ---\n",
        "# A dictionary lets us map each student directly to a score, so we can\n",
        "# retrieve Bob’s score with a single, intuitive key lookup—no index-hunting.\n",
        "\n",
        "students_score = {\n",
        "    \"Alice\": 85,\n",
        "    \"Bob\": 92,\n",
        "    \"Charlie\": 78,\n",
        "    \"Alice\":75 # this will overwrite the previous key:vlaue\n",
        "}\n",
        "print(students_score[\"Bob\"])"
      ],
      "metadata": {
        "id": "0nHDp-628VHg"
      },
      "id": "0nHDp-628VHg",
      "execution_count": null,
      "outputs": []
    },
    {
      "cell_type": "code",
      "source": [
        "print(students_score)"
      ],
      "metadata": {
        "id": "zoe_cnkg4u6x"
      },
      "id": "zoe_cnkg4u6x",
      "execution_count": null,
      "outputs": []
    },
    {
      "cell_type": "markdown",
      "id": "6ee84445",
      "metadata": {
        "id": "6ee84445"
      },
      "source": [
        "\n",
        "Now, finding a student's score is much simpler and faster:\n",
        "\n",
        "\n"
      ]
    },
    {
      "cell_type": "code",
      "execution_count": null,
      "id": "e6f73536",
      "metadata": {
        "id": "e6f73536"
      },
      "outputs": [],
      "source": [
        "score : int = students_score[\"Alice\"]\n",
        "print(score)"
      ]
    },
    {
      "cell_type": "code",
      "execution_count": null,
      "id": "0fbf0b36",
      "metadata": {
        "id": "0fbf0b36"
      },
      "outputs": [],
      "source": [
        "print(len(students_score))"
      ]
    },
    {
      "cell_type": "markdown",
      "id": "842720da",
      "metadata": {
        "id": "842720da"
      },
      "source": [
        "This operation is performed in constant time, regardless of the number of students. Because of the direct indexing mechanism provided by the hash function\n",
        "\n",
        "## What Problems Do Dictionaries Solve?\n",
        "\n",
        "### 1. Fast Data Retrieval\n",
        "\n",
        "Dictionaries are optimized for fast data retrieval. Instead of searching through an entire list,  can quickly access any value directly by its key.\n",
        "\n",
        "O(1) (pronounced “order-one”) is Big-O notation for constant time.  \n",
        "O(1) key look-up means you can grab a value from a dictionary almost instantly—Python jumps straight to where the item is stored instead of searching through everything—so the time it takes doesn’t grow as the dictionary gets bigger.\n",
        "\n",
        "### 2. Clearer, More Expressive Code\n",
        "\n",
        "Dictionaries allow us to write clearer and more expressive code. The key-value structure makes it obvious what each item represents, improving code readability.\n",
        "\n",
        "```python\n",
        "\n",
        "# ── Using a plain list ───────────────────────────────────────────────\n",
        "# Hard to know what each slot means without a comment\n",
        "student_list = [\"Sikandar\", 23, 3.71]      # [name, age, GPA]\n",
        "\n",
        "name  = student_list[0]\n",
        "gpa   = student_list[2]\n",
        "\n",
        "# ── Using a dictionary ───────────────────────────────────────────────\n",
        "# Keys make intent obvious at a glance\n",
        "student_dict = {\n",
        "    \"name\": \"Sikandar\",\n",
        "    \"age\": 23,\n",
        "    \"gpa\": 3.71,\n",
        "}\n",
        "\n",
        "name = student_dict[\"name\"]\n",
        "gpa  = student_dict[\"gpa\"]\n",
        "\n",
        "print(f\"{name} has a GPA of {gpa}\")\n",
        "\n",
        "```\n",
        "\n",
        "### 3. Flexibility in Data Organization\n",
        "\n",
        "Dictionaries offer flexibility in how  organize data can store complex structures, like lists or other dictionaries, as values, enabling us to represent nested or hierarchical data.\n",
        "\n",
        "```python\n",
        "# A student's record stored in one flexible dictionary\n",
        "student_record = {\n",
        "    \"name\": \"Sikandar\",                     # simple value\n",
        "    \"scores\": [85, 92, 78],                 # list value\n",
        "    \"contact\": {                            # nested dictionary value\n",
        "        \"email\": \"sikandar@example.com\",\n",
        "        \"phone\": \"+92-333-1234567\"\n",
        "    }\n",
        "}\n",
        "\n",
        "# ── Accessing nested data ────────────────────────────────────────────\n",
        "print(student_record[\"scores\"][1])          # 92  (2nd test score)\n",
        "print(student_record[\"contact\"][\"email\"])   # sikandar@example.com\n",
        "\n",
        "\n",
        "```\n",
        "\n",
        "## Working with Dictionaries in Python\n",
        "\n",
        "### Important Properties\n",
        "- Each key should be unique\n",
        "- Key can be any immutable type of object like tuple, str, int, etc.\n",
        "- `len()` function also works with dictionaries i.e. returns the length of key-value pairs\n",
        "- A dictionary is a one way tool i.e. We can find the value from key but cannot find the key from value. It works the same way as original dictionary.We can find urdu meaning of word in english but not the english meaning of urdu word.\n",
        "- Dictionaries are not a sequence type. So can we use for loop with dictionaries? Yes! We'll see it in below examples.\n",
        "\n",
        "- A sequence in Python is an ordered collection of items. Because the order is fixed, you can:\n",
        "\n",
        "    - access any element by its index (seq[0], seq[-1], etc.),\n",
        "\n",
        "    - iterate from left to right with a for loop,\n",
        "\n",
        "    - take slices (seq[2:5]) to get sub-sequences.\n",
        "\n",
        "    - Built-in sequence types include list, tuple, str, bytes, and range.\n",
        "\n",
        "### Creating a Dictionary\n",
        "\n",
        " can create a dictionary using curly braces `{}` or the `dict()` function.\n",
        "\n",
        "\n"
      ]
    },
    {
      "cell_type": "code",
      "execution_count": null,
      "id": "eaa3eda7",
      "metadata": {
        "id": "eaa3eda7"
      },
      "outputs": [],
      "source": [
        "# Using curly braces\n",
        "students_scores : dict[str, int] = {\n",
        "    \"Bob\": 92,\n",
        "    \"Charlie\": 78,\n",
        "    \"Alice\": 85,\n",
        "}\n",
        "print(students_scores)"
      ]
    },
    {
      "cell_type": "code",
      "execution_count": null,
      "id": "8d3960cd",
      "metadata": {
        "id": "8d3960cd"
      },
      "outputs": [],
      "source": [
        "# Using dict() function\n",
        "students_scores2 : dict[str,int] = dict(Zeeshan=80, Asif=90, Kashif=70)\n",
        "print(students_scores2)\n",
        "\n",
        "# list1 = list((1,2,3,4,5))\n",
        "# print(list1)\n",
        "\n"
      ]
    },
    {
      "cell_type": "markdown",
      "id": "0075710a",
      "metadata": {
        "id": "0075710a"
      },
      "source": [
        "## Accessing Values\n",
        "can access values in a dictionary using the key inside square brackets `[]` or with the `.get()` method.\n",
        "\n",
        "#### Example:\n",
        "\n"
      ]
    },
    {
      "cell_type": "code",
      "execution_count": null,
      "id": "cf0f5768",
      "metadata": {
        "id": "cf0f5768"
      },
      "outputs": [],
      "source": [
        "# Accessing a value directly by key (dictionary indexing).\n",
        "# Raises a KeyError if \"Ali\" isn’t in the dictionary.\n",
        "print(students_scores2[\"Ali\"])        # Error\n",
        "\n",
        "# Accessing a value safely with get(); returns the given default\n",
        "# (“value not found”) if \"Ali\" isn’t present.\n",
        "print(students_scores.get(\"Ali\", \"value not found\"))  # 92"
      ]
    },
    {
      "cell_type": "markdown",
      "id": "0ed6aef5",
      "metadata": {
        "id": "0ed6aef5"
      },
      "source": [
        "#### Handling Missing Keys\n",
        "The `.get()` method is safer for accessing keys, as it returns `None` as a default value if the key is not found, rather than raising a `KeyError`.\n",
        "\n",
        "#### Example:\n",
        "\n"
      ]
    },
    {
      "cell_type": "code",
      "source": [
        "students_scores : dict[str, int] = {\n",
        "    \"Bob\": 92,\n",
        "    \"Charlie\": 78,\n",
        "    \"Alice\": 85,\n",
        "}"
      ],
      "metadata": {
        "id": "ln1M_9b0Uxg6"
      },
      "id": "ln1M_9b0Uxg6",
      "execution_count": null,
      "outputs": []
    },
    {
      "cell_type": "code",
      "execution_count": null,
      "id": "9c157973",
      "metadata": {
        "id": "9c157973"
      },
      "outputs": [],
      "source": [
        "# Using square brackets (raises KeyError if key is not found)\n",
        "# print(student_scores[\"David\"])  # Uncommenting this line would raise KeyError\n",
        "\n",
        "# Using get() (returns None if key is not found)\n",
        "print(students_scores.get(\"David\"))  # Output: None\n",
        "\n",
        "# Providing a default value with get()\n",
        "print(students_scores.get(\"David\", \"Not Found\"))  # Output: Not Found"
      ]
    },
    {
      "cell_type": "markdown",
      "id": "c39a1e7c",
      "metadata": {
        "id": "c39a1e7c"
      },
      "source": [
        "# Adding and Updating Items\n",
        "\n",
        " can add a new key-value pair or update an existing one using square brackets `[]`.\n",
        "\n",
        "#### Example:\n",
        "\n"
      ]
    },
    {
      "cell_type": "code",
      "execution_count": null,
      "id": "7b60ad0c",
      "metadata": {
        "id": "7b60ad0c"
      },
      "outputs": [],
      "source": [
        "# Adding a new key-value pair\n",
        "students_scores[\"David\"] = 88\n",
        "print(students_scores)\n",
        "\n",
        "# Updating an existing key-value pair\n",
        "students_scores[\"Alice\"] = 99\n",
        "print(students_scores)\n"
      ]
    },
    {
      "cell_type": "markdown",
      "id": "21c3992b",
      "metadata": {
        "id": "21c3992b"
      },
      "source": [
        "## Removing Items\n",
        "\n",
        " can remove items using the `del` statement, the `.pop()` method, or the `.popitem()` method.\n",
        "\n",
        "#### Example:\n",
        "\n"
      ]
    },
    {
      "cell_type": "code",
      "execution_count": null,
      "id": "e9d128b4",
      "metadata": {
        "id": "e9d128b4"
      },
      "outputs": [],
      "source": [
        "# Removing a specific key-value pair using del\n",
        "del students_scores[\"Charlie\"]\n",
        "print(students_scores)"
      ]
    },
    {
      "cell_type": "code",
      "execution_count": null,
      "id": "0a096d1d",
      "metadata": {
        "id": "0a096d1d"
      },
      "outputs": [],
      "source": [
        "# Removing a specific key-value pair using pop()\n",
        "removed_score = students_scores.pop(\"David\") # removed_score contains only value\n",
        "print(removed_score)\n",
        "print(students_scores)"
      ]
    },
    {
      "cell_type": "code",
      "execution_count": null,
      "id": "f3e78f0c",
      "metadata": {
        "id": "f3e78f0c"
      },
      "outputs": [],
      "source": [
        "# Removing the last inserted key-value pair using popitem()\n",
        "last_item = students_scores.popitem() # last_item contains key-value and convert to tuple\n",
        "print(last_item)\n",
        "print(students_scores)\n"
      ]
    },
    {
      "cell_type": "markdown",
      "id": "1fbeada8",
      "metadata": {
        "id": "1fbeada8"
      },
      "source": [
        "## Checking if a Key Exists\n",
        "\n",
        " can check if a key exists in a dictionary using the `in` keyword.\n",
        "\n",
        "#### Example:\n",
        "\n"
      ]
    },
    {
      "cell_type": "code",
      "execution_count": null,
      "id": "905e45cf",
      "metadata": {
        "id": "905e45cf"
      },
      "outputs": [],
      "source": [
        "print(\"Alice\" in students_scores)\n",
        "print(\"Bob\" in students_scores)\n"
      ]
    },
    {
      "cell_type": "markdown",
      "id": "f583a5ba",
      "metadata": {
        "id": "f583a5ba"
      },
      "source": [
        "## Iterating Through a Dictionary\n",
        "\n",
        "We can iterate through the keys, values, or key-value pairs in a dictionary using a `for` loop.\n",
        "\n",
        "\n",
        "### Example:\n",
        "\n"
      ]
    },
    {
      "cell_type": "code",
      "execution_count": null,
      "id": "ab0e4231",
      "metadata": {
        "id": "ab0e4231"
      },
      "outputs": [],
      "source": [
        "students_scores : dict[str,int] = {\n",
        "    \"Alice\": 85,\n",
        "    \"Bob\": 92,\n",
        "    \"Charlie\": 78\n",
        "}"
      ]
    },
    {
      "cell_type": "code",
      "execution_count": null,
      "id": "f35deed4",
      "metadata": {
        "id": "f35deed4"
      },
      "outputs": [],
      "source": [
        "# Iterating through keys\n",
        "for student in students_scores.keys():\n",
        "    print(student)"
      ]
    },
    {
      "cell_type": "code",
      "execution_count": null,
      "id": "11451e37",
      "metadata": {
        "id": "11451e37"
      },
      "outputs": [],
      "source": [
        "# Iterating through values\n",
        "for score in students_scores.values():\n",
        "    print(score)"
      ]
    },
    {
      "cell_type": "code",
      "execution_count": null,
      "id": "80594672",
      "metadata": {
        "id": "80594672"
      },
      "outputs": [],
      "source": [
        "# Iterating through key-value pairs\n",
        "for student, score in students_scores.items():\n",
        "    print(f\"{{{student}:{score}}}\")"
      ]
    },
    {
      "cell_type": "code",
      "source": [
        "# Iterating through key-value pairs\n",
        "for student in students_scores.items():\n",
        "    print(f\"{student}\")"
      ],
      "metadata": {
        "id": "Ki999TlQKPfh"
      },
      "id": "Ki999TlQKPfh",
      "execution_count": null,
      "outputs": []
    },
    {
      "cell_type": "code",
      "source": [
        "[i for i in dir(students_scores) if \"__\" not in i]"
      ],
      "metadata": {
        "id": "rcLzSDq2QdlQ"
      },
      "id": "rcLzSDq2QdlQ",
      "execution_count": null,
      "outputs": []
    },
    {
      "cell_type": "markdown",
      "id": "fd30457d",
      "metadata": {
        "id": "fd30457d"
      },
      "source": [
        "## Dictionary Methods\n",
        "\n",
        "#### 1. `.keys()` Method\n",
        "Returns a view object that displays a list of all the keys in the dictionary.\n",
        "\n",
        "*Example:*\n",
        "\n",
        "\n"
      ]
    },
    {
      "cell_type": "code",
      "execution_count": null,
      "id": "779d3d87",
      "metadata": {
        "id": "779d3d87"
      },
      "outputs": [],
      "source": [
        "keys = students_scores.keys()\n",
        "print(keys)\n",
        "print(type(keys))\n",
        "\n",
        "print(\"---------------\")\n",
        "convert_to_list = list(keys)\n",
        "print(convert_to_list)\n",
        "print(type(convert_to_list))\n",
        "\n",
        "print(\"---------------\")\n",
        "convert_to_tuple = tuple(keys)\n",
        "print(convert_to_tuple)\n",
        "print(type(convert_to_tuple))"
      ]
    },
    {
      "cell_type": "markdown",
      "id": "ac78cc09",
      "metadata": {
        "id": "ac78cc09"
      },
      "source": [
        "#### 2. `.values()` Method\n",
        "Returns a view object that displays a list of all the values in the dictionary.\n",
        "\n",
        "*Example:*\n",
        "\n"
      ]
    },
    {
      "cell_type": "code",
      "execution_count": null,
      "id": "95ea4997",
      "metadata": {
        "id": "95ea4997"
      },
      "outputs": [],
      "source": [
        "values = students_scores.values()\n",
        "print(values)\n",
        "print(type(values))"
      ]
    },
    {
      "cell_type": "markdown",
      "id": "efc2eafe",
      "metadata": {
        "id": "efc2eafe"
      },
      "source": [
        "#### 3. `.items()` Method\n",
        "Returns a view object that displays a list of the dictionary’s key-value tuple pairs.\n",
        "\n",
        "*Example:*\n",
        "\n",
        "\n"
      ]
    },
    {
      "cell_type": "code",
      "execution_count": null,
      "id": "cc7a9cfb",
      "metadata": {
        "id": "cc7a9cfb"
      },
      "outputs": [],
      "source": [
        "items = students_scores.items()\n",
        "print(items)\n",
        "print(type(items))"
      ]
    },
    {
      "cell_type": "markdown",
      "id": "cc349569",
      "metadata": {
        "id": "cc349569"
      },
      "source": [
        "#### 4. `.update()` Method\n",
        "Updates the dictionary with elements from another dictionary or from an iterable of key-value pairs.\n",
        "\n",
        "*Example:*\n",
        "\n"
      ]
    },
    {
      "cell_type": "code",
      "source": [
        "students_scores : dict[str,int] = {\n",
        "    \"Alice\": 85,\n",
        "    \"Bob\": 92,\n",
        "    \"Charlie\": 78\n",
        "}"
      ],
      "metadata": {
        "id": "dTUGgOcIY5IH"
      },
      "id": "dTUGgOcIY5IH",
      "execution_count": null,
      "outputs": []
    },
    {
      "cell_type": "code",
      "source": [
        "print(students_scores)"
      ],
      "metadata": {
        "id": "A6nv6hvpYh6N"
      },
      "id": "A6nv6hvpYh6N",
      "execution_count": null,
      "outputs": []
    },
    {
      "cell_type": "code",
      "execution_count": null,
      "id": "210e9cda",
      "metadata": {
        "id": "210e9cda"
      },
      "outputs": [],
      "source": [
        "additional_scores = {\"Eve\": 95, \"Frank\": 87, 'Bob':50}\n",
        "students_scores.update(additional_scores)\n",
        "print(students_scores)"
      ]
    },
    {
      "cell_type": "markdown",
      "id": "4ccf3fb4",
      "metadata": {
        "id": "4ccf3fb4"
      },
      "source": [
        "#### 5. `.clear()` Method\n",
        "Removes all items from the dictionary.\n",
        "\n",
        "*Example:*\n",
        "\n"
      ]
    },
    {
      "cell_type": "code",
      "execution_count": null,
      "id": "0e0e85b7",
      "metadata": {
        "id": "0e0e85b7"
      },
      "outputs": [],
      "source": [
        "students_scores.clear()\n",
        "print(students_scores)"
      ]
    },
    {
      "cell_type": "markdown",
      "id": "11a78e9b",
      "metadata": {
        "id": "11a78e9b"
      },
      "source": [
        "#### 5. `.copy()` Method\n",
        "\n"
      ]
    },
    {
      "cell_type": "code",
      "execution_count": null,
      "id": "49883869",
      "metadata": {
        "id": "49883869"
      },
      "outputs": [],
      "source": [
        "students_scores : dict[str,int] = {\n",
        "    \"Alice\": 85,\n",
        "    \"Bob\": 92,\n",
        "    \"Charlie\": 78\n",
        "}\n",
        "new = students_scores # shallow copy\n",
        "print(id(new))\n",
        "print(id(students_scores))\n",
        "print(new)"
      ]
    },
    {
      "cell_type": "code",
      "execution_count": null,
      "id": "ec303d4e",
      "metadata": {
        "id": "ec303d4e"
      },
      "outputs": [],
      "source": [
        "students_scores_copy = students_scores.copy() # deep copy\n",
        "print(students_scores_copy)"
      ]
    },
    {
      "cell_type": "code",
      "source": [
        "print(id(students_scores))\n",
        "print(id(students_scores_copy))"
      ],
      "metadata": {
        "id": "H7j3cHIqR1fN"
      },
      "id": "H7j3cHIqR1fN",
      "execution_count": null,
      "outputs": []
    },
    {
      "cell_type": "markdown",
      "id": "57b55704",
      "metadata": {
        "id": "57b55704"
      },
      "source": [
        "## Dictionary Comprehension\n",
        "We can also apply comprehension method on dictionaries.\n",
        "\n",
        "*Example:*\n",
        "\n"
      ]
    },
    {
      "cell_type": "code",
      "execution_count": null,
      "id": "b818c9e9",
      "metadata": {
        "id": "b818c9e9"
      },
      "outputs": [],
      "source": [
        "values : dict[int,int] = {x:x*2 for x in range(5)}\n",
        "print(values)"
      ]
    },
    {
      "cell_type": "markdown",
      "id": "5cc8137a",
      "metadata": {
        "id": "5cc8137a"
      },
      "source": [
        "*Example:*\n",
        "\n"
      ]
    },
    {
      "cell_type": "code",
      "source": [
        "fruits : list[str] = [\"apple\", \"banana\", \"orange\"]\n",
        "list1 = [1,2,3,4,5]\n",
        "list_comp = [i*2 for i in list1]\n",
        "print(list_comp)\n",
        "for i, fruit in enumerate(fruits):\n",
        "    print(i,fruit)\n"
      ],
      "metadata": {
        "id": "IMTHQREnZyN1"
      },
      "id": "IMTHQREnZyN1",
      "execution_count": null,
      "outputs": []
    },
    {
      "cell_type": "code",
      "execution_count": null,
      "id": "b425e12c",
      "metadata": {
        "id": "b425e12c"
      },
      "outputs": [],
      "source": [
        "# convert list into dictionary\n",
        "fruits : list[str] = [\"apple\", \"banana\", \"orange\"]\n",
        "# list1 = [1,2,3,4,5]\n",
        "# list_comp = [i*2 for i in list1]\n",
        "# print(list_comp)\n",
        "# for i, fruit in enumerate(fruits):\n",
        "#     print(i,fruit)\n",
        "\n",
        "fruits_dict : dict[int,str] = {i:fruit for i, fruit in enumerate(fruits)}\n",
        "                            # index: value {0:\"apple\",1:\"banana\"}\n",
        "print(fruits_dict)"
      ]
    },
    {
      "cell_type": "markdown",
      "id": "b655de0e",
      "metadata": {
        "id": "b655de0e"
      },
      "source": [
        "## Projects\n",
        "\n",
        "### Project 1: Student Gradebook\n",
        "\n",
        "#### **Write a program to :**\n",
        "- Create a dictionary to store student names as keys and their grades as values.\n",
        "- Allow the user to input new student-grade pairs and update existing entries.\n",
        "\n",
        "#### **Breakdown into step by step:**\n",
        "1. **Initialize an empty dictionary** to store student names (keys) and their grades (values).\n",
        "\n",
        "2. **Create a loop** to continuously allow the user to input data until they choose to stop.\n",
        "  - 1. Add or Update a student\n",
        "  - 2. View all students and grades\n",
        "  - 3. Exit\n",
        "\n",
        "3. **Prompt the user** to enter a student's name.\n",
        "\n",
        "4. **Check if the name is already in the dictionary:**\n",
        "   - **If it is**, then update the grade and update the dictionary.\n",
        "   - **If not**, then add the grade and add into the dictionary.\n",
        "\n",
        "5. **Ask the user** if they want to add another student or update another grade.\n",
        "\n",
        "\n",
        "\n"
      ]
    },
    {
      "cell_type": "markdown",
      "source": [
        "### Project 2: Employee Directory\n",
        "Build a program to:\n",
        "- Create a dictionary with employee IDs as keys and their names as values.\n",
        "- Add functionalities to search, add, and delete employees."
      ],
      "metadata": {
        "id": "Fh5Coww5aQ-4"
      },
      "id": "Fh5Coww5aQ-4"
    }
  ],
  "metadata": {
    "colab": {
      "provenance": []
    },
    "language_info": {
      "name": "python"
    },
    "kernelspec": {
      "name": "python3",
      "display_name": "Python 3"
    }
  },
  "nbformat": 4,
  "nbformat_minor": 5
}
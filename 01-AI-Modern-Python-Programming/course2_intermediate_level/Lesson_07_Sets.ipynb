{
 "cells": [
  {
   "cell_type": "markdown",
   "metadata": {},
   "source": [
    "# Sets, Hashing & Frozenset in Python\n",
    "\n",
    "> **Author:** Muhammad Hammad ([GitHub](https://github.com/DevHammad0))\n",
    "\n",
    "---"
   ]
  },
  {
   "cell_type": "markdown",
   "metadata": {},
   "source": [
    "## 1. The Set Data Type\n",
    "\n",
    "A **set** in Python is a built-in data type for storing unordered collections of **unique** and **immutable** elements. Unlike lists or tuples, sets do not allow duplicates.\n",
    "\n",
    "**Key Properties:**\n",
    "- Unordered (no guaranteed order)\n",
    "- Unindexed (no positions)\n",
    "- Mutable (can add or remove items)\n",
    "- Elements must be immutable (e.g., numbers, strings, tuples)\n",
    "\n",
    "Other Python collections: `list`, `tuple`, `dict`."
   ]
  },
  {
   "cell_type": "code",
   "execution_count": null,
   "metadata": {},
   "outputs": [],
   "source": [
    "# Creating sets\n",
    "my_set = {123, 452, 5, 6}\n",
    "my_set2 = set([123, 452, 5, 6])\n",
    "unknown = {}           # This creates an empty dict, not a set!\n",
    "empty_set = set()      # Correct way to create an empty set\n",
    "\n",
    "print(\"my_set:\", my_set)\n",
    "print(\"my_set2:\", my_set2)\n",
    "print(\"type(unknown):\", type(unknown))\n",
    "print(\"type(empty_set):\", type(empty_set))\n",
    "print(\"my_set == my_set2:\", my_set == my_set2)"
   ]
  },
  {
   "cell_type": "markdown",
   "metadata": {},
   "source": [
    "## 1.1 Sets Only Hold Immutable Objects\n",
    "\n",
    "You can only store immutable (hashable) elements in a set. Lists or dictionaries are not allowed as set elements."
   ]
  },
  {
   "cell_type": "code",
   "execution_count": null,
   "metadata": {},
   "outputs": [],
   "source": [
    "# Attempting to put a list in a set raises an error\n",
    "\n",
    "my_set = {[123, 452, 5, 6]}\n",
    "print(my_set)"
   ]
  },
  {
   "cell_type": "markdown",
   "metadata": {},
   "source": [
    "## 1.2 Sets Can Hold Multiple Data Types\n",
    "\n",
    "As long as the elements are immutable, you can mix types!"
   ]
  },
  {
   "cell_type": "code",
   "execution_count": null,
   "metadata": {},
   "outputs": [],
   "source": [
    "multi_type_set = {7, 9.0, False, True, \"Hello! World\", (1, 5, 9, 'hi')}\n",
    "print(multi_type_set)"
   ]
  },
  {
   "cell_type": "markdown",
   "metadata": {},
   "source": [
    "## 1.3 Sets are Unordered\n",
    "\n",
    "Order is not preserved and can change as elements are added/removed."
   ]
  },
  {
   "cell_type": "code",
   "execution_count": null,
   "metadata": {},
   "outputs": [],
   "source": [
    "set2 = {'Java', 'Python', 'JavaScript', 'java'}\n",
    "print(set2)"
   ]
  },
  {
   "cell_type": "markdown",
   "metadata": {},
   "source": [
    "> Internally, Python stores set elements by their hash values. The order is not predictable or stable.\n",
    "---"
   ]
  },
  {
   "cell_type": "markdown",
   "metadata": {},
   "source": [
    "## 1.4 Sets Cannot Be Changed by Index\n",
    "\n",
    "You cannot modify set items by index. You can only add or remove elements."
   ]
  },
  {
   "cell_type": "code",
   "execution_count": null,
   "metadata": {},
   "outputs": [],
   "source": [
    "my_set = {1, 2, 3, 4, 5}\n",
    "print(my_set)\n",
    "\n",
    "my_set[0] = 10\n"
   ]
  },
  {
   "cell_type": "markdown",
   "metadata": {},
   "source": [
    "### Add, Remove and Update Elements"
   ]
  },
  {
   "cell_type": "code",
   "execution_count": null,
   "metadata": {},
   "outputs": [],
   "source": [
    "my_set.add(6)  # Add element\n",
    "print(\"Added 6:\", my_set)\n",
    "\n",
    "my_set.remove(3)  # Remove element (raises error if not present)\n",
    "print(\"Removed 3:\", my_set)\n",
    "\n",
    "my_set.discard('A')  # Discard (no error if not present)\n",
    "print(\"Discarded 'A':\", my_set)\n",
    "\n",
    "my_set.update([7, 8, 9, \"Hello\"])   # Add multiple items\n",
    "print(\"Added multiple:\", my_set)\n",
    "\n",
    "my_set.difference_update({8, 9, \"Hello\"})   # Remove multiple elements at once\n",
    "print(\"Removed multiple:\", my_set)"
   ]
  },
  {
   "cell_type": "markdown",
   "metadata": {},
   "source": [
    "### Set Union\n",
    "\n",
    "Combine two sets using `union()` or the `|` operator."
   ]
  },
  {
   "cell_type": "code",
   "execution_count": null,
   "metadata": {},
   "outputs": [],
   "source": [
    "set1 = {1, 2, 3, 5}\n",
    "set2 = {1, 5, 6, 7}\n",
    "print(\"Using union() method:\", set1.union(set2))\n",
    "print(\"Using | operator:\", set1 | set2)"
   ]
  },
  {
   "cell_type": "markdown",
   "metadata": {},
   "source": [
    "**Note:** Sets always store unique elements. Adding a duplicate does nothing."
   ]
  },
  {
   "cell_type": "code",
   "execution_count": null,
   "metadata": {},
   "outputs": [],
   "source": [
    "my_set = {1, 2, 3, 4, 5, \"Hello! World\"}\n",
    "my_set.add(2)\n",
    "my_set.add(\"Hello! World\")\n",
    "print(my_set)"
   ]
  },
  {
   "cell_type": "markdown",
   "metadata": {},
   "source": [
    "### Remove vs Discard\n",
    "\n",
    "- `remove(x)`: Removes x, raises KeyError if missing\n",
    "- `discard(x)`: Removes x if present, does nothing if missing"
   ]
  },
  {
   "cell_type": "code",
   "execution_count": null,
   "metadata": {},
   "outputs": [],
   "source": [
    "my_set = {1, 2, 3}\n",
    "\n",
    "# my_set.remove(4)    # Raises KeyError\n",
    "\n",
    "my_set.discard(4)  # No error\n",
    "print(my_set)"
   ]
  },
  {
   "cell_type": "markdown",
   "metadata": {},
   "source": [
    "### Pop Method\n",
    "\n",
    "Removes and returns an arbitrary element."
   ]
  },
  {
   "cell_type": "code",
   "execution_count": null,
   "metadata": {},
   "outputs": [],
   "source": [
    "my_set = {1, 2, 3}\n",
    "print(\"Before pop:\", my_set)\n",
    "removed = my_set.pop()\n",
    "print(\"Popped value:\", removed)\n",
    "print(\"After pop:\", my_set)"
   ]
  },
  {
   "cell_type": "markdown",
   "metadata": {},
   "source": [
    "### Set All Methods"
   ]
  },
  {
   "cell_type": "code",
   "execution_count": null,
   "metadata": {},
   "outputs": [],
   "source": [
    "[i for i in dir(my_set) if not i.startswith('__')]"
   ]
  },
  {
   "cell_type": "markdown",
   "metadata": {},
   "source": [
    "# 2. What is Hashing?\n",
    "\n",
    "**Hashing** is a process in computer science where data (like a string or number) is converted into a fixed-size numerical value, called a **hash value** or **hash code**. This value is calculated using a hash function.\n",
    "\n",
    "In Python, immutable objects (like strings, numbers, and tuples) have a built-in hash value. Sets and dictionaries use these hash values to determine where to store elements in memory. This allows for very fast lookup, insertion, and deletion operations.\n",
    "\n",
    "### Example: Hash Values\n",
    "Let's see the hash values for strings:"
   ]
  },
  {
   "cell_type": "code",
   "execution_count": null,
   "metadata": {},
   "outputs": [],
   "source": [
    "a = \"Hello! World\"\n",
    "b = \"Hello! World\"\n",
    "print(\"id(a):\", id(a))\n",
    "print(\"id(b):\", id(b))\n",
    "print(\"hash(a):\", hash(a))\n",
    "print(\"hash(b):\", hash(b))"
   ]
  },
  {
   "cell_type": "markdown",
   "metadata": {},
   "source": [
    "- Notice how two equal strings have the same hash value.\n",
    "- Hashing enables **O(1)** average-time complexity for set and dict operations.\n",
    "- Only immutable objects are hashable and can be used as set elements or dict keys."
   ]
  },
  {
   "cell_type": "markdown",
   "metadata": {},
   "source": [
    "Trying to use a set (which is mutable) as a dictionary key will fail:"
   ]
  },
  {
   "cell_type": "code",
   "execution_count": null,
   "metadata": {},
   "outputs": [],
   "source": [
    "\n",
    "y_set = {1, 2, 3}\n",
    "my_dict = {my_set: \"Hello!\"}  # Error: set is not hashable!"
   ]
  },
  {
   "cell_type": "markdown",
   "metadata": {},
   "source": [
    "# 3. The Inner Working of Sets (and Why Set Order Changes)\n",
    "\n",
    "Sets use hash tables internally. Elements are stored according to their hash values. When you add or remove elements, the internal order may change (this is called **rehashing**)."
   ]
  },
  {
   "cell_type": "code",
   "execution_count": null,
   "metadata": {},
   "outputs": [],
   "source": [
    "my_set = {10, 3, 5, 8}\n",
    "print(\"Initial:\", my_set)\n",
    "my_set.add(20)\n",
    "print(\"After adding 20:\", my_set)\n",
    "my_set.remove(10)\n",
    "print(\"After removing 10:\", my_set)"
   ]
  },
  {
   "cell_type": "markdown",
   "metadata": {},
   "source": [
    "# 4. Frozenset\n",
    "\n",
    "A **frozenset** is an immutable version of a set:\n",
    "- Cannot add or remove elements\n",
    "- Hashable (can be used as dict keys or set elements)\n",
    "- Created with `frozenset([iterable])`"
   ]
  },
  {
   "cell_type": "code",
   "execution_count": null,
   "metadata": {},
   "outputs": [],
   "source": [
    "fset = frozenset([1, 2, 3, 4, \"hello\"])\n",
    "print(fset)\n",
    "# Uncommenting the next line will raise an error:\n",
    "# fset.add(5)"
   ]
  },
  {
   "cell_type": "markdown",
   "metadata": {},
   "source": [
    "### Frozenset as Dictionary Key"
   ]
  },
  {
   "cell_type": "code",
   "execution_count": null,
   "metadata": {},
   "outputs": [],
   "source": [
    "fset = frozenset([1, 2, 3])\n",
    "my_dict = {fset: \"Value\"}\n",
    "print(my_dict)"
   ]
  },
  {
   "cell_type": "code",
   "execution_count": null,
   "metadata": {},
   "outputs": [],
   "source": [
    "[i for i in dir(fset) if not i.startswith('__')]"
   ]
  },
  {
   "cell_type": "markdown",
   "metadata": {},
   "source": [
    "# 5. Sets vs Frozensets: Comparison Table\n",
    "\n",
    "| Feature         | Set           | Frozenset      |\n",
    "| --------------- | ------------- | -------------- |\n",
    "| Mutable         | Yes           | No             |\n",
    "| Hashable        | No            | Yes            |\n",
    "| Can be dict key | No            | Yes            |\n",
    "| Can be changed  | Yes           | No             |\n",
    "| Syntax          | set(), {}     | frozenset()    |"
   ]
  },
  {
   "cell_type": "markdown",
   "metadata": {},
   "source": [
    "# 6. Garbage Collection (GC) in Python (Advanced)\n",
    "\n",
    "Python automatically manages memory using **garbage collection**. When objects like sets or frozensets are no longer referenced, Python frees their memory automatically.\n",
    "\n",
    "### How Does It Work?\n",
    "- When you create an object, like a set {1, 2, 3}, it’s stored in memory.\n",
    "- Python keeps track of whether an object is still being used by checking if anything in your program (like a variable) is referencing it.\n",
    "- If an object has no references (nothing points to it anymore), it’s like trash sitting around. The garbage collector finds it and removes it, freeing up memory."
   ]
  },
  {
   "cell_type": "markdown",
   "metadata": {},
   "source": [
    "# 7. Summary\n",
    "\n",
    "- Sets are unordered, mutable collections of unique, immutable elements.\n",
    "- Frozensets are immutable and can be used as dict keys.\n",
    "- Hashing enables efficient set operations.\n",
    "- Use sets for changeable collections, frozensets for fixed, hashable collections.\n",
    "- Python cleans up unused objects automatically via garbage collection."
   ]
  },
  {
   "cell_type": "markdown",
   "metadata": {},
   "source": [
    "## 📝 Assignment: Explore Remaining Set Methods in Python\n",
    "\n",
    "In this assignment, you are required to explore and demonstrate the **Python set methods** that we did **not cover in class**.\n",
    "\n",
    "### ✅ Instructions:\n",
    "\n",
    "1. Below is the list of **all set methods** you want to explore.\n",
    "2. You must **use each of the following methods one by one**:\n",
    "   - `clear`\n",
    "   - `copy`\n",
    "   - `difference`\n",
    "   - `intersection`\n",
    "   - `intersection_update`\n",
    "   - `isdisjoint`\n",
    "   - `issubset`\n",
    "   - `issuperset`\n",
    "   - `symmetric_difference`\n",
    "   - `symmetric_difference_update`\n",
    "3. For **each method**, do the following:\n",
    "   - Write a **one-line explanation** in a **Markdown/text cell**.\n",
    "   - Show a **simple example** of how the method works in a **code cell**.\n",
    "\n",
    "> ⚠️ Methods that we **already covered in class** (you do NOT need to include them again):\n",
    "> - `add`\n",
    "> - `pop`\n",
    "> - `update`\n",
    "> - `difference_update`\n",
    "> - `discard`\n",
    "> - `remove`\n",
    "> - `union`\n",
    "\n",
    "---\n",
    "\n",
    "🔁 **Goal**: After completing this, you should be confident using all built-in set methods in Python and understand when to apply each.\n",
    "\n",
    "📌 Submit your completed notebook as instructed.\n",
    "\n",
    "Happy coding! 🐍✨\n",
    "\"\"\""
   ]
  },
  {
   "cell_type": "markdown",
   "metadata": {},
   "source": []
  }
 ],
 "metadata": {
  "kernelspec": {
   "display_name": "aiclass",
   "language": "python",
   "name": "python3"
  },
  "language_info": {
   "codemirror_mode": {
    "name": "ipython",
    "version": 3
   },
   "file_extension": ".py",
   "mimetype": "text/x-python",
   "name": "python",
   "nbconvert_exporter": "python",
   "pygments_lexer": "ipython3",
   "version": "3.12.0"
  }
 },
 "nbformat": 4,
 "nbformat_minor": 2
}

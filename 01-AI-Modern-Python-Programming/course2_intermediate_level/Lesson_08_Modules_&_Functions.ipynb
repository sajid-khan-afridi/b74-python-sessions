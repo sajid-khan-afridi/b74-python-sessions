{
 "cells": [
  {
   "cell_type": "markdown",
   "metadata": {},
   "source": [
    "# Lesson 08: Python Modules & Functions"
   ]
  },
  {
   "cell_type": "markdown",
   "metadata": {},
   "source": [
    "## 1. Python Modules"
   ]
  },
  {
   "cell_type": "markdown",
   "metadata": {},
   "source": [
    "### 1.1 What is a Module?\n",
    "- A **module** is a file containing Python code (functions, classes, variables, etc.) for organizing and reusing code efficiently.\n",
    "- A module is simply a `.py` file importable in other Python programs.\n",
    "- Python has built-in modules (like `math`, `random`, `os`) and supports user-created modules."
   ]
  },
  {
   "cell_type": "markdown",
   "metadata": {},
   "source": [
    "### 1.2 Types of Modules"
   ]
  },
  {
   "cell_type": "markdown",
   "metadata": {},
   "source": [
    "#### 1.2.1 Built-in Modules (Standard Library)\n",
    "- Pre-installed modules in Python.\n",
    "- Examples: `math`, `random`, `os`, `sys`"
   ]
  },
  {
   "cell_type": "code",
   "execution_count": null,
   "metadata": {},
   "outputs": [],
   "source": [
    "import math\n",
    "print(math.sqrt(25))  # Output: 5.0"
   ]
  },
  {
   "cell_type": "markdown",
   "metadata": {},
   "source": [
    "#### 1.2.2 User-Defined Modules (Custom Modules)\n",
    "- Any Python file (`.py`) you create can be used as a module."
   ]
  },
  {
   "cell_type": "markdown",
   "metadata": {},
   "source": [
    "Create `mymodule.py` (in Colab, use `%%writefile`):"
   ]
  },
  {
   "cell_type": "code",
   "execution_count": null,
   "metadata": {},
   "outputs": [],
   "source": [
    "%%writefile mymodule.py\n",
    "def add(a, b):\n",
    "    return a + b"
   ]
  },
  {
   "cell_type": "code",
   "execution_count": null,
   "metadata": {},
   "outputs": [],
   "source": [
    "import mymodule\n",
    "print(mymodule.add(5, 3))  # Output: 8"
   ]
  },
  {
   "cell_type": "markdown",
   "metadata": {},
   "source": [
    "#### 1.2.3 External Modules (Third-party Libraries)\n",
    "- Installed via `pip`.\n",
    "- Examples: `numpy`, `pandas`, `requests`"
   ]
  },
  {
   "cell_type": "code",
   "execution_count": null,
   "metadata": {},
   "outputs": [],
   "source": [
    "# !pip install requests"
   ]
  },
  {
   "cell_type": "code",
   "execution_count": null,
   "metadata": {},
   "outputs": [],
   "source": [
    "import requests\n",
    "response = requests.get(\"https://www.example.com\")\n",
    "print(response.status_code)"
   ]
  },
  {
   "cell_type": "markdown",
   "metadata": {},
   "source": [
    "### 1.3 How to Import a Module"
   ]
  },
  {
   "cell_type": "markdown",
   "metadata": {},
   "source": [
    "**1. Basic Import**"
   ]
  },
  {
   "cell_type": "code",
   "execution_count": null,
   "metadata": {},
   "outputs": [],
   "source": [
    "import math\n",
    "print(math.pi)  # Output: 3.141592653589793"
   ]
  },
  {
   "cell_type": "markdown",
   "metadata": {},
   "source": [
    "**2. Import with Alias (as)**"
   ]
  },
  {
   "cell_type": "code",
   "execution_count": null,
   "metadata": {},
   "outputs": [],
   "source": [
    "import numpy as np\n",
    "print(np.array([1, 2, 3]))"
   ]
  },
  {
   "cell_type": "markdown",
   "metadata": {},
   "source": [
    "**3. Import Specific Functions or Variables**"
   ]
  },
  {
   "cell_type": "code",
   "execution_count": null,
   "metadata": {},
   "outputs": [],
   "source": [
    "from math import sqrt, pi\n",
    "print(sqrt(16))  # Output: 4.0\n",
    "print(pi)        # Output: 3.141592653589793"
   ]
  },
  {
   "cell_type": "markdown",
   "metadata": {},
   "source": [
    "**4. Import with Alias for Functions**"
   ]
  },
  {
   "cell_type": "code",
   "execution_count": null,
   "metadata": {},
   "outputs": [],
   "source": [
    "from math import sqrt as s, pi as p\n",
    "print(s(16))\n",
    "print(p)"
   ]
  },
  {
   "cell_type": "markdown",
   "metadata": {},
   "source": [
    "**5. Import Everything (Wildcard Import)**\n",
    "> Not recommended for large modules."
   ]
  },
  {
   "cell_type": "code",
   "execution_count": null,
   "metadata": {},
   "outputs": [],
   "source": [
    "from math import *\n",
    "print(sin(0))  # Output: 0.0"
   ]
  },
  {
   "cell_type": "markdown",
   "metadata": {},
   "source": [
    "### 1.4 Advantages of Modules\n",
    "- **Code Reusability**: Write once, use anywhere.\n",
    "- **Organization**: Keep related functions together.\n",
    "- **Namespace Management**: Prevents variable conflicts.\n",
    "- **Faster Development**: Use existing libraries."
   ]
  },
  {
   "cell_type": "markdown",
   "metadata": {},
   "source": [
    "---\n",
    "## 2. Functions in Python"
   ]
  },
  {
   "cell_type": "markdown",
   "metadata": {},
   "source": [
    "### 2.1 What is a Function?\n",
    "A **function** is a reusable block of code that performs a specific task."
   ]
  },
  {
   "cell_type": "markdown",
   "metadata": {},
   "source": [
    "- Simplifies repetitive operations\n",
    "- Improves code organization\n",
    "- Reduces redundancy"
   ]
  },
  {
   "cell_type": "markdown",
   "metadata": {},
   "source": [
    "### 2.2 Why Use Functions?\n",
    "- **Code Reusability**\n",
    "- **Avoid Code Duplication (DRY)**\n",
    "- **Simplify Debugging**\n",
    "- **Modular Design**\n",
    "> **Best Practice:** Use [PEP 8](https://peps.python.org/pep-0008/) naming conventions (e.g., `calculate_total`)."
   ]
  },
  {
   "cell_type": "markdown",
   "metadata": {},
   "source": [
    "### 2.3 Types of Functions\n",
    "1. **Built-in Functions:** e.g., `print()`, `len()`, `type()`\n",
    "2. **User-Defined Functions:** Functions written by users."
   ]
  },
  {
   "cell_type": "markdown",
   "metadata": {},
   "source": [
    "### 2.4 Creating and Using Functions\n",
    "**Syntax:**"
   ]
  },
  {
   "cell_type": "code",
   "execution_count": null,
   "metadata": {},
   "outputs": [],
   "source": [
    "def function_name(parameters):\n",
    "    \"\"\"Optional docstring.\"\"\"\n",
    "    # Function body\n",
    "    return result"
   ]
  },
  {
   "cell_type": "markdown",
   "metadata": {},
   "source": [
    "**Calling a Function:**"
   ]
  },
  {
   "cell_type": "code",
   "execution_count": null,
   "metadata": {},
   "outputs": [],
   "source": [
    "function_name(arguments)"
   ]
  },
  {
   "cell_type": "markdown",
   "metadata": {},
   "source": [
    "> **Tip:** Use docstrings to describe the function’s purpose, parameters, and return value."
   ]
  },
  {
   "cell_type": "markdown",
   "metadata": {},
   "source": [
    "#### Example: A Simple Function"
   ]
  },
  {
   "cell_type": "code",
   "execution_count": null,
   "metadata": {},
   "outputs": [],
   "source": [
    "def print_number():\n",
    "    \"\"\"Prompts the user for a number and prints it.\"\"\"\n",
    "    number = int(input(\"Enter a number: \"))\n",
    "    print(f\"You entered: {number}\")\n",
    "# print_number()  # Uncomment to test interactively"
   ]
  },
  {
   "cell_type": "markdown",
   "metadata": {},
   "source": [
    "---\n",
    "## 3. Function Parameters and Arguments"
   ]
  },
  {
   "cell_type": "markdown",
   "metadata": {},
   "source": [
    "### 3.1 Parameterless Functions"
   ]
  },
  {
   "cell_type": "code",
   "execution_count": null,
   "metadata": {},
   "outputs": [],
   "source": [
    "def greet():\n",
    "    \"\"\"Prints a generic greeting.\"\"\"\n",
    "    print(\"Hello!\")\n",
    "greet()"
   ]
  },
  {
   "cell_type": "markdown",
   "metadata": {},
   "source": [
    "### 3.2 Parameterized Functions"
   ]
  },
  {
   "cell_type": "code",
   "execution_count": null,
   "metadata": {},
   "outputs": [],
   "source": [
    "def greet(name):\n",
    "    \"\"\"Prints a personalized greeting.\"\"\"\n",
    "    print(f\"Hello, {name}!\")\n",
    "greet(\"Ali\")"
   ]
  },
  {
   "cell_type": "markdown",
   "metadata": {},
   "source": [
    "### 3.3 Difference Between Parameters and Arguments\n",
    "- **Parameters:** Variables in the function definition.\n",
    "- **Arguments:** Values passed to the function."
   ]
  },
  {
   "cell_type": "markdown",
   "metadata": {},
   "source": [
    "> **Additional Insight:** Python allows default parameter values:"
   ]
  },
  {
   "cell_type": "code",
   "execution_count": null,
   "metadata": {},
   "outputs": [],
   "source": [
    "def greet(name=\"Guest\"):\n",
    "    print(f\"Hello, {name}!\")\n",
    "\n",
    "greet()         # Hello, Guest!\n",
    "greet(\"Alice\") # Hello, Alice!"
   ]
  },
  {
   "cell_type": "markdown",
   "metadata": {},
   "source": [
    "> **Warning:** Avoid using mutable objects (e.g., lists, dicts) as default parameter values."
   ]
  },
  {
   "cell_type": "markdown",
   "metadata": {},
   "source": [
    "---\n",
    "## 4. Function Return Types"
   ]
  },
  {
   "cell_type": "markdown",
   "metadata": {},
   "source": [
    "### 4.1 Single Value Return"
   ]
  },
  {
   "cell_type": "code",
   "execution_count": null,
   "metadata": {},
   "outputs": [],
   "source": [
    "def add(a, b):\n",
    "    \"\"\"Returns the sum of two numbers.\"\"\"\n",
    "    return a + b\n",
    "\n",
    "result = add(4, 5)\n",
    "print(result)"
   ]
  },
  {
   "cell_type": "markdown",
   "metadata": {},
   "source": [
    "### 4.2 Return Multiple Values"
   ]
  },
  {
   "cell_type": "code",
   "execution_count": null,
   "metadata": {},
   "outputs": [],
   "source": [
    "def operations(a, b):\n",
    "    \"\"\"Returns both the sum and product of two numbers.\"\"\"\n",
    "    return a + b, a * b\n",
    "\n",
    "result = operations(3, 5)\n",
    "print(result)\n",
    "\n",
    "sum_val, prod_val = operations(3, 5)\n",
    "print(f\"Sum: {sum_val}, Product: {prod_val}\")"
   ]
  },
  {
   "cell_type": "markdown",
   "metadata": {},
   "source": [
    "### 4.3 Returning Collections"
   ]
  },
  {
   "cell_type": "code",
   "execution_count": null,
   "metadata": {},
   "outputs": [],
   "source": [
    "def get_student():\n",
    "    \"\"\"Returns a dictionary with student data.\"\"\"\n",
    "    return {\"name\": \"Ali\", \"age\": 20}\n",
    "\n",
    "print(get_student())"
   ]
  },
  {
   "cell_type": "markdown",
   "metadata": {},
   "source": [
    "---\n",
    "## 5. Positional and Keyword Arguments"
   ]
  },
  {
   "cell_type": "markdown",
   "metadata": {},
   "source": [
    "### 5.1 Positional Arguments\n",
    "Arguments assigned to parameters based on their position:"
   ]
  },
  {
   "cell_type": "code",
   "execution_count": null,
   "metadata": {},
   "outputs": [],
   "source": [
    "def greet(name, message):\n",
    "    print(f\"{message}, {name}!\")\n",
    "\n",
    "greet(\"Ali\", \"Hello\")\n",
    "greet(\"Hello\", \"Ali\")"
   ]
  },
  {
   "cell_type": "markdown",
   "metadata": {},
   "source": [
    "### 5.2 Keyword Arguments\n",
    "Arguments explicitly named, so order does not matter:"
   ]
  },
  {
   "cell_type": "code",
   "execution_count": null,
   "metadata": {},
   "outputs": [],
   "source": [
    "def greet(name, message):\n",
    "    print(f\"{message}, {name}!\")\n",
    "\n",
    "greet(message=\"Hello\", name=\"Ali\")"
   ]
  },
  {
   "cell_type": "markdown",
   "metadata": {},
   "source": [
    "### 5.3 Combining Positional and Keyword Arguments\n",
    "- Positional arguments must come before keyword arguments.\n",
    "- Use keyword arguments for clarity."
   ]
  },
  {
   "cell_type": "code",
   "execution_count": null,
   "metadata": {},
   "outputs": [],
   "source": [
    "def describe_person(name, age, city):\n",
    "    print(f\"{name} is {age} years old and lives in {city}.\")\n",
    "\n",
    "describe_person(\"Ali\", city=\"Karachi\", age=25)"
   ]
  },
  {
   "cell_type": "markdown",
   "metadata": {},
   "source": [
    "---\n",
    "## 6. Flexible Arguments (`*args` and `**kwargs`)\n",
    "\n",
    "**What are Flexible Arguments?**\n",
    "\n",
    "Flexible (or variable-length) arguments allow a function to accept **any number of inputs**, instead of a fixed number.\n",
    "\n",
    "Python provides two main ways:\n",
    "\n",
    "🔹 1. `*args` → for **non-keyword** arguments\n",
    "\n",
    "🔹 2. `**kwargs` → for **keyword** arguments\n"
   ]
  },
  {
   "cell_type": "markdown",
   "metadata": {},
   "source": [
    "### 6.1 *args: Variable-Length Positional Arguments\n",
    "* `*args` allows a function to accept **any number of positional arguments**.\n",
    "* All extra positional arguments are grouped into a **`tuple`**."
   ]
  },
  {
   "cell_type": "code",
   "execution_count": null,
   "metadata": {},
   "outputs": [],
   "source": [
    "def add(*numbers):\n",
    "    \"\"\"Returns the sum of any number of integers.\"\"\"\n",
    "    print(type(numbers))\n",
    "    print(numbers)\n",
    "    return sum(numbers)\n",
    "\n",
    "print(add(1, 2, 3))\n",
    "print(add(5, 10, 15, 22))"
   ]
  },
  {
   "cell_type": "markdown",
   "metadata": {},
   "source": [
    "### 6.2 **kwargs: Variable-Length Keyword Arguments\n",
    "* `**kwargs` lets a function accept **any number of keyword arguments**.\n",
    "* These arguments are collected into a **`dictionary`**."
   ]
  },
  {
   "cell_type": "code",
   "execution_count": null,
   "metadata": {},
   "outputs": [],
   "source": [
    "def describe(**info):\n",
    "    \"\"\"Prints all key-value pairs provided as keyword arguments.\"\"\"\n",
    "    for key, value in info.items():\n",
    "        print(f\"{key}: {value}\")\n",
    "\n",
    "describe(city=\"Karachi\", country=\"Pakistan\", language=\"Urdu\")"
   ]
  },
  {
   "cell_type": "markdown",
   "metadata": {},
   "source": [
    "### 6.3 Combining *args and **kwargs\n",
    "\n",
    "You can define a function that accepts both any number of positional arguments (`*args`) and any number of keyword arguments (`**kwargs`).  \n",
    "- `*args` collects extra positional arguments as a tuple.\n",
    "- `**kwargs` collects extra keyword arguments as a dictionary.\n",
    "\n",
    "This is useful when you want your function to be highly flexible and accept various types of arguments.\n",
    "\n",
    "**Example 1:**  \n",
    "A function that prints all positional and keyword arguments it receives."
   ]
  },
  {
   "cell_type": "code",
   "execution_count": null,
   "metadata": {},
   "outputs": [],
   "source": [
    "def show_all(*args, **kwargs):\n",
    "    print(\"Positional arguments (args):\", args)\n",
    "    print(\"Keyword arguments (kwargs):\", kwargs)\n",
    "\n",
    "show_all(1, 2, 3, name=\"Ali\", age=25, city=\"Karachi\")"
   ]
  },
  {
   "cell_type": "markdown",
   "metadata": {},
   "source": [
    "**Example 2:**  \n",
    "\n",
    "You can use both `*args` and `**kwargs` in practical scenarios, such as a pizza ordering function. Here, `size` is a required argument, `*toppings` allows any number of toppings, and `**details` can accept extra keyword options like delivery time or extra cheese."
   ]
  },
  {
   "cell_type": "code",
   "execution_count": null,
   "metadata": {},
   "outputs": [],
   "source": [
    "def order_pizza(size, *toppings, **details):\n",
    "    \"\"\"\n",
    "    Demonstrates combining *args and **kwargs.\n",
    "    size: Size of the pizza (small, medium, large)\n",
    "    toppings: Variable number of topping strings\n",
    "    details: Arbitrary keyword arguments, e.g., delivery time\n",
    "    \"\"\"\n",
    "    print(f\"Size: {size}, Toppings: {', '.join(toppings)}\")\n",
    "    print(\"Additional details:\", details)\n",
    "    \n",
    "    \n",
    "order_pizza(\"large\",\"pepperoni\", \"mushrooms\",\"cheese\", delivery_time=\"30 minutes\", extra_cheese=True, address=\"123 Main St\",)"
   ]
  },
  {
   "cell_type": "markdown",
   "metadata": {},
   "source": [
    "### 7. Scope of Variables\n",
    "\n",
    "The **scope** of a variable refers to the region of the code where the variable is accessible. In Python, variables can have either **local scope** (inside a function) or **global scope** (outside all functions).  \n",
    "- **Local variables** are defined inside a function and can only be used within that function.\n",
    "- **Global variables** are defined outside any function and can be accessed anywhere in the code.\n",
    "\n",
    "Understanding scope helps prevent naming conflicts and bugs in your programs."
   ]
  },
  {
   "cell_type": "code",
   "execution_count": null,
   "metadata": {},
   "outputs": [],
   "source": [
    "x = 10  # Global variable\n",
    "\n",
    "def my_function():\n",
    "    y = 5  # Local variable\n",
    "    x = 20 # Local variable with the same name as global\n",
    "    print(\"Inside function, x =\", x)  # Can access global variable\n",
    "    print(\"Inside function, y =\", y)  # Can access local variable\n",
    "\n",
    "my_function()\n",
    "print(\"Outside function, x =\", x)  # Can access global variable\n",
    "# print(\"Outside function, y =\", y)  # Error: y is not defined outside the function"
   ]
  },
  {
   "cell_type": "markdown",
   "metadata": {},
   "source": [
    "#### Example: Using the `global` Keyword\n",
    "\n",
    "The `global` keyword allows you to modify a global variable inside a function. Without it, assigning a value to a variable inside a function creates a new local variable."
   ]
  },
  {
   "cell_type": "code",
   "execution_count": null,
   "metadata": {},
   "outputs": [],
   "source": [
    "count = 0  # Global variable\n",
    "\n",
    "def increment():\n",
    "    global count\n",
    "    count += 1\n",
    "    print(\"Inside function, count =\", count)\n",
    "\n",
    "increment()\n",
    "increment()\n",
    "print(\"Outside function, count =\", count)"
   ]
  },
  {
   "cell_type": "markdown",
   "metadata": {},
   "source": [
    "### 8. Recursive Functions\n",
    "\n",
    "A **recursive function** is a function that calls itself to solve a problem by breaking it down into smaller, simpler subproblems.  \n",
    "\n",
    "Recursion is useful for tasks that can be defined in terms of similar subtasks, such as calculating factorials, traversing trees, or solving mathematical puzzles.\n",
    "\n",
    "**Key points:**\n",
    "- Every recursive function must have a **base case** to stop recursion.\n",
    "- Without a base case, recursion will continue indefinitely and cause an error.\n"
   ]
  },
  {
   "cell_type": "code",
   "execution_count": null,
   "metadata": {},
   "outputs": [],
   "source": [
    "def factorial(n):\n",
    "    \"\"\"Returns the factorial of n using recursion.\"\"\"\n",
    "    if n == 0 or n == 1:  # Base case\n",
    "        return 1\n",
    "    else:\n",
    "        return n * factorial(n - 1)  # Recursive call\n",
    "\n",
    "print(factorial(5)) "
   ]
  },
  {
   "cell_type": "markdown",
   "metadata": {},
   "source": [
    "> **Best Practice:** For large inputs, consider an iterative approach or a built-in function (like math.factorial) because recursive solutions can cause stack overflow or performance issues when n is very large."
   ]
  },
  {
   "cell_type": "markdown",
   "metadata": {},
   "source": [
    "### 9. Lambda Functions\n",
    "\n",
    "A **lambda function** is a small, anonymous function defined with the `lambda` keyword.  \n",
    "  \n",
    "Lambda functions can have any number of arguments but only one expression. They are often used for short, simple operations, especially as arguments to functions like `map()`, `filter()`, or `sorted()`.\n",
    "\n",
    "**Syntax:**  \n",
    "```python\n",
    "lambda arguments: expression\n",
    "```\n",
    "\n",
    "Lambda functions are useful when you need a simple function for a short period and don't want to formally define it using `def`."
   ]
  },
  {
   "cell_type": "code",
   "execution_count": null,
   "metadata": {},
   "outputs": [],
   "source": [
    "# Example 1: Lambda function to add two numbers\n",
    "add = lambda a, b: a + b\n",
    "print(add(3, 5))  # Output: 8\n",
    "\n",
    "# Example 2: Using lambda with sorted()\n",
    "names = [\"Ali\", \"Zara\", \"Bilal\"]\n",
    "sorted_names = sorted(names, key=lambda name: len(name))\n",
    "print(sorted_names)  # Output: ['Ali', 'Zara', 'Bilal']"
   ]
  },
  {
   "cell_type": "markdown",
   "metadata": {},
   "source": [
    "#### Using Lambda with `map()`\n",
    "\n",
    "The `map()` function applies a given function to each item in an iterable (like a list). Lambda functions are often used with `map()` for concise, inline operations.\n",
    "\n",
    "For example, you can use a lambda to square each number in a list:"
   ]
  },
  {
   "cell_type": "code",
   "execution_count": null,
   "metadata": {},
   "outputs": [],
   "source": [
    "numbers = [1, 2, 3, 4, 5]\n",
    "squared = list(map(lambda x: x ** 2, numbers))\n",
    "print(squared) "
   ]
  },
  {
   "cell_type": "markdown",
   "metadata": {},
   "source": [
    "#### Using Lambda with `filter()`\n",
    "\n",
    "The `filter()` function selects items from an iterable for which a function returns `True`. Lambda functions are often used with `filter()` for concise filtering.\n",
    "\n",
    "For example, you can use a lambda to filter out even numbers from a list:"
   ]
  },
  {
   "cell_type": "code",
   "execution_count": null,
   "metadata": {},
   "outputs": [],
   "source": [
    "numbers = [1, 2, 3, 4, 5, 6]\n",
    "evens = list(filter(lambda x: x % 2 == 0, numbers))\n",
    "print(evens)  # Output: [2, 4, 6]"
   ]
  },
  {
   "cell_type": "markdown",
   "metadata": {},
   "source": [
    "> **Caution:** Overuse of lambdas can reduce code readability. For more complex logic, use a regular def function with a proper name and docstring."
   ]
  },
  {
   "cell_type": "markdown",
   "metadata": {},
   "source": [
    "---\n",
    "## 10. Additional Insights\n",
    "- **Docstrings** help document your functions for better readability, maintenance, and automated documentation tools.\n",
    "- **Mutable Default Arguments Warning:** Avoid using mutable objects (like lists or dicts) as default values—they persist between function calls and can cause bugs."
   ]
  },
  {
   "cell_type": "markdown",
   "metadata": {},
   "source": [
    "---\n",
    "## 11. Summary\n",
    "- **Modules** help organize and reuse code efficiently (built-in, user-defined, and external modules).\n",
    "- **Functions** enable code reuse, modularity, and easier maintenance.\n",
    "- You can define flexible and powerful functions using parameters, return values, and various argument techniques (`*args`, `**kwargs`).\n",
    "- Understanding **scope** (local vs. global variables) is important for avoiding bugs and managing data.\n",
    "- **Recursive functions** solve problems by calling themselves with simpler inputs.\n",
    "- **Lambda functions** provide concise, anonymous ways to write small functions, especially useful with `map()` and `filter()`.\n",
    "- Using docstrings and following best practices improves code readability and maintainability."
   ]
  },
  {
   "cell_type": "markdown",
   "metadata": {},
   "source": []
  }
 ],
 "metadata": {
  "kernelspec": {
   "display_name": "aiclass",
   "language": "python",
   "name": "python3"
  },
  "language_info": {
   "codemirror_mode": {
    "name": "ipython",
    "version": 3
   },
   "file_extension": ".py",
   "mimetype": "text/x-python",
   "name": "python",
   "nbconvert_exporter": "python",
   "pygments_lexer": "ipython3",
   "version": "3.12.0"
  }
 },
 "nbformat": 4,
 "nbformat_minor": 2
}

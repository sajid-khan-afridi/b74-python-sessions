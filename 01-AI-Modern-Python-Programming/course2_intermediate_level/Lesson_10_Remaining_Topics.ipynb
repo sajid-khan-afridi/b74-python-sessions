{
  "cells": [
    {
      "cell_type": "markdown",
      "metadata": {
        "id": "hk-Kdy4PUuE5"
      },
      "source": [
        "# 📚 Missing Topics Covered in This Notebook\n",
        "\n",
        "This notebook includes the following topics:\n",
        "\n",
        "- Binary Types (`bytes`, `bytearray`, `memoryview`)\n",
        "- `isinstance()` Function\n",
        "- Chained Comparison Operators\n",
        "- Deleting a Variable using the `del` Keyword\n",
        "- `%` Operator for String Formatting\n",
        "- `str.format()` Method\n",
        "- String Repetition\n",
        "- Higher-order functions\n",
        "- Generators in python\n",
        "\n",
        "---"
      ]
    },
    {
      "cell_type": "markdown",
      "metadata": {
        "id": "NjfFw33-UuE7"
      },
      "source": [
        "## 🗂️ Binary Types in Python\n",
        "\n",
        "Python provides special data types for working with **raw bytes and binary data**. These are essential for tasks like reading files, handling images/audio, or sending data over a network.\n",
        "\n",
        "**Main Binary Types:**\n",
        "- `bytes` (immutable)\n",
        "- `bytearray` (mutable)\n",
        "- `memoryview` (efficient views/slices)"
      ]
    },
    {
      "cell_type": "markdown",
      "metadata": {
        "id": "4zZNuShYUuE8"
      },
      "source": [
        "### 1. `bytes`\n",
        "\n",
        "Think of bytes as a read-only string of numbers between 0 and 255. Once you create it, you can’t change it.\n",
        "\n",
        "- **Immutable** sequence of bytes (0-255)\n",
        "- Used for storing binary data (e.g., file contents, network messages)\n",
        "- Created with `b\"...\"` or `bytes()`"
      ]
    },
    {
      "cell_type": "code",
      "execution_count": 6,
      "metadata": {
        "colab": {
          "base_uri": "https://localhost:8080/"
        },
        "id": "lNErwoX4UuE8",
        "outputId": "9de11b1c-6916-4650-9c91-e3ba3cd4de3d"
      },
      "outputs": [
        {
          "name": "stdout",
          "output_type": "stream",
          "text": [
            "<class 'bytes'> b'Hello'\n",
            "[72, 101, 108, 108, 111]\n"
          ]
        }
      ],
      "source": [
        "# Creating a bytes object\n",
        "byte_data = b\"Hello\"\n",
        "print(type(byte_data), byte_data)\n",
        "\n",
        "# Each character represents a byte (ASCII value)\n",
        "print(list(byte_data))  # Shows the integer values"
      ]
    },
    {
      "cell_type": "markdown",
      "metadata": {
        "id": "-YnAgEoGUuE9"
      },
      "source": [
        "**Key Points:**\n",
        "- Immutable: cannot change after creation\n",
        "- Often used for reading files in binary mode:\n",
        "  ```python\n",
        "  with open('file.jpg', 'rb') as f:\n",
        "      data = f.read()\n",
        "  ```"
      ]
    },
    {
      "cell_type": "markdown",
      "metadata": {
        "id": "WO_iGPK1UuE-"
      },
      "source": [
        "### 2. `bytearray`\n",
        "Same concept as bytes, but you can modify it after creation. It behaves like a list of bytes.\n",
        "\n",
        "- Like `bytes`, but **mutable** (can change contents)\n",
        "- Useful for modifying binary data in-place\n",
        "- Created with `bytearray()`"
      ]
    },
    {
      "cell_type": "code",
      "execution_count": 7,
      "metadata": {
        "colab": {
          "base_uri": "https://localhost:8080/"
        },
        "id": "cAwrc4FvUuE-",
        "outputId": "0d56539e-1e7f-4f25-d445-02993e4edb39"
      },
      "outputs": [
        {
          "name": "stdout",
          "output_type": "stream",
          "text": [
            "<class 'bytearray'> bytearray(b'hello')\n",
            "[104, 101, 108, 108, 111]\n",
            "----------------------------------------\n",
            "bytearray(b'Hello')\n",
            "[72, 101, 108, 108, 111]\n",
            "Hello\n"
          ]
        }
      ],
      "source": [
        "# Creating a bytearray object\n",
        "byte_arr = bytearray(b\"hello\")\n",
        "print(type(byte_arr), byte_arr)\n",
        "print(list(byte_arr))\n",
        "\n",
        "print(\"-\"*40)\n",
        "\n",
        "# Change 'h' to 'H' (ASCII 72)\n",
        "byte_arr[0] = 72\n",
        "print(byte_arr)\n",
        "print(list(byte_arr))  # Output: b'Hello'\n",
        "print(byte_arr.decode())"
      ]
    },
    {
      "cell_type": "markdown",
      "metadata": {
        "id": "e_LhqO30UuE-"
      },
      "source": [
        "**Key Points:**\n",
        "- Mutable: can change, add, or remove bytes\n",
        "- Easy conversion:\n",
        "  - `bytes(byte_arr)`\n",
        "  - `bytearray(byte_data)`"
      ]
    },
    {
      "cell_type": "markdown",
      "metadata": {
        "id": "bLr_2WcSUuE-"
      },
      "source": [
        "### 3. `memoryview`\n",
        "This one's about efficiency. `memoryview` lets you peek into a `bytes` or `bytearray` without copying it. That's a big deal for large files or network streams.\n",
        "\n",
        "- Provides a view of another binary object (like `bytes` or `bytearray`) **without copying data**\n",
        "- Efficient for slicing/processing large data buffers"
      ]
    },
    {
      "cell_type": "code",
      "execution_count": 8,
      "metadata": {
        "colab": {
          "base_uri": "https://localhost:8080/"
        },
        "id": "DNYlVhbJZ6wX",
        "outputId": "488441fa-139e-40c1-a2c2-09c851934822"
      },
      "outputs": [
        {
          "name": "stdout",
          "output_type": "stream",
          "text": [
            "<class 'memoryview'> <memory at 0x00000250B3242800>\n",
            "b'Binary'\n",
            "Binary\n"
          ]
        }
      ],
      "source": [
        "data = b\"BinaryData\"                    # Create a bytes object (binary data)\n",
        "mv = memoryview(data)                   # Create a memoryview of the bytes (no copy)\n",
        "\n",
        "print(type(mv), mv)                     # Show the type and memoryview object\n",
        "\n",
        "# Access a slice of the memoryview without copying the data\n",
        "chunk = mv[0:6]                        # Slice the first 6 bytes (b'Binary')\n",
        "\n",
        "print(chunk.tobytes())                  # Convert the slice back to bytes and print\n",
        "print(chunk.tobytes().decode())        # Decode bytes to string and print ('Binary')\n",
        "\n",
        "# Example of encoding a string to bytes\n",
        "# newbyte = \"Hello\".encode()\n",
        "# print(type(newbyte), newbyte)\n"
      ]
    },
    {
      "cell_type": "markdown",
      "metadata": {
        "id": "aVH-tzYpZ-d2"
      },
      "source": [
        "Even though it feels like slicing a list, it's not copying the data. Just referencing it.\n",
        "\n",
        "---\n",
        "\n",
        "**🧠 Real Benefit**  \n",
        "You avoid duplication. Imagine working with a 2 GB file — memoryview lets you extract and work with chunks without duplicating those chunks in memory."
      ]
    },
    {
      "cell_type": "markdown",
      "metadata": {
        "id": "ScvDpvyRaJr6"
      },
      "source": []
    },
    {
      "cell_type": "code",
      "execution_count": 9,
      "metadata": {
        "colab": {
          "base_uri": "https://localhost:8080/"
        },
        "id": "UakvjcQ1UuE_",
        "outputId": "784a1111-12bb-401e-9c77-3aa24d74a12f"
      },
      "outputs": [
        {
          "name": "stdout",
          "output_type": "stream",
          "text": [
            "Before modification: bytearray(b'hello world')\n",
            "After modification:  bytearray(b'Hello World')\n",
            "Memoryview slice:    b'Hello'\n"
          ]
        }
      ],
      "source": [
        "# Original mutable bytearray\n",
        "data = bytearray(b'hello world')\n",
        "\n",
        "# Create a memoryview of the bytearray\n",
        "mv = memoryview(data)\n",
        "\n",
        "# Print original data\n",
        "print(\"Before modification:\", data)\n",
        "\n",
        "# Modify the 0th and 6th byte via memoryview\n",
        "mv[0] = ord('H')      # 'h' -> 'H'\n",
        "mv[6] = ord('W')      # 'w' -> 'W'\n",
        "\n",
        "# Print modified data\n",
        "print(\"After modification: \", data)\n",
        "\n",
        "# Show that no copy was made — it's the same memory\n",
        "print(\"Memoryview slice:   \", mv[:5].tobytes())  # b'Hello'\n"
      ]
    },
    {
      "cell_type": "markdown",
      "metadata": {
        "id": "fAY1_w6RUuE_"
      },
      "source": [
        "**Key Points:**\n",
        "- No data copy: memory-efficient\n",
        "- Useful for working with parts of big files/buffers"
      ]
    },
    {
      "cell_type": "markdown",
      "metadata": {
        "id": "XIagS9i6UuFA"
      },
      "source": [
        "### 🔑 Summary Table\n",
        "\n",
        "| Type         | Mutable? | Example                    | Use Case                               |\n",
        "|--------------|----------|----------------------------|----------------------------------------|\n",
        "| `bytes`      | No       | `b\"hello\"`                | Read-only binary data                  |\n",
        "| `bytearray`  | Yes      | `bytearray(b\"hello\")`     | Modifiable binary data                 |\n",
        "| `memoryview` | N/A      | `memoryview(b\"data\")`     | Efficient data slicing/views           |"
      ]
    },
    {
      "cell_type": "markdown",
      "metadata": {
        "id": "ef5HohVrUuFA"
      },
      "source": [
        "> **Why learn binary types?**\n",
        "- To work with images, audio, or any non-text files\n",
        "- For networking/protocols needing raw bytes\n",
        "- To use less memory by avoiding unnecessary copies"
      ]
    },
    {
      "cell_type": "markdown",
      "metadata": {
        "id": "cqchNJzcURGh"
      },
      "source": [
        "---\n",
        "\n",
        "## **isinstance() Function in Python**\n",
        "\n",
        "The `isinstance()` function in Python is used to check if an object (first argument) is an instance of a class (second argument). It returns `True` if the object is an instance of the class, and `False` otherwise.\n",
        "\n",
        "### **Syntax**\n",
        "\n",
        "```python\n",
        "isinstance(object, classinfo)\n",
        "```\n",
        "Where:\n",
        "\n",
        "* `object` is the object to be checked.\n",
        "* `classinfo` is the class or a tuple of classes to check against.\n"
      ]
    },
    {
      "cell_type": "code",
      "execution_count": 10,
      "metadata": {
        "colab": {
          "base_uri": "https://localhost:8080/"
        },
        "id": "EAhJes-rTyhr",
        "outputId": "3272bbf3-9bba-4c2e-9209-1c4006b3d453"
      },
      "outputs": [
        {
          "name": "stdout",
          "output_type": "stream",
          "text": [
            "check: isinstance(age, int)      =  True\n",
            "check: isinstance(weight, int)   =  False\n",
            "check: isinstance(weight, float) =  True\n"
          ]
        }
      ],
      "source": [
        "age: int = 20\n",
        "weight: float = 66.89\n",
        "print(\"check: isinstance(age, int)      = \", isinstance(age, int))\n",
        "print(\"check: isinstance(weight, int)   = \", isinstance(weight, int))\n",
        "print(\"check: isinstance(weight, float) = \", isinstance(weight, float))"
      ]
    },
    {
      "cell_type": "markdown",
      "metadata": {
        "id": "5ksL3JFOUuFC"
      },
      "source": [
        "---\n",
        "\n",
        "## **String Formatting in Python**\n",
        "\n",
        "Python provides several ways to format strings:"
      ]
    },
    {
      "cell_type": "markdown",
      "metadata": {
        "id": "kGSDJmMNUuFC"
      },
      "source": [
        "### 1. `%` Operator (Old Style)\n",
        "\n",
        "```python\n",
        "my_string = 'Hello, %s!' % 'World'\n",
        "```\n",
        "- Placeholders: `%s` (string), `%d` (int), `%c` (char), `%f` (float), `%.nf` (float with n decimals)\n",
        "- **Note:** `%` formatting is older; prefer `str.format()` or f-strings in new code."
      ]
    },
    {
      "cell_type": "markdown",
      "metadata": {
        "id": "sHqD8DeLUuFC"
      },
      "source": [
        "### 2. `str.format()` (New Style)\n",
        "\n",
        "```python\n",
        "my_string = 'Hello, {}!'.format('World')\n",
        "```\n",
        "- Use `{}` as placeholders, values are inserted in order or by index."
      ]
    },
    {
      "cell_type": "markdown",
      "metadata": {
        "id": "gizme3iJUuFC"
      },
      "source": [
        "### 3. f-Strings (Python 3.6+)\n",
        "\n",
        "```python\n",
        "name = 'World'\n",
        "my_string = f'Hello, {name}!'\n",
        "```\n",
        "- Most modern and readable way to format strings."
      ]
    },
    {
      "cell_type": "markdown",
      "metadata": {
        "id": "yUKOWjS_UuFC"
      },
      "source": [
        "#### Common Placeholders (for `%` formatting)\n",
        "\n",
        "| Placeholder | Meaning                              | Example                                |\n",
        "|-------------|--------------------------------------|----------------------------------------|\n",
        "| %s          | String                               | \"Hello, %s\" % \"Alice\" → \"Hello, Alice\" |\n",
        "| %d          | Integer (Decimal)                    | \"Age: %d\" % 25 → \"Age: 25\"             |\n",
        "| %c          | Character                            | \"Letter: %c\" % 'A' → \"Letter: A\"       |\n",
        "| %f          | Floating-point                       | \"Pi: %f\" % 3.14159 → \"Pi: 3.141590\"    |\n",
        "| %.nf        | Floating-point with n decimal places | \"%.2f\" % 3.14159 → \"3.14\"              |"
      ]
    },
    {
      "cell_type": "markdown",
      "metadata": {
        "id": "AGd34k7aUuFC"
      },
      "source": [
        "### `%` Operator Example"
      ]
    },
    {
      "cell_type": "code",
      "execution_count": 11,
      "metadata": {
        "id": "fQMvk_pFUuFC"
      },
      "outputs": [
        {
          "name": "stdout",
          "output_type": "stream",
          "text": [
            "My name is John, first letter of my name is 'J', I am 20 years old and my weight is 70.532000 Kg.\n",
            "My name is John, first letter of my name is 'J', I am 20 years old and my weight is 70.53 Kg.\n"
          ]
        }
      ],
      "source": [
        "name = 'John'\n",
        "age = 20\n",
        "first_letter = name[0]\n",
        "my_weight = 70.532\n",
        "\n",
        "# Using % operator\n",
        "my_string = \"\"\"My name is %s, first letter of my name is '%c', I am %d years old and my weight is %f Kg.\"\"\" % (name, first_letter, age, my_weight)\n",
        "print(my_string)\n",
        "\n",
        "# With 2 decimal places\n",
        "my_string = \"\"\"My name is %s, first letter of my name is '%c', I am %d years old and my weight is %.2f Kg.\"\"\" % (name, first_letter, age, my_weight)\n",
        "print(my_string)"
      ]
    },
    {
      "cell_type": "markdown",
      "metadata": {
        "id": "2AroIBWtUuFC"
      },
      "source": [
        "> **Order matters!**\n",
        "- The order of values must match the order of placeholders.\n",
        "- Wrong order or wrong types will cause errors."
      ]
    },
    {
      "cell_type": "code",
      "execution_count": 12,
      "metadata": {
        "id": "hlywef3vUuFD"
      },
      "outputs": [],
      "source": [
        "# Example of incorrect order (will raise TypeError)\n",
        "# my_string = \"My name is %s, first letter of my name is '%c', I am %d years old and my weight is %f Kg.\" % (my_weight, age, name, first_letter)"
      ]
    },
    {
      "cell_type": "markdown",
      "metadata": {
        "id": "7jEpr4VZUuFD"
      },
      "source": [
        "### `str.format()` Example"
      ]
    },
    {
      "cell_type": "code",
      "execution_count": 13,
      "metadata": {
        "id": "fBkFjPXAUuFD"
      },
      "outputs": [
        {
          "name": "stdout",
          "output_type": "stream",
          "text": [
            "Line 1: My name is Alice and I am 25 years old.\n",
            "Line 2: My name is Alice and I am 25 years old.\n"
          ]
        }
      ],
      "source": [
        "# Using str.format()\n",
        "my_string = 'My name is {} and I am {} years old.'.format('Alice', 25)\n",
        "print(\"Line 1:\", my_string)\n",
        "\n",
        "# Using indexes\n",
        "my_string = 'My name is {1} and I am {0} years old.'.format(25, 'Alice')\n",
        "print(\"Line 2:\", my_string)"
      ]
    },
    {
      "cell_type": "markdown",
      "metadata": {
        "id": "xIhiCZN_UuFD"
      },
      "source": [
        "---\n",
        "\n",
        "## **String Repetition in Python**\n",
        "\n",
        "You can repeat strings using the `*` operator:"
      ]
    },
    {
      "cell_type": "markdown",
      "metadata": {
        "id": "Ji1Sx9XnUuFD"
      },
      "source": [
        "- Multiply a string by an integer to repeat it.\n",
        "- Example: `'abc' * 3` → `'abcabcabc'`\n",
        "- Multiplying by zero gives an empty string.\n",
        "- Useful for visual separators, patterns, or repeated elements."
      ]
    },
    {
      "cell_type": "code",
      "execution_count": 14,
      "metadata": {
        "colab": {
          "base_uri": "https://localhost:8080/"
        },
        "id": "D9m1zzytUuFD",
        "outputId": "b1111921-be4b-49fa-9718-9f84c5b4e581"
      },
      "outputs": [
        {
          "name": "stdout",
          "output_type": "stream",
          "text": [
            "Original string: Hello\n",
            "Repeated string: HelloHelloHello\n",
            "------------------------------\n",
            "* * * * * \n",
            "Empty string: ''\n",
            "*\n",
            "**\n",
            "***\n",
            "****\n",
            "*****\n"
          ]
        }
      ],
      "source": [
        "# String repetition examples\n",
        "base_string = \"Hello\"\n",
        "repetition_count = 3\n",
        "repeated_string = base_string * repetition_count\n",
        "print(f\"Original string: {base_string}\")\n",
        "print(f\"Repeated string: {repeated_string}\")\n",
        "\n",
        "# Visual separator\n",
        "separator = \"-\" * 30\n",
        "print(separator)\n",
        "\n",
        "# Pattern repetition\n",
        "pattern = \"* \"\n",
        "repeated_pattern = pattern * 5\n",
        "print(repeated_pattern)\n",
        "\n",
        "# Repeating zero times\n",
        "empty_string = \"Test\" * 0\n",
        "print(f\"Empty string: '{empty_string}'\")\n",
        "\n",
        "# Using repetition in a loop\n",
        "for i in range(1, 6):\n",
        "    print(\"*\" * i)"
      ]
    },
    {
      "cell_type": "markdown",
      "metadata": {
        "id": "3r-Kwy5tPKsw"
      },
      "source": [
        "---\n"
      ]
    },
    {
      "cell_type": "markdown",
      "metadata": {
        "id": "h4uEUzbUPSEi"
      },
      "source": [
        "**Extra(Optional):**\n",
        "\n",
        "🖼️ Displaying an Image Using Raw Bytes in Python"
      ]
    },
    {
      "cell_type": "code",
      "execution_count": 15,
      "metadata": {
        "id": "aHRjh76YPIZ5"
      },
      "outputs": [],
      "source": [
        "# from IPython.display import display\n",
        "# from PIL import Image\n",
        "# import io\n",
        "\n",
        "# # Read image bytes\n",
        "# with open(\"my-pic-pro.png\", \"rb\") as f:\n",
        "#     image_bytes = f.read()\n",
        "\n",
        "# # Convert bytes to a PIL image and display\n",
        "# image = Image.open(io.BytesIO(image_bytes))\n",
        "# display(image)\n"
      ]
    },
    {
      "cell_type": "markdown",
      "metadata": {},
      "source": [
        "## Higher-Order Functions\n",
        "\n",
        "<!-- <hr color=grey> -->\n",
        "\n",
        "\n",
        "### Higher-Order Functions (HOF)\n",
        "\n",
        "**A higher-order function is any function that either:**\n",
        "- Takes another function as an argument\n",
        "- Returns a function\n",
        "\n",
        "\n",
        "**Example 1:** Passing a function as an argument"
      ]
    },
    {
      "cell_type": "code",
      "execution_count": 16,
      "metadata": {
        "id": "pPIpAkk5YTsa"
      },
      "outputs": [
        {
          "name": "stdout",
          "output_type": "stream",
          "text": [
            "Example 1:\n"
          ]
        },
        {
          "data": {
            "text/plain": [
              "'HELLO'"
            ]
          },
          "execution_count": 16,
          "metadata": {},
          "output_type": "execute_result"
        }
      ],
      "source": [
        "def shout(text):\n",
        "    return text.upper()\n",
        "\n",
        "def greet(func):\n",
        "    return func(\"hello\")\n",
        "\n",
        "print(\"Example 1:\")  \n",
        "greet(shout)  # Output: HELLO"
      ]
    },
    {
      "cell_type": "markdown",
      "metadata": {},
      "source": [
        "**Example 2:** Returning a function"
      ]
    },
    {
      "cell_type": "code",
      "execution_count": 17,
      "metadata": {},
      "outputs": [
        {
          "name": "stdout",
          "output_type": "stream",
          "text": [
            "Example 2:\n",
            "Inner function\n",
            "Example 3: [1, 4, 9, 16]\n"
          ]
        }
      ],
      "source": [
        "def outer():\n",
        "    def inner():\n",
        "        return \"Inner function\"\n",
        "    return inner\n",
        "\n",
        "print(\"Example 2:\")\n",
        "fn = outer()\n",
        "print(fn())  # Output: Inner function\n",
        "\n",
        "# Built-in functions that use HOFs: map, filter, sorted\n",
        "nums = [1, 2, 3, 4]\n",
        "squares = list(map(lambda x: x**2, nums))\n",
        "print(\"Example 3:\", squares)  # Output: [1, 4, 9, 16]"
      ]
    },
    {
      "cell_type": "markdown",
      "metadata": {},
      "source": [
        "## **Generator Function**\n",
        "\n",
        "A generator function in Python is a special type of function that allows you to iterate over a sequence of values `without storing the entire sequence in memory`. **Instead of returning a single value using return, a generator function uses the `yield` keyword to produce a series of values, `one at a time`, `on-the-fly`**. This makes generator functions highly `memory-efficient` for working with `large` or `infinite sequences`.  \n",
        "\n",
        "\n",
        "## **Key Features of Generator Functions**\n",
        "\n",
        "1. **Lazy Evaluation**: Values are generated only when needed, not all at once.\n",
        "\n",
        "2.  **Memory Efficiency**: Only one value is stored in memory at a time.\n",
        "3.  **Iterable**: Generator functions return a generator object, which can be iterated over using a for loop or functions like next().\n",
        "4.  **Resumable**: The state of the generator function is saved between yield calls, allowing it to resume execution from where it left off.\n",
        "\n",
        "\n",
        "## **Syntax of a Generator Function**\n",
        "\n",
        "A generator function is defined like a normal function but uses the yield keyword instead of return.\n",
        "\n",
        "```python\n",
        "def generator_function():\n",
        "    yield value\n",
        "\n",
        "```\n",
        "\n",
        "\n",
        "## **How Generator Functions Work**\n",
        "\n",
        "1.  When a generator function is called, it returns a generator object without executing the function body.\n",
        "\n",
        "2.  The function body executes only when the generator object is iterated over (e.g., using a for loop or next()).\n",
        "3.  When the yield statement is encountered, the function pauses and returns the yielded value. The function’s state (e.g., local variables) is saved.\n",
        "4.  The function resumes execution from where it left off the next time next() is called or the generator is iterated over.  \n",
        "\n",
        "\n",
        "### **Example 1:** Simple Generator Function"
      ]
    },
    {
      "cell_type": "code",
      "execution_count": 18,
      "metadata": {},
      "outputs": [
        {
          "name": "stdout",
          "output_type": "stream",
          "text": [
            "<generator object simple_generator at 0x00000250B32196F0>  :  <class 'generator'>\n",
            "1  :  <class 'int'>\n",
            "2  :  <class 'int'>\n",
            "3  :  <class 'int'>\n"
          ]
        }
      ],
      "source": [
        "def simple_generator():\n",
        "    yield 1\n",
        "    yield 2\n",
        "    yield 3\n",
        "\n",
        "# Create a generator object\n",
        "gen = simple_generator()\n",
        "\n",
        "print(gen, \" : \", type(gen))\n",
        "\n",
        "# Iterate over the generator\n",
        "for value in gen:\n",
        "    print(value, \" : \", type(value))"
      ]
    },
    {
      "cell_type": "markdown",
      "metadata": {},
      "source": [
        "### **Lets produce an error:**\n",
        "\n",
        "**Once the generator is exhausted, calling next() will raise a StopIteration exception.**"
      ]
    },
    {
      "cell_type": "code",
      "execution_count": 19,
      "metadata": {},
      "outputs": [
        {
          "ename": "StopIteration",
          "evalue": "",
          "output_type": "error",
          "traceback": [
            "\u001b[1;31m---------------------------------------------------------------------------\u001b[0m",
            "\u001b[1;31mStopIteration\u001b[0m                             Traceback (most recent call last)",
            "Cell \u001b[1;32mIn[19], line 1\u001b[0m\n\u001b[1;32m----> 1\u001b[0m \u001b[38;5;28mprint\u001b[39m(\u001b[38;5;28;43mnext\u001b[39;49m\u001b[43m(\u001b[49m\u001b[43mgen\u001b[49m\u001b[43m)\u001b[49m) \u001b[38;5;66;03m#error: StopIteration\u001b[39;00m\n",
            "\u001b[1;31mStopIteration\u001b[0m: "
          ]
        }
      ],
      "source": [
        "print(next(gen)) #error: StopIteration"
      ]
    },
    {
      "cell_type": "markdown",
      "metadata": {},
      "source": [
        "### **Example 2: Infinite Sequence**\n",
        "\n",
        "Generators are useful for generating infinite sequences since they don’t store all values in memory.\n",
        "\n",
        "### **How It Works:**\n",
        "\n",
        "1.  infinite_sequence():\n",
        "    * This function starts with num = 0.\n",
        "\n",
        "    * Inside an infinite while True loop, it yields num and then increments it by 1.\n",
        "    * Since yield pauses execution, it remembers the state and resumes from there when next() is called.\n",
        "\n",
        "2.  Creating the Generator:\n",
        "\n",
        "    * gen = infinite_sequence() initializes the generator.\n",
        "    \n",
        "\n",
        "3.  Printing First 5 Numbers:\n",
        "\n",
        "    * Using next(gen), we retrieve values from the generator five times inside a loop.\n",
        "\n",
        "    * The next time we call next(gen), execution resumes from where it left off."
      ]
    },
    {
      "cell_type": "code",
      "execution_count": null,
      "metadata": {},
      "outputs": [
        {
          "name": "stdout",
          "output_type": "stream",
          "text": [
            "0\n",
            "1\n",
            "2\n",
            "3\n",
            "4\n"
          ]
        }
      ],
      "source": [
        "def infinite_sequence():\n",
        "    num = 0\n",
        "    while True:\n",
        "        yield num # Since yield pauses execution, it remembers the state and resumes from there when next() is called.\n",
        "        num += 1\n",
        "\n",
        "# Create a generator object\n",
        "gen = infinite_sequence() #initializes the generator.\n",
        "\n",
        "# Print the first 5 numbers, _ is a throw away variable\n",
        "for _ in range(5):\n",
        "    print(next(gen)) # The next time we call next(gen), execution resumes from where it left off."
      ]
    },
    {
      "cell_type": "markdown",
      "metadata": {},
      "source": [
        "#### Note: without yield it become infinite"
      ]
    },
    {
      "cell_type": "code",
      "execution_count": null,
      "metadata": {},
      "outputs": [],
      "source": [
        "def infinite_loop(): #without yield it become infinite\n",
        "   num = 0\n",
        "   while True:\n",
        "       #yield num   # with yield it become generator without yield its a infinite loop\n",
        "       num += 1\n",
        "       print(\"infinite_loop() : num = \", num)\n",
        "\n",
        "infinite_loop()"
      ]
    },
    {
      "cell_type": "markdown",
      "metadata": {},
      "source": [
        "## **Generator Expressions**\n",
        "Generator expressions are a concise way to create generators. They are similar to list comprehensions but use parentheses instead of square brackets.\n",
        "\n",
        "Example:"
      ]
    },
    {
      "cell_type": "code",
      "execution_count": null,
      "metadata": {},
      "outputs": [
        {
          "name": "stdout",
          "output_type": "stream",
          "text": [
            "<class 'generator'>\n",
            "0  :  <class 'int'>\n",
            "1  :  <class 'int'>\n",
            "4  :  <class 'int'>\n",
            "9  :  <class 'int'>\n",
            "16  :  <class 'int'>\n"
          ]
        }
      ],
      "source": [
        "# Generator expression\n",
        "gen = (x * x for x in range(5))\n",
        "print(type(gen))\n",
        "\n",
        "# Iterate over the generator\n",
        "for value in gen:\n",
        "    print(value, \" : \", type(value))"
      ]
    },
    {
      "cell_type": "markdown",
      "metadata": {},
      "source": []
    }
  ],
  "metadata": {
    "colab": {
      "provenance": []
    },
    "kernelspec": {
      "display_name": "aiclass",
      "language": "python",
      "name": "python3"
    },
    "language_info": {
      "codemirror_mode": {
        "name": "ipython",
        "version": 3
      },
      "file_extension": ".py",
      "mimetype": "text/x-python",
      "name": "python",
      "nbconvert_exporter": "python",
      "pygments_lexer": "ipython3",
      "version": "3.12.0"
    }
  },
  "nbformat": 4,
  "nbformat_minor": 0
}

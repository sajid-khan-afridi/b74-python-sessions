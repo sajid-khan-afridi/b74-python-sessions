{
  "cells": [
    {
      "cell_type": "markdown",
      "metadata": {
        "id": "hk-Kdy4PUuE5"
      },
      "source": [
        "# 📚 Missing Topics Covered in This Notebook\n",
        "\n",
        "This notebook includes the following topics:\n",
        "\n",
        "- Binary Types (`bytes`, `bytearray`, `memoryview`)\n",
        "- `isinstance()` Function\n",
        "- Chained Comparison Operators\n",
        "- Deleting a Variable using the `del` Keyword\n",
        "- `%` Operator for String Formatting\n",
        "- `str.format()` Method\n",
        "- String Repetition\n",
        "\n",
        "---"
      ]
    },
    {
      "cell_type": "markdown",
      "metadata": {
        "id": "NjfFw33-UuE7"
      },
      "source": [
        "## 🗂️ Binary Types in Python\n",
        "\n",
        "Python provides special data types for working with **raw bytes and binary data**. These are essential for tasks like reading files, handling images/audio, or sending data over a network.\n",
        "\n",
        "**Main Binary Types:**\n",
        "- `bytes` (immutable)\n",
        "- `bytearray` (mutable)\n",
        "- `memoryview` (efficient views/slices)"
      ]
    },
    {
      "cell_type": "markdown",
      "metadata": {
        "id": "4zZNuShYUuE8"
      },
      "source": [
        "### 1. `bytes`\n",
        "\n",
        "Think of bytes as a read-only string of numbers between 0 and 255. Once you create it, you can’t change it.\n",
        "\n",
        "- **Immutable** sequence of bytes (0-255)\n",
        "- Used for storing binary data (e.g., file contents, network messages)\n",
        "- Created with `b\"...\"` or `bytes()`"
      ]
    },
    {
      "cell_type": "code",
      "execution_count": 1,
      "metadata": {
        "colab": {
          "base_uri": "https://localhost:8080/"
        },
        "id": "lNErwoX4UuE8",
        "outputId": "9de11b1c-6916-4650-9c91-e3ba3cd4de3d"
      },
      "outputs": [
        {
          "output_type": "stream",
          "name": "stdout",
          "text": [
            "<class 'bytes'> b'Hello'\n",
            "[72, 101, 108, 108, 111]\n"
          ]
        }
      ],
      "source": [
        "# Creating a bytes object\n",
        "byte_data = b\"Hello\"\n",
        "print(type(byte_data), byte_data)\n",
        "\n",
        "# Each character represents a byte (ASCII value)\n",
        "print(list(byte_data))  # Shows the integer values"
      ]
    },
    {
      "cell_type": "markdown",
      "metadata": {
        "id": "-YnAgEoGUuE9"
      },
      "source": [
        "**Key Points:**\n",
        "- Immutable: cannot change after creation\n",
        "- Often used for reading files in binary mode:\n",
        "  ```python\n",
        "  with open('file.jpg', 'rb') as f:\n",
        "      data = f.read()\n",
        "  ```"
      ]
    },
    {
      "cell_type": "markdown",
      "metadata": {
        "id": "WO_iGPK1UuE-"
      },
      "source": [
        "### 2. `bytearray`\n",
        "Same concept as bytes, but you can modify it after creation. It behaves like a list of bytes.\n",
        "\n",
        "- Like `bytes`, but **mutable** (can change contents)\n",
        "- Useful for modifying binary data in-place\n",
        "- Created with `bytearray()`"
      ]
    },
    {
      "cell_type": "code",
      "execution_count": 15,
      "metadata": {
        "colab": {
          "base_uri": "https://localhost:8080/"
        },
        "id": "cAwrc4FvUuE-",
        "outputId": "0d56539e-1e7f-4f25-d445-02993e4edb39"
      },
      "outputs": [
        {
          "output_type": "stream",
          "name": "stdout",
          "text": [
            "<class 'bytearray'> bytearray(b'hello')\n",
            "[104, 101, 108, 108, 111]\n",
            "----------------------------------------\n",
            "bytearray(b'Hello')\n",
            "[72, 101, 108, 108, 111]\n",
            "Hello\n"
          ]
        }
      ],
      "source": [
        "# Creating a bytearray object\n",
        "byte_arr = bytearray(b\"hello\")\n",
        "print(type(byte_arr), byte_arr)\n",
        "print(list(byte_arr))\n",
        "\n",
        "print(\"-\"*40)\n",
        "\n",
        "# Change 'h' to 'H' (ASCII 72)\n",
        "byte_arr[0] = 72\n",
        "print(byte_arr)\n",
        "print(list(byte_arr))  # Output: b'Hello'\n",
        "print(byte_arr.decode())"
      ]
    },
    {
      "cell_type": "markdown",
      "metadata": {
        "id": "e_LhqO30UuE-"
      },
      "source": [
        "**Key Points:**\n",
        "- Mutable: can change, add, or remove bytes\n",
        "- Easy conversion:\n",
        "  - `bytes(byte_arr)`\n",
        "  - `bytearray(byte_data)`"
      ]
    },
    {
      "cell_type": "markdown",
      "metadata": {
        "id": "bLr_2WcSUuE-"
      },
      "source": [
        "### 3. `memoryview`\n",
        "This one's about efficiency. `memoryview` lets you peek into a `bytes` or `bytearray` without copying it. That's a big deal for large files or network streams.\n",
        "\n",
        "- Provides a view of another binary object (like `bytes` or `bytearray`) **without copying data**\n",
        "- Efficient for slicing/processing large data buffers"
      ]
    },
    {
      "cell_type": "code",
      "source": [
        "data = b\"BinaryData\"                    # Create a bytes object (binary data)\n",
        "mv = memoryview(data)                   # Create a memoryview of the bytes (no copy)\n",
        "\n",
        "print(type(mv), mv)                     # Show the type and memoryview object\n",
        "\n",
        "# Access a slice of the memoryview without copying the data\n",
        "chunk = mv[0:6]                        # Slice the first 6 bytes (b'Binary')\n",
        "\n",
        "print(chunk.tobytes())                  # Convert the slice back to bytes and print\n",
        "print(chunk.tobytes().decode())        # Decode bytes to string and print ('Binary')\n",
        "\n",
        "# Example of encoding a string to bytes\n",
        "# newbyte = \"Hello\".encode()\n",
        "# print(type(newbyte), newbyte)\n"
      ],
      "metadata": {
        "id": "DNYlVhbJZ6wX",
        "outputId": "488441fa-139e-40c1-a2c2-09c851934822",
        "colab": {
          "base_uri": "https://localhost:8080/"
        }
      },
      "execution_count": 35,
      "outputs": [
        {
          "output_type": "stream",
          "name": "stdout",
          "text": [
            "<class 'memoryview'> <memory at 0x7de6d7247e80>\n",
            "b'Binary'\n",
            "Binary\n"
          ]
        }
      ]
    },
    {
      "cell_type": "markdown",
      "source": [
        "Even though it feels like slicing a list, it's not copying the data. Just referencing it.\n",
        "\n",
        "---\n",
        "\n",
        "**🧠 Real Benefit**  \n",
        "You avoid duplication. Imagine working with a 2 GB file — memoryview lets you extract and work with chunks without duplicating those chunks in memory."
      ],
      "metadata": {
        "id": "aVH-tzYpZ-d2"
      }
    },
    {
      "cell_type": "markdown",
      "source": [],
      "metadata": {
        "id": "ScvDpvyRaJr6"
      }
    },
    {
      "cell_type": "code",
      "execution_count": 24,
      "metadata": {
        "colab": {
          "base_uri": "https://localhost:8080/"
        },
        "id": "UakvjcQ1UuE_",
        "outputId": "784a1111-12bb-401e-9c77-3aa24d74a12f"
      },
      "outputs": [
        {
          "output_type": "stream",
          "name": "stdout",
          "text": [
            "Before modification: bytearray(b'hello world')\n",
            "After modification:  bytearray(b'Hello World')\n",
            "Memoryview slice:    b'Hello'\n"
          ]
        }
      ],
      "source": [
        "# Original mutable bytearray\n",
        "data = bytearray(b'hello world')\n",
        "\n",
        "# Create a memoryview of the bytearray\n",
        "mv = memoryview(data)\n",
        "\n",
        "# Print original data\n",
        "print(\"Before modification:\", data)\n",
        "\n",
        "# Modify the 0th and 6th byte via memoryview\n",
        "mv[0] = ord('H')      # 'h' -> 'H'\n",
        "mv[6] = ord('W')      # 'w' -> 'W'\n",
        "\n",
        "# Print modified data\n",
        "print(\"After modification: \", data)\n",
        "\n",
        "# Show that no copy was made — it's the same memory\n",
        "print(\"Memoryview slice:   \", mv[:5].tobytes())  # b'Hello'\n"
      ]
    },
    {
      "cell_type": "markdown",
      "metadata": {
        "id": "fAY1_w6RUuE_"
      },
      "source": [
        "**Key Points:**\n",
        "- No data copy: memory-efficient\n",
        "- Useful for working with parts of big files/buffers"
      ]
    },
    {
      "cell_type": "markdown",
      "metadata": {
        "id": "XIagS9i6UuFA"
      },
      "source": [
        "### 🔑 Summary Table\n",
        "\n",
        "| Type         | Mutable? | Example                    | Use Case                               |\n",
        "|--------------|----------|----------------------------|----------------------------------------|\n",
        "| `bytes`      | No       | `b\"hello\"`                | Read-only binary data                  |\n",
        "| `bytearray`  | Yes      | `bytearray(b\"hello\")`     | Modifiable binary data                 |\n",
        "| `memoryview` | N/A      | `memoryview(b\"data\")`     | Efficient data slicing/views           |"
      ]
    },
    {
      "cell_type": "markdown",
      "metadata": {
        "id": "ef5HohVrUuFA"
      },
      "source": [
        "> **Why learn binary types?**\n",
        "- To work with images, audio, or any non-text files\n",
        "- For networking/protocols needing raw bytes\n",
        "- To use less memory by avoiding unnecessary copies"
      ]
    },
    {
      "cell_type": "markdown",
      "metadata": {
        "id": "cqchNJzcURGh"
      },
      "source": [
        "---\n",
        "\n",
        "## **isinstance() Function in Python**\n",
        "\n",
        "The `isinstance()` function in Python is used to check if an object (first argument) is an instance of a class (second argument). It returns `True` if the object is an instance of the class, and `False` otherwise.\n",
        "\n",
        "### **Syntax**\n",
        "\n",
        "```python\n",
        "isinstance(object, classinfo)\n",
        "```\n",
        "Where:\n",
        "\n",
        "* `object` is the object to be checked.\n",
        "* `classinfo` is the class or a tuple of classes to check against.\n"
      ]
    },
    {
      "cell_type": "code",
      "execution_count": 21,
      "metadata": {
        "colab": {
          "base_uri": "https://localhost:8080/"
        },
        "id": "EAhJes-rTyhr",
        "outputId": "3272bbf3-9bba-4c2e-9209-1c4006b3d453"
      },
      "outputs": [
        {
          "output_type": "stream",
          "name": "stdout",
          "text": [
            "check: isinstance(age, int)      =  True\n",
            "check: isinstance(weight, int)   =  False\n",
            "check: isinstance(weight, float) =  True\n"
          ]
        }
      ],
      "source": [
        "age: int = 20\n",
        "weight: float = 66.89\n",
        "print(\"check: isinstance(age, int)      = \", isinstance(age, int))\n",
        "print(\"check: isinstance(weight, int)   = \", isinstance(weight, int))\n",
        "print(\"check: isinstance(weight, float) = \", isinstance(weight, float))"
      ]
    },
    {
      "cell_type": "markdown",
      "metadata": {
        "id": "5ksL3JFOUuFC"
      },
      "source": [
        "---\n",
        "\n",
        "## **String Formatting in Python**\n",
        "\n",
        "Python provides several ways to format strings:"
      ]
    },
    {
      "cell_type": "markdown",
      "metadata": {
        "id": "kGSDJmMNUuFC"
      },
      "source": [
        "### 1. `%` Operator (Old Style)\n",
        "\n",
        "```python\n",
        "my_string = 'Hello, %s!' % 'World'\n",
        "```\n",
        "- Placeholders: `%s` (string), `%d` (int), `%c` (char), `%f` (float), `%.nf` (float with n decimals)\n",
        "- **Note:** `%` formatting is older; prefer `str.format()` or f-strings in new code."
      ]
    },
    {
      "cell_type": "markdown",
      "metadata": {
        "id": "sHqD8DeLUuFC"
      },
      "source": [
        "### 2. `str.format()` (New Style)\n",
        "\n",
        "```python\n",
        "my_string = 'Hello, {}!'.format('World')\n",
        "```\n",
        "- Use `{}` as placeholders, values are inserted in order or by index."
      ]
    },
    {
      "cell_type": "markdown",
      "metadata": {
        "id": "gizme3iJUuFC"
      },
      "source": [
        "### 3. f-Strings (Python 3.6+)\n",
        "\n",
        "```python\n",
        "name = 'World'\n",
        "my_string = f'Hello, {name}!'\n",
        "```\n",
        "- Most modern and readable way to format strings."
      ]
    },
    {
      "cell_type": "markdown",
      "metadata": {
        "id": "yUKOWjS_UuFC"
      },
      "source": [
        "#### Common Placeholders (for `%` formatting)\n",
        "\n",
        "| Placeholder | Meaning                              | Example                                |\n",
        "|-------------|--------------------------------------|----------------------------------------|\n",
        "| %s          | String                               | \"Hello, %s\" % \"Alice\" → \"Hello, Alice\" |\n",
        "| %d          | Integer (Decimal)                    | \"Age: %d\" % 25 → \"Age: 25\"             |\n",
        "| %c          | Character                            | \"Letter: %c\" % 'A' → \"Letter: A\"       |\n",
        "| %f          | Floating-point                       | \"Pi: %f\" % 3.14159 → \"Pi: 3.141590\"    |\n",
        "| %.nf        | Floating-point with n decimal places | \"%.2f\" % 3.14159 → \"3.14\"              |"
      ]
    },
    {
      "cell_type": "markdown",
      "metadata": {
        "id": "AGd34k7aUuFC"
      },
      "source": [
        "### `%` Operator Example"
      ]
    },
    {
      "cell_type": "code",
      "execution_count": null,
      "metadata": {
        "id": "fQMvk_pFUuFC"
      },
      "outputs": [],
      "source": [
        "name = 'John'\n",
        "age = 20\n",
        "first_letter = name[0]\n",
        "my_weight = 70.532\n",
        "\n",
        "# Using % operator\n",
        "my_string = \"\"\"My name is %s, first letter of my name is '%c', I am %d years old and my weight is %f Kg.\"\"\" % (name, first_letter, age, my_weight)\n",
        "print(my_string)\n",
        "\n",
        "# With 2 decimal places\n",
        "my_string = \"\"\"My name is %s, first letter of my name is '%c', I am %d years old and my weight is %.2f Kg.\"\"\" % (name, first_letter, age, my_weight)\n",
        "print(my_string)"
      ]
    },
    {
      "cell_type": "markdown",
      "metadata": {
        "id": "2AroIBWtUuFC"
      },
      "source": [
        "> **Order matters!**\n",
        "- The order of values must match the order of placeholders.\n",
        "- Wrong order or wrong types will cause errors."
      ]
    },
    {
      "cell_type": "code",
      "execution_count": null,
      "metadata": {
        "id": "hlywef3vUuFD"
      },
      "outputs": [],
      "source": [
        "# Example of incorrect order (will raise TypeError)\n",
        "# my_string = \"My name is %s, first letter of my name is '%c', I am %d years old and my weight is %f Kg.\" % (my_weight, age, name, first_letter)"
      ]
    },
    {
      "cell_type": "markdown",
      "metadata": {
        "id": "7jEpr4VZUuFD"
      },
      "source": [
        "### `str.format()` Example"
      ]
    },
    {
      "cell_type": "code",
      "execution_count": null,
      "metadata": {
        "id": "fBkFjPXAUuFD"
      },
      "outputs": [],
      "source": [
        "# Using str.format()\n",
        "my_string = 'My name is {} and I am {} years old.'.format('Alice', 25)\n",
        "print(\"Line 1:\", my_string)\n",
        "\n",
        "# Using indexes\n",
        "my_string = 'My name is {1} and I am {0} years old.'.format(25, 'Alice')\n",
        "print(\"Line 2:\", my_string)"
      ]
    },
    {
      "cell_type": "markdown",
      "metadata": {
        "id": "xIhiCZN_UuFD"
      },
      "source": [
        "---\n",
        "\n",
        "## **String Repetition in Python**\n",
        "\n",
        "You can repeat strings using the `*` operator:"
      ]
    },
    {
      "cell_type": "markdown",
      "metadata": {
        "id": "Ji1Sx9XnUuFD"
      },
      "source": [
        "- Multiply a string by an integer to repeat it.\n",
        "- Example: `'abc' * 3` → `'abcabcabc'`\n",
        "- Multiplying by zero gives an empty string.\n",
        "- Useful for visual separators, patterns, or repeated elements."
      ]
    },
    {
      "cell_type": "code",
      "execution_count": 22,
      "metadata": {
        "colab": {
          "base_uri": "https://localhost:8080/"
        },
        "id": "D9m1zzytUuFD",
        "outputId": "b1111921-be4b-49fa-9718-9f84c5b4e581"
      },
      "outputs": [
        {
          "output_type": "stream",
          "name": "stdout",
          "text": [
            "Original string: Hello\n",
            "Repeated string: HelloHelloHello\n",
            "------------------------------\n",
            "* * * * * \n",
            "Empty string: ''\n",
            "*\n",
            "**\n",
            "***\n",
            "****\n",
            "*****\n"
          ]
        }
      ],
      "source": [
        "# String repetition examples\n",
        "base_string = \"Hello\"\n",
        "repetition_count = 3\n",
        "repeated_string = base_string * repetition_count\n",
        "print(f\"Original string: {base_string}\")\n",
        "print(f\"Repeated string: {repeated_string}\")\n",
        "\n",
        "# Visual separator\n",
        "separator = \"-\" * 30\n",
        "print(separator)\n",
        "\n",
        "# Pattern repetition\n",
        "pattern = \"* \"\n",
        "repeated_pattern = pattern * 5\n",
        "print(repeated_pattern)\n",
        "\n",
        "# Repeating zero times\n",
        "empty_string = \"Test\" * 0\n",
        "print(f\"Empty string: '{empty_string}'\")\n",
        "\n",
        "# Using repetition in a loop\n",
        "for i in range(1, 6):\n",
        "    print(\"*\" * i)"
      ]
    },
    {
      "cell_type": "code",
      "source": [],
      "metadata": {
        "id": "pPIpAkk5YTsa"
      },
      "execution_count": null,
      "outputs": []
    }
  ],
  "metadata": {
    "kernelspec": {
      "display_name": "Python 3",
      "language": "python",
      "name": "python3"
    },
    "language_info": {
      "name": "python",
      "version": ""
    },
    "colab": {
      "provenance": []
    }
  },
  "nbformat": 4,
  "nbformat_minor": 0
}
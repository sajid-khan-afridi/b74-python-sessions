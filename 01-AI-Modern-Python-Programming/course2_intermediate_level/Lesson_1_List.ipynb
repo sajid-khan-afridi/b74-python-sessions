{
  "cells": [
    {
      "cell_type": "markdown",
      "metadata": {
        "id": "My4w3iNt2UY6"
      },
      "source": [
        "# What is List?"
      ]
    },
    {
      "cell_type": "markdown",
      "metadata": {
        "id": "t2uUP-Ph30js"
      },
      "source": [
        "## Problem"
      ]
    },
    {
      "cell_type": "markdown",
      "metadata": {
        "id": "fgDdErUn2vzI"
      },
      "source": [
        "If you want to store multiple items, you would need to create a separate variable for each one.\n",
        "\n",
        "```\n",
        "student1 = \"Ahmad\"\n",
        "student2 = \"Ali\"\n",
        "student3 = \"Kashif\"\n",
        "```\n",
        "\n",
        "This approach works fine if you have just a few items. But what if you have 10, 100, or even more? It quickly becomes unmanageable.\n",
        "\n",
        "If you want to add or remove an item, you have to manually shift the data around or create new variables.\n",
        "\n",
        "```\n",
        "student4 = \"Usman\"\n",
        "```\n",
        "\n",
        "Accessing an item requires you to remember the exact variable name associated with it.\n",
        "\n",
        "```\n",
        "print(student1)\n",
        "print(student2)\n",
        "```"
      ]
    },
    {
      "cell_type": "markdown",
      "metadata": {
        "id": "hS7-o45gU72v"
      },
      "source": [
        "## Solution"
      ]
    },
    {
      "cell_type": "markdown",
      "metadata": {
        "id": "Wt_hhuVaVOPN"
      },
      "source": [
        "### List\n",
        "A list in Python is like a container that can hold multiple items, one after another. Imagine you have a shopping list where you write down everything you need to buy. A Python list is very similar, but instead of just groceries, it can hold all kinds of things like numbers, words, or even other lists!\n",
        "\n",
        "### Store Multiple Items Together:\n",
        "\n",
        "A list allows you to keep multiple items in one place. For example, if you want to keep track of all your students' names, you can store them in a list.\n"
      ]
    },
    {
      "cell_type": "code",
      "execution_count": null,
      "metadata": {
        "id": "QFKWuvaLSsaB"
      },
      "outputs": [],
      "source": [
        "students : list = [\"Ahmad\", \"Ali\", \"Kashif\"]\n",
        "          #index   0 -3      1 -2      2 -1"
      ]
    },
    {
      "cell_type": "markdown",
      "metadata": {
        "id": "ZaZN7zpjgnOq"
      },
      "source": [
        "### Access Items by Position:\n",
        "\n",
        "Lists keep items in the order you put them in. You can access any item by telling Python where it is in the list (starting from 0)."
      ]
    },
    {
      "cell_type": "code",
      "execution_count": null,
      "metadata": {
        "id": "dCNcXveVgqbe"
      },
      "outputs": [],
      "source": [
        "print(students[0])\n",
        "print(students[1])\n",
        "print(students[2])"
      ]
    },
    {
      "cell_type": "markdown",
      "metadata": {
        "id": "PgfUjz4lgxiK"
      },
      "source": [
        "### Change Items:\n",
        "\n",
        "You can easily change an item in the list if you need to update it."
      ]
    },
    {
      "cell_type": "code",
      "execution_count": null,
      "metadata": {
        "id": "hXKyqi40gzHi"
      },
      "outputs": [],
      "source": [
        "students[0]: list[str] = \"Saleem\"\n",
        "print(students[0])"
      ]
    },
    {
      "cell_type": "code",
      "execution_count": null,
      "metadata": {
        "id": "kmQDFuomhAaA"
      },
      "outputs": [],
      "source": [
        "print(students)"
      ]
    },
    {
      "cell_type": "markdown",
      "metadata": {
        "id": "FhvgpqU0mmvW"
      },
      "source": [
        "## List Methods"
      ]
    },
    {
      "cell_type": "code",
      "execution_count": null,
      "metadata": {
        "id": "EBSKHHrNit_8"
      },
      "outputs": [],
      "source": [
        "[i for i in dir(students) if \"__\" not in i]\n",
        "# dir(students)\n",
        "# len(students) #Python uses __len__ to find out the length of the list.__len__ \"behind-the-scenes\" functions"
      ]
    },
    {
      "cell_type": "code",
      "source": [
        "dir(students) #Python uses __len__ to find out the length of the list.__len__ \"behind-the-scenes\" functions"
      ],
      "metadata": {
        "id": "eWLVKozFMeYd"
      },
      "execution_count": null,
      "outputs": []
    },
    {
      "cell_type": "code",
      "source": [
        "del_stu:str = students.pop() # invoke method\n",
        "print(del_stu)\n",
        "print(students)"
      ],
      "metadata": {
        "id": "WwIhcult7Jia"
      },
      "execution_count": null,
      "outputs": []
    },
    {
      "cell_type": "markdown",
      "metadata": {
        "id": "CZVT5q0khJl1"
      },
      "source": [
        "### Append a new student\n"
      ]
    },
    {
      "cell_type": "code",
      "execution_count": null,
      "metadata": {
        "id": "1_StCoUOhRKC"
      },
      "outputs": [],
      "source": [
        "students.append(\"Usman\")\n",
        "print(students)"
      ]
    },
    {
      "cell_type": "markdown",
      "metadata": {
        "id": "j2C-m5gR0Xv_"
      },
      "source": [
        "### insert()"
      ]
    },
    {
      "cell_type": "code",
      "execution_count": null,
      "metadata": {
        "id": "e4VmTLIX0aPq"
      },
      "outputs": [],
      "source": [
        "students.insert(0,\"ahmad\")"
      ]
    },
    {
      "cell_type": "code",
      "execution_count": null,
      "metadata": {
        "id": "IxphqU6gzu71"
      },
      "outputs": [],
      "source": [
        "print(students)"
      ]
    },
    {
      "cell_type": "code",
      "execution_count": null,
      "metadata": {
        "id": "N4tjNi9_z17y"
      },
      "outputs": [],
      "source": [
        "students.insert(3,\"Iqbal\")\n",
        "print(students)"
      ]
    },
    {
      "cell_type": "markdown",
      "metadata": {
        "id": "L4nI2MGqhV9q"
      },
      "source": [
        "### Pop the last student"
      ]
    },
    {
      "cell_type": "code",
      "execution_count": null,
      "metadata": {
        "id": "mfNPoAf5hYTI"
      },
      "outputs": [],
      "source": [
        "last_student:list[str] = students.pop()\n",
        "print(last_student)\n",
        "print(students)"
      ]
    },
    {
      "cell_type": "markdown",
      "metadata": {
        "id": "HxambH-uhlZI"
      },
      "source": [
        "### Remove a specific or custom student by name"
      ]
    },
    {
      "cell_type": "code",
      "execution_count": null,
      "metadata": {
        "id": "zMBCxFkihnn9"
      },
      "outputs": [],
      "source": [
        "students.remove(\"Ali\")\n",
        "print(students)"
      ]
    },
    {
      "cell_type": "code",
      "source": [
        "students.insert(2,\"ali\")"
      ],
      "metadata": {
        "id": "Tv5fNI5w9B0s"
      },
      "execution_count": null,
      "outputs": []
    },
    {
      "cell_type": "code",
      "source": [
        "print(students)"
      ],
      "metadata": {
        "id": "xA6ovCAd9KjY"
      },
      "execution_count": null,
      "outputs": []
    },
    {
      "cell_type": "code",
      "source": [
        "students.remove(\"ali\")\n",
        "print(students)"
      ],
      "metadata": {
        "id": "JEUvm0Vi9Wyn"
      },
      "execution_count": null,
      "outputs": []
    },
    {
      "cell_type": "markdown",
      "metadata": {
        "id": "zLIHsobFkcia"
      },
      "source": [
        "### shallow copy vs deep copy"
      ]
    },
    {
      "cell_type": "code",
      "execution_count": null,
      "metadata": {
        "id": "0kLO63NdkhL7"
      },
      "outputs": [],
      "source": [
        "# shallow copy\n",
        "x : list[str] = ['a','b','c']\n",
        "y = x # shallow copy\n",
        "print(id(x))\n",
        "print(id(y))\n",
        "\n",
        "\n",
        "\n",
        "\n",
        "x.append('d')\n",
        "print(\"x: \",x)\n",
        "print(\"y: \",y)\n",
        "print(id(x), id(y))"
      ]
    },
    {
      "cell_type": "code",
      "source": [
        "y.append('e')\n",
        "print(x)\n",
        "print(y)"
      ],
      "metadata": {
        "id": "v107FDnx-dzg"
      },
      "execution_count": null,
      "outputs": []
    },
    {
      "cell_type": "code",
      "execution_count": null,
      "metadata": {
        "id": "txwdgB-FlHWf"
      },
      "outputs": [],
      "source": [
        "# deep copy\n",
        "x: list[str] = ['a', 'b', 'c']\n",
        "y = x.copy()        # Deep copy by copy() method\n",
        "x.append('d')\n",
        "print(\"x:\", x)\n",
        "print(\"y:\", y)\n",
        "\n",
        "\n",
        "x.append('e')\n",
        "print(\"x:\", x)\n",
        "print(\"y:\", y)\n",
        "\n",
        "print(id(x), id(y))"
      ]
    },
    {
      "cell_type": "code",
      "source": [
        "z = x[:] # another way of Deep copy by slice"
      ],
      "metadata": {
        "id": "oOA-crboE3No"
      },
      "execution_count": null,
      "outputs": []
    },
    {
      "cell_type": "code",
      "source": [
        "z.append('e')\n",
        "print(z)\n",
        "print(x)"
      ],
      "metadata": {
        "id": "VCzAIBYFE9Xp"
      },
      "execution_count": null,
      "outputs": []
    },
    {
      "cell_type": "code",
      "execution_count": null,
      "metadata": {
        "id": "AB6N_UQNkSse"
      },
      "outputs": [],
      "source": [
        "# create new list\n",
        "x : list[str] = ['a','b','c']\n",
        "# print(id(x))\n",
        "x = ['d','e','f']\n",
        "# print(id(x))\n",
        "print(x)"
      ]
    },
    {
      "cell_type": "markdown",
      "metadata": {
        "id": "ncS5vw54m9cz"
      },
      "source": [
        "### extend()\n",
        "Supply the List to be extended"
      ]
    },
    {
      "cell_type": "code",
      "execution_count": null,
      "metadata": {
        "id": "UA01xUuQnMIx"
      },
      "outputs": [],
      "source": [
        "arr1: list[int] = [1,2,3]\n",
        "a : list[int] = [4,5,6]\n",
        "arr1.extend(a)\n",
        "print(arr1)\n",
        "print(a)\n",
        "# print(id(a))"
      ]
    },
    {
      "cell_type": "markdown",
      "metadata": {
        "id": "qbzJ8W7SnWzN"
      },
      "source": [
        "### clear()"
      ]
    },
    {
      "cell_type": "code",
      "execution_count": null,
      "metadata": {
        "id": "jDER99DendSz"
      },
      "outputs": [],
      "source": [
        "a.clear()\n",
        "print(a)\n",
        "# print(id(a))"
      ]
    },
    {
      "cell_type": "markdown",
      "source": [
        "#### Time to Ask"
      ],
      "metadata": {
        "id": "Pqfi_LfSOXZL"
      }
    },
    {
      "cell_type": "code",
      "execution_count": null,
      "metadata": {
        "id": "igV19QkCAnSw"
      },
      "outputs": [],
      "source": [
        "\n",
        "students = [\"Ahmad\", \"Ali\", \"Kashif\"]\n",
        "\n",
        "# Using clear()\n",
        "students.clear()\n",
        "print(id(students))  # Same ID, list cleared in place\n",
        "students.append(\"Usman\")\n",
        "print(id(students))\n",
        "\n",
        "# Reassigning to empty list\n",
        "students = [\"Ahmad\", \"Ali\", \"Kashif\"]\n",
        "# print(id(students))\n",
        "students= []\n",
        "# print(id(students))"
      ]
    },
    {
      "cell_type": "markdown",
      "metadata": {
        "id": "ZaAciugjnsOU"
      },
      "source": [
        "### count(), index methods\n",
        "### list() method"
      ]
    },
    {
      "cell_type": "code",
      "execution_count": null,
      "metadata": {
        "id": "bvvseidnnvFg"
      },
      "outputs": [],
      "source": [
        "characters : list[str] = list(\"abcdefghijkalmnopqrstbuvwxyz\")\n",
        "# characters : list[str] = [\"ahmad\"]\n",
        "print(characters)\n"
      ]
    },
    {
      "cell_type": "code",
      "source": [
        "characters.count('a')\n"
      ],
      "metadata": {
        "id": "m_9oZa0lPats"
      },
      "execution_count": null,
      "outputs": []
    },
    {
      "cell_type": "code",
      "source": [
        "characters.append(\"Z\")"
      ],
      "metadata": {
        "id": "odE2KCbePpdM"
      },
      "execution_count": null,
      "outputs": []
    },
    {
      "cell_type": "code",
      "source": [
        "print(characters)"
      ],
      "metadata": {
        "id": "QpU0DfXrPgqA"
      },
      "execution_count": null,
      "outputs": []
    },
    {
      "cell_type": "code",
      "source": [
        "characters.sort()"
      ],
      "metadata": {
        "id": "JvgQJLKa7mtU"
      },
      "execution_count": null,
      "outputs": []
    },
    {
      "cell_type": "code",
      "source": [
        "print(characters)"
      ],
      "metadata": {
        "id": "Rmc4ODQI7vZx"
      },
      "execution_count": null,
      "outputs": []
    },
    {
      "cell_type": "code",
      "source": [
        "characters.sort(key=str.lower)"
      ],
      "metadata": {
        "id": "8xyu5ocKJeWd"
      },
      "execution_count": null,
      "outputs": []
    },
    {
      "cell_type": "code",
      "source": [
        "print(characters)"
      ],
      "metadata": {
        "id": "AKt7_-pvP6Vg"
      },
      "execution_count": null,
      "outputs": []
    },
    {
      "cell_type": "code",
      "source": [
        "list4 = [\"word\",\"abc\",\"xyz\",\"shshjaja\"]\n",
        "list4.sort(key=len)\n",
        "print(list4)"
      ],
      "metadata": {
        "id": "NBM8AYs0KLAc"
      },
      "execution_count": null,
      "outputs": []
    },
    {
      "cell_type": "code",
      "source": [
        "print(characters)"
      ],
      "metadata": {
        "id": "x2HsCcMMJiPt"
      },
      "execution_count": null,
      "outputs": []
    },
    {
      "cell_type": "markdown",
      "metadata": {
        "id": "Nut8kJ2kn0O4"
      },
      "source": [
        "### index()"
      ]
    },
    {
      "cell_type": "code",
      "source": [
        "characters.insert(4,\"a\")"
      ],
      "metadata": {
        "id": "6bU3pHHK9XRh"
      },
      "execution_count": null,
      "outputs": []
    },
    {
      "cell_type": "code",
      "source": [
        "characters.index('a',2)"
      ],
      "metadata": {
        "id": "a3r2AWJS9kVm"
      },
      "execution_count": null,
      "outputs": []
    },
    {
      "cell_type": "code",
      "execution_count": null,
      "metadata": {
        "id": "6motr1fiKm7N"
      },
      "outputs": [],
      "source": [
        "characters.index('a',0)"
      ]
    },
    {
      "cell_type": "markdown",
      "metadata": {
        "id": "1-x8ijLboMGr"
      },
      "source": [
        "### sort() and reverse() methods\n",
        "Purpose: Sorts the elements in the list in-place in descending order. It modifies the list to be sorted based on values.\n",
        "\n",
        "Purpose: Reverses the order of the elements in the list in-place without sorting them. It simply flips the list from end to start."
      ]
    },
    {
      "cell_type": "code",
      "source": [
        "# print(chr())\n",
        "print(ord('Z'))\n",
        "print(ord('a'))"
      ],
      "metadata": {
        "id": "3Nb65ceG-QLZ"
      },
      "execution_count": null,
      "outputs": []
    },
    {
      "cell_type": "code",
      "execution_count": null,
      "metadata": {
        "id": "U7Ct5S3yoVLz"
      },
      "outputs": [],
      "source": [
        "# Sorts the list in ascending order (A-Z, a-z) using default Unicode values\n",
        "characters.sort()\n",
        "print(characters)  # Prints the sorted list (uppercase comes before lowercase)\n",
        "\n",
        "# Sorts the list in descending order (Z-A, z-a)\n",
        "characters.sort(reverse=True)\n",
        "print(characters)  # Prints the list sorted in reverse order\n",
        "\n",
        "# Reverses the current order of the list (no sorting involved)\n",
        "characters.reverse()\n",
        "print(characters)  # Prints the list in reversed order from the previous result"
      ]
    },
    {
      "cell_type": "markdown",
      "metadata": {
        "id": "QLmlV2dFxXY4"
      },
      "source": [
        "## Slicing"
      ]
    },
    {
      "cell_type": "code",
      "execution_count": null,
      "metadata": {
        "id": "mlyy92R-xmf1"
      },
      "outputs": [],
      "source": [
        "characters : list[str] = list(\"ABCDEFGHIJKLMNOPQRSTUVWXYZ\")\n",
        "print(characters)"
      ]
    },
    {
      "cell_type": "code",
      "execution_count": null,
      "metadata": {
        "id": "M8ZZJsF2x7Xn"
      },
      "outputs": [],
      "source": [
        "#                          0    1    2    ...                                                                                                         25\n",
        "characters: list[str] = ['A', 'B', 'C', 'D', 'E', 'F', 'G', 'H', 'I', 'J', 'K', 'L', 'M', 'N', 'O', 'P', 'Q', 'R', 'S', 'T', 'U', 'V', 'W', 'X', 'Y', 'Z']\n",
        "#                         -26 -25 -24  ...                                                                                                            -1\n",
        "\n",
        "# Default slicing goes from left to right\n",
        "print(len(characters))\n",
        "\n",
        "# list[start_index:end_index-1:step]\n",
        "\n",
        "print(characters[0:6])      # From index 0 to 5 (6 is excluded)\n",
        "print(characters[:4])       # From start to index 3 (4 is excluded)\n",
        "print(characters[-26:-24])  # From index -26 to -25 (−24 is excluded)\n",
        "print(characters[0:2:2])    # From index 0 to 1, step by 2 → ['A']\n",
        "print(characters[0:2:])     # From index 0 to 1, default step 1 → ['A', 'B']\n",
        "print(characters[0:7:3])    # From index 0 to 6, step by 3 → ['A', 'D', 'G']\n",
        "print(characters[::2])      # From start to end, step by 2 → ['A', 'C', 'E', 'G', 'I', 'K', 'M', 'O', 'Q', 'S', 'U', 'W', 'Y']\n",
        "print(characters[::-1])     # From start to end, step by -1 →"
      ]
    },
    {
      "cell_type": "code",
      "source": [
        "print(characters[5:-10])"
      ],
      "metadata": {
        "id": "gVeyF6ouPSt3"
      },
      "execution_count": null,
      "outputs": []
    },
    {
      "cell_type": "code",
      "source": [
        "list = [1,2,3,4,5,6,7,8,9,10]\n",
        "sub_list =list[0:9:2]\n",
        "print(sub_list)"
      ],
      "metadata": {
        "id": "GUxtm-BNNxIZ"
      },
      "execution_count": null,
      "outputs": []
    },
    {
      "cell_type": "code",
      "execution_count": null,
      "metadata": {
        "id": "7aUnHurryIdE"
      },
      "outputs": [],
      "source": [
        "print(characters)\n",
        "print(characters[::])"
      ]
    },
    {
      "cell_type": "code",
      "execution_count": null,
      "metadata": {
        "id": "Ic_3SULQzf9c"
      },
      "outputs": [],
      "source": [
        "characters : list[str] = ['A', 'B', 'C', 'D', 'E', 'F', 'G', 'H']\n",
        "                        #  0    1    2    3    4    5    6    7\n",
        "print(characters[::-1])\n",
        "print(characters[4:2:-1]) #E,D,C\n",
        "# print(characters[4:7])"
      ]
    },
    {
      "cell_type": "code",
      "execution_count": null,
      "metadata": {
        "id": "iKZ5UFnZzppD"
      },
      "outputs": [],
      "source": [
        "#                          0    1    2    3    4   5     6    7\n",
        "characters : list[str] = ['A', 'B', 'C', 'D', 'E', 'F', 'G', 'H']\n",
        "#                         -8    -7   -6  -5    -4   -3   -2   -1\n",
        "\n",
        "# iteration slicing ->\n",
        "# step -> positive\n",
        "# step <- negative\n",
        "print(characters[-2:-5:-1]) # ['G', 'F', 'E']\n",
        "print(characters[-5:-2]) # ['D', 'E', 'F']\n",
        "print(characters[::])\n",
        "print(characters[::-1])"
      ]
    },
    {
      "cell_type": "markdown",
      "metadata": {
        "id": "3sOWor23bgIp"
      },
      "source": [
        "## `in` and `is` operators"
      ]
    },
    {
      "cell_type": "markdown",
      "metadata": {
        "id": "rLjZiamVb3bz"
      },
      "source": [
        "### `in` Operator\n",
        "The `in` operator is used to check membership."
      ]
    },
    {
      "cell_type": "code",
      "execution_count": null,
      "metadata": {
        "id": "Ws3KPf0Zb8nz"
      },
      "outputs": [],
      "source": [
        "# 1️⃣ Lists\n",
        "my_list = [1, 2, 3, 4, 5]\n",
        "print(3 in my_list)      # True\n",
        "print(6 in my_list)      # False\n",
        "print(7 not in my_list)  # True\n",
        "\n",
        "# 2️⃣ Strings (case-sensitive)\n",
        "my_string = \"Hello, World!\"\n",
        "print(\"Hello\" in my_string)      # True\n",
        "print(\"Python\" in my_string)     # False\n",
        "print(\"World\" not in my_string)  # False\n",
        "\n",
        "# 3️⃣ Tuples & Sets\n",
        "print(2 in (1, 2, 3))    # True\n",
        "print('x' in {'x', 'y'}) # True\n",
        "\n",
        "# 4️⃣ Dictionaries (keys vs values)\n",
        "d = {'a': 1, 'b': 2}\n",
        "print('a' in d)          # True  – key membership\n",
        "print(1 in d)            # False – values ignored\n",
        "print(1 in d.values())   # True  – check values explicitly\n",
        "\n",
        "# Note: “in” triggers container.__contains__(item) under the hood,\n",
        "# so you can customize membership tests in your own classes.\n"
      ]
    },
    {
      "cell_type": "markdown",
      "metadata": {
        "id": "d34epecjcK1Z"
      },
      "source": [
        "### `is` Operator\n",
        "The is operator checks identity, i.e., whether two variables point to the same object in memory"
      ]
    },
    {
      "cell_type": "code",
      "source": [
        "# 1️⃣ Identity with mutable objects\n",
        "a = [1, 2, 3]\n",
        "b = [1, 2, 3]\n",
        "c = a\n",
        "\n",
        "print(a is b)      # False – same value, different lists\n",
        "print(a is c)      # True  – both names point to the same list\n",
        "print(a is not c)  # False – identity negated\n",
        "\n",
        "print(\"a:\", id(a))\n",
        "print(\"b:\", id(b))\n",
        "print(\"c:\", id(c))\n",
        "\n",
        "# 2️⃣ Identity with small, cached integers\n",
        "x = 10\n",
        "y = 10\n",
        "print(\"integers: \",x is y)      # True – CPython interns small ints (-5 … 256)\n",
        "\n",
        "# 3️⃣ Identity with larger integers (not guaranteed to be cached)\n",
        "big1 = 10_000\n",
        "big2 = 10_000\n",
        "print(\"big integers: \",big1 is big2)  # Usually False – separate objects\n",
        "\n",
        "\n",
        "# Note:\n",
        "# • ‘is’ / ‘is not’ checks object identity (id()), not value equality.\n",
        "# • Use ‘==’ to compare values; use ‘is’ to test for the same object\n",
        "# • Equality (==) can be customised via __eq__, but identity stays true only when both names\n",
        "#   reference the exact same object in memory."
      ],
      "metadata": {
        "id": "hi400QD6NHGn"
      },
      "execution_count": null,
      "outputs": []
    },
    {
      "cell_type": "code",
      "source": [
        "# Strings may be shared, but only sometimes\n",
        "\n",
        "# If identical string literals appear in the same file, Python often keeps just one copy:\n",
        "\n",
        "a = \"helloqqqqqqqqqqqqqqqqqqqqqqqqqqq\"\n",
        "b = \"helloqqqqqqqqqqqqqqqqqqqqqqqqqqq\"\n",
        "\n",
        "print(a is b)\n",
        "print(id(a))\n",
        "print(id(b))"
      ],
      "metadata": {
        "id": "dNg5iAalNlNr"
      },
      "execution_count": null,
      "outputs": []
    },
    {
      "cell_type": "markdown",
      "metadata": {
        "id": "nbsWTzV5mv66"
      },
      "source": [
        "## Extra"
      ]
    },
    {
      "cell_type": "code",
      "execution_count": null,
      "metadata": {
        "id": "uanfR1Xjl-ur"
      },
      "outputs": [],
      "source": [
        "print(help(print))"
      ]
    },
    {
      "cell_type": "markdown",
      "metadata": {
        "id": "wqVcnqsmGqBq"
      },
      "source": [
        "## Projects"
      ]
    },
    {
      "cell_type": "markdown",
      "metadata": {
        "id": "kA0ny_EGGqBr"
      },
      "source": [
        "### Project 1: Student Management System\n",
        "Create a program to manage a list of student names. Implement functionalities to:  \n",
        "Note: Without using advance concept like function, if-else structure, loops, etc.\n",
        "- Add a new student.\n",
        "- Remove a student by name.\n",
        "- Display all students in alphabetical order.\n",
        "- Count the total number of students."
      ]
    },
    {
      "cell_type": "markdown",
      "metadata": {
        "id": "-84sZPl1GqBs"
      },
      "source": [
        "### Project 2: List Operations Demo\n",
        "Develop a Python script to demonstrate:\n",
        "- Appending items to a list.\n",
        "- Inserting an item at a specific position.\n",
        "- Popping and removing items.\n",
        "- Sorting and reversing the list.\n",
        "- Slicing the list to create sub-lists.\n"
      ]
    },
    {
      "cell_type": "markdown",
      "metadata": {
        "id": "U86surDiGqBs"
      },
      "source": [
        "### Project 3: Shallow vs. Deep Copy Exploration\n",
        "Create a program to illustrate the difference between shallow and deep copying of lists using examples.\n",
        "Display the impact of modifying one list on its copy in both cases."
      ]
    }
  ],
  "metadata": {
    "colab": {
      "provenance": []
    },
    "kernelspec": {
      "display_name": "Python 3",
      "name": "python3"
    },
    "language_info": {
      "name": "python"
    }
  },
  "nbformat": 4,
  "nbformat_minor": 0
}
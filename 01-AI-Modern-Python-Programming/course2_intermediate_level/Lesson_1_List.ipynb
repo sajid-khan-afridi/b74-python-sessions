{
  "cells": [
    {
      "cell_type": "markdown",
      "metadata": {
        "id": "My4w3iNt2UY6"
      },
      "source": [
        "# What is List?"
      ]
    },
    {
      "cell_type": "markdown",
      "metadata": {
        "id": "t2uUP-Ph30js"
      },
      "source": [
        "## Problem"
      ]
    },
    {
      "cell_type": "markdown",
      "metadata": {
        "id": "fgDdErUn2vzI"
      },
      "source": [
        "If you want to store multiple items, you would need to create a separate variable for each one.\n",
        "\n",
        "```\n",
        "student1 = \"Ahmad\"\n",
        "student2 = \"Ali\"\n",
        "student3 = \"Kashif\"\n",
        "```\n",
        "\n",
        "This approach works fine if you have just a few items. But what if you have 10, 100, or even more? It quickly becomes unmanageable.\n",
        "\n",
        "If you want to add or remove an item, you have to manually shift the data around or create new variables.\n",
        "\n",
        "```\n",
        "student4 = \"Usman\"\n",
        "```\n",
        "\n",
        "Accessing an item requires you to remember the exact variable name associated with it.\n",
        "\n",
        "```\n",
        "print(student1)\n",
        "print(student2)\n",
        "```"
      ]
    },
    {
      "cell_type": "markdown",
      "metadata": {
        "id": "hS7-o45gU72v"
      },
      "source": [
        "## Solution"
      ]
    },
    {
      "cell_type": "markdown",
      "metadata": {
        "id": "Wt_hhuVaVOPN"
      },
      "source": [
        "### List\n",
        "A list in Python is like a container that can hold multiple items, one after another. Imagine you have a shopping list where you write down everything you need to buy. A Python list is very similar, but instead of just groceries, it can hold all kinds of things like numbers, words, or even other lists!\n",
        "\n",
        "### Store Multiple Items Together:\n",
        "\n",
        "A list allows you to keep multiple items in one place. For example, if you want to keep track of all your students' names, you can store them in a list.\n"
      ]
    },
    {
      "cell_type": "code",
      "execution_count": 1,
      "metadata": {
        "id": "QFKWuvaLSsaB"
      },
      "outputs": [],
      "source": [
        "# A list of strings\n",
        "\n",
        "students : list[str] = [\"Ahmad\", \"Ali\", \"Kashif\"]\n",
        "        # index      0        1         2\n",
        "        # neg idx   -3       -2        -1"
      ]
    },
    {
      "cell_type": "code",
      "source": [
        "print(students[1])"
      ],
      "metadata": {
        "id": "r_zZu78CEE-W",
        "outputId": "3ac46822-b43e-4a19-df7c-9267ffc697d7",
        "colab": {
          "base_uri": "https://localhost:8080/"
        }
      },
      "execution_count": 3,
      "outputs": [
        {
          "output_type": "stream",
          "name": "stdout",
          "text": [
            "Ali\n"
          ]
        }
      ]
    },
    {
      "cell_type": "code",
      "source": [
        "print(students[-2])"
      ],
      "metadata": {
        "id": "oETK4ossEXBb",
        "outputId": "bc129953-6238-4433-b525-2a53a551cbcc",
        "colab": {
          "base_uri": "https://localhost:8080/"
        }
      },
      "execution_count": 4,
      "outputs": [
        {
          "output_type": "stream",
          "name": "stdout",
          "text": [
            "Ali\n"
          ]
        }
      ]
    },
    {
      "cell_type": "code",
      "source": [
        "# A list of numbers\n",
        "\n",
        "numbers: list[int] = [10, 20, 30, 40]\n",
        "          # index      0  1   2   3\n",
        "          # neg idx   -4 -3  -2  -1"
      ],
      "metadata": {
        "id": "8ehsFGuZKQIq"
      },
      "execution_count": null,
      "outputs": []
    },
    {
      "cell_type": "code",
      "source": [
        "# A list of decimal numbers (floats)\n",
        "\n",
        "# temperatures: list[float] = [36.5, 37.0, 37.8]\n",
        "# temperatures.insert(1,37.5)\n",
        "\n",
        "temperatures: list[float] = [23.5, 37.0, 37.8]\n",
        "                # index        0     1     2\n",
        "                # neg idx     -3    -2    -1\n",
        "\n",
        "# print(temperatures)"
      ],
      "metadata": {
        "id": "O6fXSuBwKtGU"
      },
      "execution_count": null,
      "outputs": []
    },
    {
      "cell_type": "code",
      "source": [
        "# A list of True/False values (booleans)\n",
        "\n",
        "answers: list[bool] = [True, False, True, True]\n",
        "      # index          0      1      2     3\n",
        "      # neg idx       -4     -3     -2    -1"
      ],
      "metadata": {
        "id": "A7_p0kYCK_XF"
      },
      "execution_count": null,
      "outputs": []
    },
    {
      "cell_type": "code",
      "source": [
        "# A mixed‑type list (Python allows different types together)\n",
        "\n",
        "mixed: list[int|str|float|bool] = [1, \"apple\", 3.14, False]\n",
        "     # index   0      1       2      3\n",
        "     # neg    -4     -3      -2     -1"
      ],
      "metadata": {
        "id": "bbYXOgJiLEx7"
      },
      "execution_count": null,
      "outputs": []
    },
    {
      "cell_type": "code",
      "source": [
        "# A list of lists (nested list)\n",
        "\n",
        "matrix: list[list[int]] = [\n",
        "    [1, 2, 3],   # index 0  (row 1)\n",
        "    [4, 5, 6],   # index 1  (row 2)\n",
        "    [7, 8, 9]    # index 2  (row 3)\n",
        "]"
      ],
      "metadata": {
        "id": "qJqdJIW2LUTG"
      },
      "execution_count": null,
      "outputs": []
    },
    {
      "cell_type": "code",
      "source": [
        "# A list of strings(Again)\n",
        "\n",
        "students : list = [\"Ahmad\", \"Ali\", \"Kashif\"]\n",
        "        # index      0        1         2\n",
        "        # neg idx   -3       -2        -1"
      ],
      "metadata": {
        "id": "SOAZVbauLuIZ"
      },
      "execution_count": 5,
      "outputs": []
    },
    {
      "cell_type": "markdown",
      "metadata": {
        "id": "ZaZN7zpjgnOq"
      },
      "source": [
        "### Access Items by Position:\n",
        "\n",
        "Lists keep items in the order you put them in. You can access any item by telling Python where it is in the list (starting from 0)."
      ]
    },
    {
      "cell_type": "code",
      "execution_count": 6,
      "metadata": {
        "id": "dCNcXveVgqbe",
        "outputId": "8f3f584d-3b8c-4987-da1a-46d82ee12357",
        "colab": {
          "base_uri": "https://localhost:8080/"
        }
      },
      "outputs": [
        {
          "output_type": "stream",
          "name": "stdout",
          "text": [
            "Ahmad\n",
            "Ali\n",
            "Kashif\n"
          ]
        }
      ],
      "source": [
        "print(students[0])\n",
        "print(students[1])\n",
        "print(students[2])"
      ]
    },
    {
      "cell_type": "markdown",
      "metadata": {
        "id": "PgfUjz4lgxiK"
      },
      "source": [
        "### Change Items:\n",
        "\n",
        "You can easily change an item in the list if you need to update it."
      ]
    },
    {
      "cell_type": "code",
      "execution_count": 7,
      "metadata": {
        "id": "hXKyqi40gzHi",
        "outputId": "5bd9f5c8-a718-4460-bdff-31294323f06c",
        "colab": {
          "base_uri": "https://localhost:8080/"
        }
      },
      "outputs": [
        {
          "output_type": "stream",
          "name": "stdout",
          "text": [
            "['Saleem', 'Ali', 'Kashif']\n"
          ]
        }
      ],
      "source": [
        "students[0]: str = \"Saleem\"\n",
        "print(students)"
      ]
    },
    {
      "cell_type": "code",
      "execution_count": 8,
      "metadata": {
        "id": "kmQDFuomhAaA",
        "outputId": "b3b7daf9-e816-4132-9828-bfd63d5305ef",
        "colab": {
          "base_uri": "https://localhost:8080/"
        }
      },
      "outputs": [
        {
          "output_type": "stream",
          "name": "stdout",
          "text": [
            "Saleem\n"
          ]
        }
      ],
      "source": [
        "print(students[0])"
      ]
    },
    {
      "cell_type": "markdown",
      "metadata": {
        "id": "FhvgpqU0mmvW"
      },
      "source": [
        "## List Methods"
      ]
    },
    {
      "cell_type": "code",
      "source": [
        "len(students)"
      ],
      "metadata": {
        "id": "RTriXbuvJrut",
        "outputId": "557e3e02-d783-441d-d16c-73c1f3707eac",
        "colab": {
          "base_uri": "https://localhost:8080/"
        }
      },
      "execution_count": 11,
      "outputs": [
        {
          "output_type": "execute_result",
          "data": {
            "text/plain": [
              "3"
            ]
          },
          "metadata": {},
          "execution_count": 11
        }
      ]
    },
    {
      "cell_type": "code",
      "execution_count": 9,
      "metadata": {
        "id": "EBSKHHrNit_8",
        "outputId": "f75a6ee2-5041-4090-ea64-285c8e8481a7",
        "colab": {
          "base_uri": "https://localhost:8080/"
        }
      },
      "outputs": [
        {
          "output_type": "execute_result",
          "data": {
            "text/plain": [
              "['append',\n",
              " 'clear',\n",
              " 'copy',\n",
              " 'count',\n",
              " 'extend',\n",
              " 'index',\n",
              " 'insert',\n",
              " 'pop',\n",
              " 'remove',\n",
              " 'reverse',\n",
              " 'sort']"
            ]
          },
          "metadata": {},
          "execution_count": 9
        }
      ],
      "source": [
        "[i for i in dir(students) if \"__\" not in i]\n",
        "# dir(students)\n",
        "# len(students) #Python uses __len__ to find out the length of the list.__len__ \"behind-the-scenes\" functions"
      ]
    },
    {
      "cell_type": "code",
      "source": [
        "dir(students)"
      ],
      "metadata": {
        "id": "eWLVKozFMeYd",
        "outputId": "c8c7989b-4d14-4ce2-9767-250a401f7d18",
        "colab": {
          "base_uri": "https://localhost:8080/"
        }
      },
      "execution_count": 10,
      "outputs": [
        {
          "output_type": "execute_result",
          "data": {
            "text/plain": [
              "['__add__',\n",
              " '__class__',\n",
              " '__class_getitem__',\n",
              " '__contains__',\n",
              " '__delattr__',\n",
              " '__delitem__',\n",
              " '__dir__',\n",
              " '__doc__',\n",
              " '__eq__',\n",
              " '__format__',\n",
              " '__ge__',\n",
              " '__getattribute__',\n",
              " '__getitem__',\n",
              " '__getstate__',\n",
              " '__gt__',\n",
              " '__hash__',\n",
              " '__iadd__',\n",
              " '__imul__',\n",
              " '__init__',\n",
              " '__init_subclass__',\n",
              " '__iter__',\n",
              " '__le__',\n",
              " '__len__',\n",
              " '__lt__',\n",
              " '__mul__',\n",
              " '__ne__',\n",
              " '__new__',\n",
              " '__reduce__',\n",
              " '__reduce_ex__',\n",
              " '__repr__',\n",
              " '__reversed__',\n",
              " '__rmul__',\n",
              " '__setattr__',\n",
              " '__setitem__',\n",
              " '__sizeof__',\n",
              " '__str__',\n",
              " '__subclasshook__',\n",
              " 'append',\n",
              " 'clear',\n",
              " 'copy',\n",
              " 'count',\n",
              " 'extend',\n",
              " 'index',\n",
              " 'insert',\n",
              " 'pop',\n",
              " 'remove',\n",
              " 'reverse',\n",
              " 'sort']"
            ]
          },
          "metadata": {},
          "execution_count": 10
        }
      ]
    },
    {
      "cell_type": "code",
      "source": [
        "del_stu:str = students.pop() # invoke method\n",
        "print(del_stu)\n",
        "print(students)\n"
      ],
      "metadata": {
        "id": "WwIhcult7Jia",
        "outputId": "769ea831-0fc5-4104-82ba-a4ad1e7ae4ed",
        "colab": {
          "base_uri": "https://localhost:8080/"
        }
      },
      "execution_count": 12,
      "outputs": [
        {
          "output_type": "stream",
          "name": "stdout",
          "text": [
            "Kashif\n",
            "['Saleem', 'Ali']\n"
          ]
        }
      ]
    },
    {
      "cell_type": "code",
      "source": [
        "del_stu:str = students.pop() # invoke method\n",
        "print(del_stu)\n",
        "print(students)"
      ],
      "metadata": {
        "id": "IhTvNatgLEIh",
        "outputId": "6182585f-c6b7-458e-e7c0-77c6352e136a",
        "colab": {
          "base_uri": "https://localhost:8080/"
        }
      },
      "execution_count": 13,
      "outputs": [
        {
          "output_type": "stream",
          "name": "stdout",
          "text": [
            "Ali\n",
            "['Saleem']\n"
          ]
        }
      ]
    },
    {
      "cell_type": "markdown",
      "metadata": {
        "id": "CZVT5q0khJl1"
      },
      "source": [
        "### Append a new student\n"
      ]
    },
    {
      "cell_type": "code",
      "execution_count": 14,
      "metadata": {
        "id": "1_StCoUOhRKC",
        "outputId": "e7d81000-0d24-45b6-fb09-2bf568f4cca6",
        "colab": {
          "base_uri": "https://localhost:8080/"
        }
      },
      "outputs": [
        {
          "output_type": "stream",
          "name": "stdout",
          "text": [
            "['Saleem', 'Usman']\n"
          ]
        }
      ],
      "source": [
        "students.append(\"Usman\")\n",
        "print(students)"
      ]
    },
    {
      "cell_type": "markdown",
      "metadata": {
        "id": "j2C-m5gR0Xv_"
      },
      "source": [
        "### insert()"
      ]
    },
    {
      "cell_type": "code",
      "execution_count": 15,
      "metadata": {
        "id": "e4VmTLIX0aPq"
      },
      "outputs": [],
      "source": [
        "students.insert(0,\"ahmad\")"
      ]
    },
    {
      "cell_type": "code",
      "execution_count": 16,
      "metadata": {
        "id": "IxphqU6gzu71",
        "outputId": "6e4407fd-b5ff-4961-97fb-fb45352376ae",
        "colab": {
          "base_uri": "https://localhost:8080/"
        }
      },
      "outputs": [
        {
          "output_type": "stream",
          "name": "stdout",
          "text": [
            "['ahmad', 'Saleem', 'Usman']\n"
          ]
        }
      ],
      "source": [
        "print(students)"
      ]
    },
    {
      "cell_type": "code",
      "execution_count": 17,
      "metadata": {
        "id": "N4tjNi9_z17y",
        "outputId": "ce5bd2dd-7e20-4fcd-e814-fab9c0d2d4f8",
        "colab": {
          "base_uri": "https://localhost:8080/"
        }
      },
      "outputs": [
        {
          "output_type": "stream",
          "name": "stdout",
          "text": [
            "['ahmad', 'Saleem', 'Iqbal', 'Usman']\n"
          ]
        }
      ],
      "source": [
        "students.insert(2,\"Iqbal\")\n",
        "print(students)"
      ]
    },
    {
      "cell_type": "markdown",
      "metadata": {
        "id": "L4nI2MGqhV9q"
      },
      "source": [
        "### Pop the last student"
      ]
    },
    {
      "cell_type": "code",
      "execution_count": 18,
      "metadata": {
        "id": "mfNPoAf5hYTI",
        "outputId": "560aa5fa-413e-4927-8657-fd8fb44609dd",
        "colab": {
          "base_uri": "https://localhost:8080/"
        }
      },
      "outputs": [
        {
          "output_type": "stream",
          "name": "stdout",
          "text": [
            "Usman\n",
            "['ahmad', 'Saleem', 'Iqbal']\n"
          ]
        }
      ],
      "source": [
        "last_student:list[str] = students.pop()\n",
        "print(last_student)\n",
        "print(students)"
      ]
    },
    {
      "cell_type": "markdown",
      "metadata": {
        "id": "HxambH-uhlZI"
      },
      "source": [
        "### Remove a specific or custom student by name"
      ]
    },
    {
      "cell_type": "code",
      "execution_count": 20,
      "metadata": {
        "id": "zMBCxFkihnn9",
        "outputId": "9b2857c1-e605-4e92-c7f3-85f526571769",
        "colab": {
          "base_uri": "https://localhost:8080/"
        }
      },
      "outputs": [
        {
          "output_type": "stream",
          "name": "stdout",
          "text": [
            "['ahmad', 'Iqbal']\n"
          ]
        }
      ],
      "source": [
        "students.remove(\"Saleem\")\n",
        "print(students)"
      ]
    },
    {
      "cell_type": "code",
      "source": [
        "students.insert(2,\"ali\")"
      ],
      "metadata": {
        "id": "Tv5fNI5w9B0s"
      },
      "execution_count": 21,
      "outputs": []
    },
    {
      "cell_type": "code",
      "source": [
        "print(students)"
      ],
      "metadata": {
        "id": "xA6ovCAd9KjY",
        "outputId": "4b32f9b0-4b0d-4071-c00e-04f130acc6f4",
        "colab": {
          "base_uri": "https://localhost:8080/"
        }
      },
      "execution_count": 22,
      "outputs": [
        {
          "output_type": "stream",
          "name": "stdout",
          "text": [
            "['ahmad', 'Iqbal', 'ali']\n"
          ]
        }
      ]
    },
    {
      "cell_type": "code",
      "source": [
        "students.remove(\"ali\")\n",
        "print(students)"
      ],
      "metadata": {
        "id": "JEUvm0Vi9Wyn",
        "outputId": "81b33dbb-4dd5-4538-95f2-73dc1db56861",
        "colab": {
          "base_uri": "https://localhost:8080/"
        }
      },
      "execution_count": 23,
      "outputs": [
        {
          "output_type": "stream",
          "name": "stdout",
          "text": [
            "['ahmad', 'Iqbal']\n"
          ]
        }
      ]
    },
    {
      "cell_type": "markdown",
      "metadata": {
        "id": "zLIHsobFkcia"
      },
      "source": [
        "### shallow copy vs deep copy"
      ]
    },
    {
      "cell_type": "code",
      "execution_count": 24,
      "metadata": {
        "id": "0kLO63NdkhL7",
        "outputId": "a867ce1c-99c9-45e4-c474-f9a7bf061344",
        "colab": {
          "base_uri": "https://localhost:8080/"
        }
      },
      "outputs": [
        {
          "output_type": "stream",
          "name": "stdout",
          "text": [
            "137776568768192\n",
            "137776568768192\n"
          ]
        }
      ],
      "source": [
        "# shallow copy\n",
        "x : list[str] = ['a','b','c']\n",
        "y = x # shallow copy\n",
        "print(id(x))\n",
        "print(id(y))"
      ]
    },
    {
      "cell_type": "code",
      "source": [
        "x.append('d')\n",
        "print(\"x: \",x)\n",
        "print(\"y: \",y)"
      ],
      "metadata": {
        "id": "l6aj8TVyOqzO",
        "outputId": "243991d5-49d4-4352-a13c-22e5061d1a56",
        "colab": {
          "base_uri": "https://localhost:8080/"
        }
      },
      "execution_count": 25,
      "outputs": [
        {
          "output_type": "stream",
          "name": "stdout",
          "text": [
            "x:  ['a', 'b', 'c', 'd']\n",
            "y:  ['a', 'b', 'c', 'd']\n"
          ]
        }
      ]
    },
    {
      "cell_type": "code",
      "source": [
        "y.append('e')\n",
        "print(x)\n",
        "print(y)"
      ],
      "metadata": {
        "id": "v107FDnx-dzg",
        "outputId": "b34ae4bd-0a14-4883-803f-68f012472b54",
        "colab": {
          "base_uri": "https://localhost:8080/"
        }
      },
      "execution_count": 26,
      "outputs": [
        {
          "output_type": "stream",
          "name": "stdout",
          "text": [
            "['a', 'b', 'c', 'd', 'e']\n",
            "['a', 'b', 'c', 'd', 'e']\n"
          ]
        }
      ]
    },
    {
      "cell_type": "code",
      "execution_count": 27,
      "metadata": {
        "id": "txwdgB-FlHWf",
        "outputId": "aca0f334-444f-47ae-c66c-c50545203f2f",
        "colab": {
          "base_uri": "https://localhost:8080/"
        }
      },
      "outputs": [
        {
          "output_type": "stream",
          "name": "stdout",
          "text": [
            "x: ['a', 'b', 'c', 'd']\n",
            "y: ['a', 'b', 'c']\n",
            "137776382155072 137776387491712\n"
          ]
        }
      ],
      "source": [
        "# deep copy\n",
        "x: list[str] = ['a', 'b', 'c']\n",
        "y = x.copy()        # Deep copy by copy() method\n",
        "x.append('d')\n",
        "print(\"x:\", x)\n",
        "print(\"y:\", y)\n",
        "\n",
        "print(id(x), id(y))"
      ]
    },
    {
      "cell_type": "code",
      "source": [
        "x.append('e')\n",
        "print(\"x:\", x)\n",
        "print(\"y:\", y)"
      ],
      "metadata": {
        "id": "oEeAnSIiPZOC",
        "outputId": "ad932aae-2061-4d9b-b320-aa25c17164e5",
        "colab": {
          "base_uri": "https://localhost:8080/"
        }
      },
      "execution_count": 28,
      "outputs": [
        {
          "output_type": "stream",
          "name": "stdout",
          "text": [
            "x: ['a', 'b', 'c', 'd', 'e']\n",
            "y: ['a', 'b', 'c']\n"
          ]
        }
      ]
    },
    {
      "cell_type": "code",
      "source": [
        "z = x[:] # another way of Deep copy by slice"
      ],
      "metadata": {
        "id": "oOA-crboE3No"
      },
      "execution_count": 29,
      "outputs": []
    },
    {
      "cell_type": "code",
      "source": [
        "print(id(x))\n",
        "print(id(z))"
      ],
      "metadata": {
        "id": "rszi7bQ2Pmjo",
        "outputId": "48e548e1-3a0b-4985-9c78-51fc3dcc3e79",
        "colab": {
          "base_uri": "https://localhost:8080/"
        }
      },
      "execution_count": 30,
      "outputs": [
        {
          "output_type": "stream",
          "name": "stdout",
          "text": [
            "137776382155072\n",
            "137776387638784\n"
          ]
        }
      ]
    },
    {
      "cell_type": "code",
      "source": [
        "z.append('e')\n",
        "print(z)\n",
        "print(x)"
      ],
      "metadata": {
        "id": "VCzAIBYFE9Xp",
        "outputId": "4f436c9e-b75a-4d32-c4cc-95849eafdbf8",
        "colab": {
          "base_uri": "https://localhost:8080/"
        }
      },
      "execution_count": 31,
      "outputs": [
        {
          "output_type": "stream",
          "name": "stdout",
          "text": [
            "['a', 'b', 'c', 'd', 'e', 'e']\n",
            "['a', 'b', 'c', 'd', 'e']\n"
          ]
        }
      ]
    },
    {
      "cell_type": "code",
      "execution_count": 32,
      "metadata": {
        "id": "AB6N_UQNkSse",
        "outputId": "87f01f72-f43f-4fee-f446-49a62c740a48",
        "colab": {
          "base_uri": "https://localhost:8080/"
        }
      },
      "outputs": [
        {
          "output_type": "stream",
          "name": "stdout",
          "text": [
            "137776382161664\n",
            "137776382234112\n"
          ]
        }
      ],
      "source": [
        "# # create new list\n",
        "x : list[str] = ['a','b','c']\n",
        "print(id(x))\n",
        "x = ['d','e','f']\n",
        "print(id(x))\n",
        "# print(x)"
      ]
    },
    {
      "cell_type": "markdown",
      "metadata": {
        "id": "ncS5vw54m9cz"
      },
      "source": [
        "### extend()\n",
        "Supply the List to be extended"
      ]
    },
    {
      "cell_type": "code",
      "execution_count": 33,
      "metadata": {
        "id": "UA01xUuQnMIx",
        "outputId": "c33f83a0-b7d9-41b2-c520-b1d9717f1d64",
        "colab": {
          "base_uri": "https://localhost:8080/"
        }
      },
      "outputs": [
        {
          "output_type": "stream",
          "name": "stdout",
          "text": [
            "[1, 2, 3, 4, 5, 6]\n",
            "[4, 5, 6]\n"
          ]
        }
      ],
      "source": [
        "arr1: list[int] = [1,2,3]\n",
        "a : list[int] = [4,5,6]\n",
        "arr1.extend(a)\n",
        "print(arr1)# 6 items\n",
        "print(a)# 3\n",
        "# print(id(a))"
      ]
    },
    {
      "cell_type": "markdown",
      "metadata": {
        "id": "qbzJ8W7SnWzN"
      },
      "source": [
        "### clear()"
      ]
    },
    {
      "cell_type": "code",
      "execution_count": 34,
      "metadata": {
        "id": "jDER99DendSz",
        "outputId": "5e6af70e-bf81-4f6c-970c-5a87d69dbfc5",
        "colab": {
          "base_uri": "https://localhost:8080/"
        }
      },
      "outputs": [
        {
          "output_type": "stream",
          "name": "stdout",
          "text": [
            "[]\n"
          ]
        }
      ],
      "source": [
        "a.clear()\n",
        "print(a)\n",
        "# print(id(a))"
      ]
    },
    {
      "cell_type": "markdown",
      "source": [
        "#### Time to Ask"
      ],
      "metadata": {
        "id": "Pqfi_LfSOXZL"
      }
    },
    {
      "cell_type": "code",
      "execution_count": null,
      "metadata": {
        "id": "igV19QkCAnSw"
      },
      "outputs": [],
      "source": [
        "\n",
        "students = [\"Ahmad\", \"Ali\", \"Kashif\"]\n",
        "\n",
        "# Using clear()\n",
        "print(id(students))  # Same ID?, list cleared in place. Before\n",
        "students.clear()\n",
        "print(id(students))  # Same ID?, list cleared in place. After\n",
        "students.append(\"Usman\")\n",
        "print(id(students))\n",
        "\n",
        "# Reassigning to empty list\n",
        "students = [\"Ahmad\", \"Ali\", \"Kashif\"]\n",
        "# print(id(students))\n",
        "students= []\n",
        "# print(id(students))"
      ]
    },
    {
      "cell_type": "markdown",
      "metadata": {
        "id": "ZaAciugjnsOU"
      },
      "source": [
        "### count(), index methods\n",
        "### list() function"
      ]
    },
    {
      "cell_type": "code",
      "execution_count": 35,
      "metadata": {
        "id": "bvvseidnnvFg",
        "outputId": "c7081b21-f49b-4139-9daa-cc05e92e5521",
        "colab": {
          "base_uri": "https://localhost:8080/"
        }
      },
      "outputs": [
        {
          "output_type": "stream",
          "name": "stdout",
          "text": [
            "['a', 'b', 'c', 'd', 'e', 'f', 'g', 'h', 'i', 'j', 'k', 'a', 'l', 'm', 'n', 'o', 'p', 'q', 'r', 's', 't', 'b', 'u', 'v', 'w', 'x', 'y', 'z']\n"
          ]
        }
      ],
      "source": [
        "characters : list[str] = list(\"abcdefghijkalmnopqrstbuvwxyz\")\n",
        "# characters : list[str] = [\"ahmad\"]\n",
        "print(characters)\n"
      ]
    },
    {
      "cell_type": "code",
      "source": [
        "characters.count('a')\n"
      ],
      "metadata": {
        "id": "m_9oZa0lPats",
        "outputId": "2919ba65-27c6-4835-bba9-bf547fcfdc2c",
        "colab": {
          "base_uri": "https://localhost:8080/"
        }
      },
      "execution_count": 36,
      "outputs": [
        {
          "output_type": "execute_result",
          "data": {
            "text/plain": [
              "2"
            ]
          },
          "metadata": {},
          "execution_count": 36
        }
      ]
    },
    {
      "cell_type": "code",
      "source": [
        "characters.append(\"Z\")"
      ],
      "metadata": {
        "id": "odE2KCbePpdM"
      },
      "execution_count": 37,
      "outputs": []
    },
    {
      "cell_type": "code",
      "source": [
        "print(characters)"
      ],
      "metadata": {
        "id": "QpU0DfXrPgqA",
        "outputId": "4865ebc1-6449-4a11-f056-2356acbc123b",
        "colab": {
          "base_uri": "https://localhost:8080/"
        }
      },
      "execution_count": 38,
      "outputs": [
        {
          "output_type": "stream",
          "name": "stdout",
          "text": [
            "['a', 'b', 'c', 'd', 'e', 'f', 'g', 'h', 'i', 'j', 'k', 'a', 'l', 'm', 'n', 'o', 'p', 'q', 'r', 's', 't', 'b', 'u', 'v', 'w', 'x', 'y', 'z', 'Z']\n"
          ]
        }
      ]
    },
    {
      "cell_type": "code",
      "source": [
        "characters.sort()"
      ],
      "metadata": {
        "id": "JvgQJLKa7mtU"
      },
      "execution_count": 39,
      "outputs": []
    },
    {
      "cell_type": "code",
      "source": [
        "print(characters)"
      ],
      "metadata": {
        "id": "Rmc4ODQI7vZx",
        "outputId": "33e08082-f3f6-4f68-dc83-f82cc2557079",
        "colab": {
          "base_uri": "https://localhost:8080/"
        }
      },
      "execution_count": 40,
      "outputs": [
        {
          "output_type": "stream",
          "name": "stdout",
          "text": [
            "['Z', 'a', 'a', 'b', 'b', 'c', 'd', 'e', 'f', 'g', 'h', 'i', 'j', 'k', 'l', 'm', 'n', 'o', 'p', 'q', 'r', 's', 't', 'u', 'v', 'w', 'x', 'y', 'z']\n"
          ]
        }
      ]
    },
    {
      "cell_type": "code",
      "source": [
        "print(ord('Z'))"
      ],
      "metadata": {
        "id": "Sc1CkSU-Q3fx",
        "outputId": "b452bcd2-fbbd-4b25-a430-242ea9b7c0ee",
        "colab": {
          "base_uri": "https://localhost:8080/"
        }
      },
      "execution_count": 41,
      "outputs": [
        {
          "output_type": "stream",
          "name": "stdout",
          "text": [
            "90\n"
          ]
        }
      ]
    },
    {
      "cell_type": "code",
      "source": [
        "print(ord('a'))"
      ],
      "metadata": {
        "id": "JW3ydVZ_Q-rc",
        "outputId": "e0f71b7d-2c36-4478-81fa-43d2cf49b64f",
        "colab": {
          "base_uri": "https://localhost:8080/"
        }
      },
      "execution_count": 42,
      "outputs": [
        {
          "output_type": "stream",
          "name": "stdout",
          "text": [
            "97\n"
          ]
        }
      ]
    },
    {
      "cell_type": "code",
      "source": [
        "characters.sort(key=str.lower)"
      ],
      "metadata": {
        "id": "8xyu5ocKJeWd"
      },
      "execution_count": 43,
      "outputs": []
    },
    {
      "cell_type": "code",
      "source": [
        "print(characters)"
      ],
      "metadata": {
        "id": "AKt7_-pvP6Vg",
        "outputId": "031fdc1f-0344-4e81-c6d5-ecdc897f0cf6",
        "colab": {
          "base_uri": "https://localhost:8080/"
        }
      },
      "execution_count": 44,
      "outputs": [
        {
          "output_type": "stream",
          "name": "stdout",
          "text": [
            "['a', 'a', 'b', 'b', 'c', 'd', 'e', 'f', 'g', 'h', 'i', 'j', 'k', 'l', 'm', 'n', 'o', 'p', 'q', 'r', 's', 't', 'u', 'v', 'w', 'x', 'y', 'Z', 'z']\n"
          ]
        }
      ]
    },
    {
      "cell_type": "code",
      "source": [
        "list4 = [\"word\",\"abc\",\"xyz\",\"shshjaja\",\"z\"]\n",
        "list4.sort(key=len)\n",
        "print(list4)"
      ],
      "metadata": {
        "id": "NBM8AYs0KLAc",
        "outputId": "4e01d9d7-0fcc-43f6-b0d7-f69a1b7b83db",
        "colab": {
          "base_uri": "https://localhost:8080/"
        }
      },
      "execution_count": 46,
      "outputs": [
        {
          "output_type": "stream",
          "name": "stdout",
          "text": [
            "['z', 'abc', 'xyz', 'word', 'shshjaja']\n"
          ]
        }
      ]
    },
    {
      "cell_type": "code",
      "source": [
        "print(characters)"
      ],
      "metadata": {
        "id": "x2HsCcMMJiPt",
        "outputId": "33f8b6f6-cccb-4489-c57c-fdb02dff52e7",
        "colab": {
          "base_uri": "https://localhost:8080/"
        }
      },
      "execution_count": 47,
      "outputs": [
        {
          "output_type": "stream",
          "name": "stdout",
          "text": [
            "['a', 'a', 'b', 'b', 'c', 'd', 'e', 'f', 'g', 'h', 'i', 'j', 'k', 'l', 'm', 'n', 'o', 'p', 'q', 'r', 's', 't', 'u', 'v', 'w', 'x', 'y', 'Z', 'z']\n"
          ]
        }
      ]
    },
    {
      "cell_type": "markdown",
      "metadata": {
        "id": "Nut8kJ2kn0O4"
      },
      "source": [
        "### index()"
      ]
    },
    {
      "cell_type": "code",
      "source": [
        "characters.insert(4,\"a\")"
      ],
      "metadata": {
        "id": "6bU3pHHK9XRh"
      },
      "execution_count": 48,
      "outputs": []
    },
    {
      "cell_type": "code",
      "source": [
        "print(characters)"
      ],
      "metadata": {
        "id": "k0J-UXWpRvxe",
        "outputId": "ea6cc0a2-476c-4898-ec2d-cc78449bab7c",
        "colab": {
          "base_uri": "https://localhost:8080/"
        }
      },
      "execution_count": 49,
      "outputs": [
        {
          "output_type": "stream",
          "name": "stdout",
          "text": [
            "['a', 'a', 'b', 'b', 'a', 'c', 'd', 'e', 'f', 'g', 'h', 'i', 'j', 'k', 'l', 'm', 'n', 'o', 'p', 'q', 'r', 's', 't', 'u', 'v', 'w', 'x', 'y', 'Z', 'z']\n"
          ]
        }
      ]
    },
    {
      "cell_type": "code",
      "source": [
        "characters.index('a',2)"
      ],
      "metadata": {
        "id": "a3r2AWJS9kVm",
        "outputId": "4e266f11-6e74-48da-aff5-d213b1216da1",
        "colab": {
          "base_uri": "https://localhost:8080/"
        }
      },
      "execution_count": 50,
      "outputs": [
        {
          "output_type": "execute_result",
          "data": {
            "text/plain": [
              "4"
            ]
          },
          "metadata": {},
          "execution_count": 50
        }
      ]
    },
    {
      "cell_type": "code",
      "execution_count": 51,
      "metadata": {
        "id": "6motr1fiKm7N",
        "outputId": "d31706fd-05f8-4e5f-c6f0-d804dea08860",
        "colab": {
          "base_uri": "https://localhost:8080/"
        }
      },
      "outputs": [
        {
          "output_type": "execute_result",
          "data": {
            "text/plain": [
              "0"
            ]
          },
          "metadata": {},
          "execution_count": 51
        }
      ],
      "source": [
        "characters.index('a',0)"
      ]
    },
    {
      "cell_type": "code",
      "source": [
        "characters.index('a')"
      ],
      "metadata": {
        "id": "k7L2WvNMTSFr",
        "outputId": "ed3ccdb5-fd82-4551-c5f2-87caf7494842",
        "colab": {
          "base_uri": "https://localhost:8080/"
        }
      },
      "execution_count": 52,
      "outputs": [
        {
          "output_type": "execute_result",
          "data": {
            "text/plain": [
              "0"
            ]
          },
          "metadata": {},
          "execution_count": 52
        }
      ]
    },
    {
      "cell_type": "code",
      "source": [
        "# characters.index('a',-1,-27)"
      ],
      "metadata": {
        "id": "2_b3idf0TZkx",
        "outputId": "8d944a61-4f63-490f-aa4a-b9db5aea5956",
        "colab": {
          "base_uri": "https://localhost:8080/",
          "height": 144
        }
      },
      "execution_count": 55,
      "outputs": [
        {
          "output_type": "error",
          "ename": "ValueError",
          "evalue": "'a' is not in list",
          "traceback": [
            "\u001b[0;31m---------------------------------------------------------------------------\u001b[0m",
            "\u001b[0;31mValueError\u001b[0m                                Traceback (most recent call last)",
            "\u001b[0;32m<ipython-input-55-f6e8e791a30e>\u001b[0m in \u001b[0;36m<cell line: 0>\u001b[0;34m()\u001b[0m\n\u001b[0;32m----> 1\u001b[0;31m \u001b[0mcharacters\u001b[0m\u001b[0;34m.\u001b[0m\u001b[0mindex\u001b[0m\u001b[0;34m(\u001b[0m\u001b[0;34m'a'\u001b[0m\u001b[0;34m,\u001b[0m\u001b[0;34m-\u001b[0m\u001b[0;36m1\u001b[0m\u001b[0;34m,\u001b[0m\u001b[0;34m-\u001b[0m\u001b[0;36m27\u001b[0m\u001b[0;34m)\u001b[0m\u001b[0;34m\u001b[0m\u001b[0;34m\u001b[0m\u001b[0m\n\u001b[0m",
            "\u001b[0;31mValueError\u001b[0m: 'a' is not in list"
          ]
        }
      ]
    },
    {
      "cell_type": "markdown",
      "metadata": {
        "id": "1-x8ijLboMGr"
      },
      "source": [
        "### sort() and reverse() methods\n",
        "Purpose: Sorts the elements in the list in-place in descending order. It modifies the list to be sorted based on values.\n",
        "\n",
        "Purpose: Reverses the order of the elements in the list in-place without sorting them. It simply flips the list from end to start."
      ]
    },
    {
      "cell_type": "code",
      "source": [
        "# Sorts the list in ascending order (A-Z, a-z) using default Unicode values (consider a ASCII CODE)\n",
        "characters.sort()\n",
        "print(characters)  # Prints the sorted list (uppercase comes before lowercase)\n"
      ],
      "metadata": {
        "id": "oVPJdCjbT4n-",
        "outputId": "405da42f-9bdb-4a6c-f931-ca9179ad937a",
        "colab": {
          "base_uri": "https://localhost:8080/"
        }
      },
      "execution_count": 56,
      "outputs": [
        {
          "output_type": "stream",
          "name": "stdout",
          "text": [
            "['Z', 'a', 'a', 'a', 'b', 'b', 'c', 'd', 'e', 'f', 'g', 'h', 'i', 'j', 'k', 'l', 'm', 'n', 'o', 'p', 'q', 'r', 's', 't', 'u', 'v', 'w', 'x', 'y', 'z']\n"
          ]
        }
      ]
    },
    {
      "cell_type": "code",
      "source": [
        "# Sorts the list in descending order (Z-A, z-a)\n",
        "characters.sort(reverse=True)\n",
        "print(characters)  # Prints the list sorted in reverse order"
      ],
      "metadata": {
        "id": "K3TmHLyeT8RT",
        "outputId": "b9c2d762-d46b-481b-f69f-d88a0b6b5e0c",
        "colab": {
          "base_uri": "https://localhost:8080/"
        }
      },
      "execution_count": 57,
      "outputs": [
        {
          "output_type": "stream",
          "name": "stdout",
          "text": [
            "['z', 'y', 'x', 'w', 'v', 'u', 't', 's', 'r', 'q', 'p', 'o', 'n', 'm', 'l', 'k', 'j', 'i', 'h', 'g', 'f', 'e', 'd', 'c', 'b', 'b', 'a', 'a', 'a', 'Z']\n"
          ]
        }
      ]
    },
    {
      "cell_type": "code",
      "execution_count": 58,
      "metadata": {
        "id": "U7Ct5S3yoVLz",
        "outputId": "b9d2dc09-3b0d-484f-b525-0317a867d4ce",
        "colab": {
          "base_uri": "https://localhost:8080/"
        }
      },
      "outputs": [
        {
          "output_type": "stream",
          "name": "stdout",
          "text": [
            "['Z', 'a', 'a', 'a', 'b', 'b', 'c', 'd', 'e', 'f', 'g', 'h', 'i', 'j', 'k', 'l', 'm', 'n', 'o', 'p', 'q', 'r', 's', 't', 'u', 'v', 'w', 'x', 'y', 'z']\n"
          ]
        }
      ],
      "source": [
        "# Reverses the current order of the list (no sorting involved)\n",
        "characters.reverse()\n",
        "print(characters)  # Prints the list in reversed order from the previous result"
      ]
    },
    {
      "cell_type": "code",
      "source": [
        "characters = ['a','z','b']\n",
        "characters.reverse()\n",
        "print(characters)"
      ],
      "metadata": {
        "id": "ba-Wijl0UdqC",
        "outputId": "4cbdf548-9fc2-4f72-fcda-74808d5371c6",
        "colab": {
          "base_uri": "https://localhost:8080/"
        }
      },
      "execution_count": 59,
      "outputs": [
        {
          "output_type": "stream",
          "name": "stdout",
          "text": [
            "['b', 'z', 'a']\n"
          ]
        }
      ]
    },
    {
      "cell_type": "markdown",
      "metadata": {
        "id": "QLmlV2dFxXY4"
      },
      "source": [
        "## Slicing"
      ]
    },
    {
      "cell_type": "code",
      "execution_count": null,
      "metadata": {
        "id": "mlyy92R-xmf1"
      },
      "outputs": [],
      "source": [
        "characters : list[str] = list(\"ABCDEFGHIJKLMNOPQRSTUVWXYZ\")\n",
        "print(characters)"
      ]
    },
    {
      "cell_type": "code",
      "execution_count": null,
      "metadata": {
        "id": "M8ZZJsF2x7Xn"
      },
      "outputs": [],
      "source": [
        "#                          0    1    2    ...                                                                                                         25\n",
        "characters: list[str] = ['A', 'B', 'C', 'D', 'E', 'F', 'G', 'H', 'I', 'J', 'K', 'L', 'M', 'N', 'O', 'P', 'Q', 'R', 'S', 'T', 'U', 'V', 'W', 'X', 'Y', 'Z']\n",
        "#                         -26 -25 -24  ...                                                                                                            -1\n",
        "\n",
        "# Default slicing goes from left to right\n",
        "print(len(characters))\n",
        "\n",
        "# list[start_index:end_index-1:step]\n",
        "\n",
        "print(characters[0:6])      # From index 0 to 5 (6 is excluded)\n",
        "print(characters[:4])       # From start to index 3 (4 is excluded)\n",
        "print(characters[-26:-24])  # From index -26 to -25 (−24 is excluded)\n",
        "print(characters[0:2:2])    # From index 0 to 1, step by 2 → ['A']\n",
        "print(characters[0:2:])     # From index 0 to 1, default step 1 → ['A', 'B']\n",
        "print(characters[0:7:3])    # From index 0 to 6, step by 3 → ['A', 'D', 'G']\n",
        "print(characters[::2])      # From start to end, step by 2 → ['A', 'C', 'E', 'G', 'I', 'K', 'M', 'O', 'Q', 'S', 'U', 'W', 'Y']\n",
        "print(characters[::-1])     # From start to end, step by -1 →"
      ]
    },
    {
      "cell_type": "code",
      "source": [
        "print(characters[5:-10])"
      ],
      "metadata": {
        "id": "gVeyF6ouPSt3"
      },
      "execution_count": null,
      "outputs": []
    },
    {
      "cell_type": "code",
      "source": [
        "list = [1,2,3,4,5,6,7,8,9,10]\n",
        "sub_list =list[0:9:2]\n",
        "print(sub_list)"
      ],
      "metadata": {
        "id": "GUxtm-BNNxIZ"
      },
      "execution_count": null,
      "outputs": []
    },
    {
      "cell_type": "code",
      "execution_count": null,
      "metadata": {
        "id": "7aUnHurryIdE"
      },
      "outputs": [],
      "source": [
        "print(characters)\n",
        "print(characters[::])"
      ]
    },
    {
      "cell_type": "code",
      "execution_count": null,
      "metadata": {
        "id": "Ic_3SULQzf9c"
      },
      "outputs": [],
      "source": [
        "characters : list[str] = ['A', 'B', 'C', 'D', 'E', 'F', 'G', 'H']\n",
        "                        #  0    1    2    3    4    5    6    7\n",
        "print(characters[::-1])\n",
        "print(characters[4:2:-1]) #E,D,C\n",
        "# print(characters[4:7])"
      ]
    },
    {
      "cell_type": "code",
      "execution_count": null,
      "metadata": {
        "id": "iKZ5UFnZzppD"
      },
      "outputs": [],
      "source": [
        "#                          0    1    2    3    4   5     6    7\n",
        "characters : list[str] = ['A', 'B', 'C', 'D', 'E', 'F', 'G', 'H']\n",
        "#                         -8    -7   -6  -5    -4   -3   -2   -1\n",
        "\n",
        "# iteration slicing ->\n",
        "# step -> positive\n",
        "# step <- negative\n",
        "print(characters[-2:-5:-1]) # ['G', 'F', 'E']\n",
        "print(characters[-5:-2]) # ['D', 'E', 'F']\n",
        "print(characters[::])\n",
        "print(characters[::-1])"
      ]
    },
    {
      "cell_type": "markdown",
      "metadata": {
        "id": "3sOWor23bgIp"
      },
      "source": [
        "## `in` and `is` operators"
      ]
    },
    {
      "cell_type": "markdown",
      "metadata": {
        "id": "rLjZiamVb3bz"
      },
      "source": [
        "### `in` Operator\n",
        "The `in` operator is used to check membership."
      ]
    },
    {
      "cell_type": "code",
      "execution_count": null,
      "metadata": {
        "id": "Ws3KPf0Zb8nz"
      },
      "outputs": [],
      "source": [
        "# 1️⃣ Lists\n",
        "my_list = [1, 2, 3, 4, 5]\n",
        "print(3 in my_list)      # True\n",
        "print(6 in my_list)      # False\n",
        "print(7 not in my_list)  # True\n",
        "\n",
        "# 2️⃣ Strings (case-sensitive)\n",
        "my_string = \"Hello, World!\"\n",
        "print(\"Hello\" in my_string)      # True\n",
        "print(\"Python\" in my_string)     # False\n",
        "print(\"World\" not in my_string)  # False\n",
        "\n",
        "# 3️⃣ Tuples & Sets\n",
        "print(2 in (1, 2, 3))    # True\n",
        "print('x' in {'x', 'y'}) # True\n",
        "\n",
        "# 4️⃣ Dictionaries (keys vs values)\n",
        "d = {'a': 1, 'b': 2}\n",
        "print('a' in d)          # True  – key membership\n",
        "print(1 in d)            # False – values ignored\n",
        "print(1 in d.values())   # True  – check values explicitly\n",
        "\n",
        "# Note: “in” triggers container.__contains__(item) under the hood,\n",
        "# so you can customize membership tests in your own classes.\n"
      ]
    },
    {
      "cell_type": "markdown",
      "metadata": {
        "id": "d34epecjcK1Z"
      },
      "source": [
        "### `is` Operator\n",
        "The is operator checks identity, i.e., whether two variables point to the same object in memory"
      ]
    },
    {
      "cell_type": "code",
      "source": [
        "# 1️⃣ Identity with mutable objects\n",
        "a = [1, 2, 3]\n",
        "b = [1, 2, 3]\n",
        "c = a\n",
        "\n",
        "print(a is b)      # False – same value, different lists\n",
        "print(a is c)      # True  – both names point to the same list\n",
        "print(a is not c)  # False – identity negated\n",
        "\n",
        "print(\"a:\", id(a))\n",
        "print(\"b:\", id(b))\n",
        "print(\"c:\", id(c))\n",
        "\n",
        "# 2️⃣ Identity with small, cached integers\n",
        "x = 10\n",
        "y = 10\n",
        "print(\"integers: \",x is y)      # True – CPython interns small ints (-5 … 256)\n",
        "\n",
        "# 3️⃣ Identity with larger integers (not guaranteed to be cached)\n",
        "big1 = 10_000\n",
        "big2 = 10_000\n",
        "print(\"big integers: \",big1 is big2)  # Usually False – separate objects\n",
        "\n",
        "\n",
        "# Note:\n",
        "# • ‘is’ / ‘is not’ checks object identity (id()), not value equality.\n",
        "# • Use ‘==’ to compare values; use ‘is’ to test for the same object\n",
        "# • Equality (==) can be customised via __eq__, but identity stays true only when both names\n",
        "#   reference the exact same object in memory."
      ],
      "metadata": {
        "id": "hi400QD6NHGn"
      },
      "execution_count": null,
      "outputs": []
    },
    {
      "cell_type": "code",
      "source": [
        "# Strings may be shared, but only sometimes\n",
        "\n",
        "# If identical string literals appear in the same file, Python often keeps just one copy:\n",
        "\n",
        "a = \"helloqqqqqqqqqqqqqqqqqqqqqqqqqqq\"\n",
        "b = \"helloqqqqqqqqqqqqqqqqqqqqqqqqqqq\"\n",
        "\n",
        "print(a is b)\n",
        "print(id(a))\n",
        "print(id(b))"
      ],
      "metadata": {
        "id": "dNg5iAalNlNr"
      },
      "execution_count": null,
      "outputs": []
    },
    {
      "cell_type": "markdown",
      "metadata": {
        "id": "nbsWTzV5mv66"
      },
      "source": [
        "## Extra"
      ]
    },
    {
      "cell_type": "code",
      "execution_count": null,
      "metadata": {
        "id": "uanfR1Xjl-ur"
      },
      "outputs": [],
      "source": [
        "print(help(print))"
      ]
    },
    {
      "cell_type": "markdown",
      "metadata": {
        "id": "wqVcnqsmGqBq"
      },
      "source": [
        "## Projects"
      ]
    },
    {
      "cell_type": "markdown",
      "metadata": {
        "id": "kA0ny_EGGqBr"
      },
      "source": [
        "### Project 1: Student Management System\n",
        "Create a program to manage a list of student names. Implement functionalities to:  \n",
        "\n",
        "- Add a new student.\n",
        "- Remove a student by name.\n",
        "- Display all students in alphabetical order.\n",
        "- Count the total number of students.\n",
        "\n",
        "Note: Without using advance concept like function, if-else structure, loops, etc."
      ]
    },
    {
      "cell_type": "markdown",
      "metadata": {
        "id": "-84sZPl1GqBs"
      },
      "source": [
        "### Project 2: List Operations Demo\n",
        "Develop a Python script to demonstrate:\n",
        "- Appending items to a list.\n",
        "- Inserting an item at a specific position.\n",
        "- Popping and removing items.\n",
        "- Sorting and reversing the list.\n",
        "\n"
      ]
    },
    {
      "cell_type": "markdown",
      "metadata": {
        "id": "U86surDiGqBs"
      },
      "source": [
        "### Project 3: Shallow vs. Deep Copy Exploration\n",
        "Create a program to illustrate the difference between shallow and deep copying of lists using examples.\n",
        "Display the impact of modifying one list on its copy in both cases."
      ]
    }
  ],
  "metadata": {
    "colab": {
      "provenance": []
    },
    "kernelspec": {
      "display_name": "Python 3",
      "name": "python3"
    },
    "language_info": {
      "name": "python"
    }
  },
  "nbformat": 4,
  "nbformat_minor": 0
}
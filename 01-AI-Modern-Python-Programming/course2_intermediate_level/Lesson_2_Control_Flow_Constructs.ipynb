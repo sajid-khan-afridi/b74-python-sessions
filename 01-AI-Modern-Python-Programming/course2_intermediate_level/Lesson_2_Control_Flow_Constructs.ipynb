{
  "nbformat": 4,
  "nbformat_minor": 0,
  "metadata": {
    "colab": {
      "provenance": []
    },
    "kernelspec": {
      "name": "python3",
      "display_name": "Python 3"
    },
    "language_info": {
      "name": "python"
    }
  },
  "cells": [
    {
      "cell_type": "markdown",
      "source": [
        "# Control Flow Constructs"
      ],
      "metadata": {
        "id": "N7sKeEJONZ2j"
      }
    },
    {
      "cell_type": "markdown",
      "source": [
        "### Problem:\n",
        "Without conditional statements, a program executes every statement sequentially, regardless of the context or situation. This results in inefficiency and an inability to make decisions dynamically based on specific conditions.\n",
        "\n",
        "### Solution by Conditional Statements:\n",
        "Conditional statements solve this problem by allowing the program to evaluate conditions and execute specific blocks of code only if the conditions are met. Using constructs like `if`, `elif`, and `else`, they enable dynamic decision-making, ensuring only relevant code runs based on the given scenario. This makes programs efficient, adaptable, and capable of handling multiple situations effectively."
      ],
      "metadata": {
        "id": "gInjCixJM76c"
      }
    },
    {
      "cell_type": "markdown",
      "source": [
        "\n",
        "Control Flow Constructs are used to define Conditional Statements, Logical Operators, and Membership & Identity Operators in Python, enabling the control of program execution based on conditions, logical evaluations, and membership tests."
      ],
      "metadata": {
        "id": "F7ySXCUr45oQ"
      }
    },
    {
      "cell_type": "markdown",
      "source": [
        "# Falsy values in Python\n",
        "\n",
        "These values are evaluated to 'false' that's why we call it `falsy` values.\n",
        "\n",
        "```python\n",
        "value_01 : None = None\n",
        "value_02 : int = 0\n",
        "value_03 : float = 0.0\n",
        "value_04 : str = \"\"\n",
        "Value_05 : bool = False\n",
        "value_06 : list[None] = []\n",
        "```\n",
        "And all other empty collections and sequences are also `falsy`."
      ],
      "metadata": {
        "id": "h6Nu_L6hmpiE"
      }
    },
    {
      "cell_type": "markdown",
      "source": [
        "# Conditional Statements in Python\n",
        "\n",
        "## Making Decisions in Code\n",
        "\n",
        "Imagine you’re creating an app that suggests activities based on the weather. If it’s sunny, it suggests a walk. If it’s rainy, it recommends reading a book indoors. But what about cloudy or snowy days? How can your app know what to do in each situation?\n",
        "\n",
        "This is where **conditional statements** come in—they help your code make decisions.\n",
        "\n",
        "## What Are Conditional Statements?\n",
        "\n",
        "Conditional statements in Python are like traffic signals for your code. They guide it to take the right path depending on the situation. Python uses three main tools for this:\n",
        "\n",
        "- **`if`**: Check if a condition is true.\n",
        "- **`elif`**: Check other conditions if the first isn’t true.\n",
        "- **`else`**: Provide a fallback if none of the conditions are true.\n",
        "\n",
        "By combining these, you can make your program smart enough to handle any situation!"
      ],
      "metadata": {
        "id": "DLkfOOfvisPo"
      }
    },
    {
      "cell_type": "code",
      "source": [
        "weather = input(\"Enter the weather: \")\n",
        "if weather == \"cold\":\n",
        "  print(\"stay at home\")\n",
        "elif weather == \"sunny\":\n",
        "  print(\"Go for walk\")\n",
        "elif weather == \"rainy\":\n",
        "  print(\"Pick umrella and go for walk\")\n",
        "else:\n",
        "  print(\"could not decide\")"
      ],
      "metadata": {
        "id": "6bvHeTxMvHBh"
      },
      "execution_count": null,
      "outputs": []
    },
    {
      "cell_type": "markdown",
      "source": [
        "### **1. `if` Statement:**  \n"
      ],
      "metadata": {
        "id": "VA-DX_sG5jA9"
      }
    },
    {
      "cell_type": "code",
      "execution_count": null,
      "metadata": {
        "id": "DhqUCYNo7Jfq"
      },
      "outputs": [],
      "source": [
        "weather = \"sunny\"\n",
        "\n",
        "if weather == \"Sunny\":\n",
        "    print(\"It's a beautiful day! Go for a walk.\")\n"
      ]
    },
    {
      "cell_type": "markdown",
      "source": [
        "### **2. Adding `else`:**  \n",
        "The `else` block provides a fallback if the `if` condition is `False`.\n"
      ],
      "metadata": {
        "id": "IbT3V92ci7Ln"
      }
    },
    {
      "cell_type": "code",
      "source": [
        "weather = \"sunny\"\n",
        "if 0:\n",
        "    print(\"It's a beautiful day! Go for a walk.\")\n",
        "else:\n",
        "    print(\"Stay indoors and read a book.\")\n"
      ],
      "metadata": {
        "id": "Al9Lm4N2i9EE"
      },
      "execution_count": null,
      "outputs": []
    },
    {
      "cell_type": "markdown",
      "source": [
        "\n",
        "### **3. The Ternary Operator**:  \n",
        "For concise `if-else` logic, use the ternary operator.\n"
      ],
      "metadata": {
        "id": "kVpABWZNlDZn"
      }
    },
    {
      "cell_type": "code",
      "source": [
        "weather = input(\"Enter the weather: \")\n",
        "message = \"Go for a walk.\" if weather == \"sunny\" else \"Read a book.\"\n",
        "print(message)\n"
      ],
      "metadata": {
        "id": "9LX9FqX6lE6u"
      },
      "execution_count": null,
      "outputs": []
    },
    {
      "cell_type": "code",
      "source": [
        "weather = input(\"what is the weather? you have choices are sunny or cold: \")\n",
        "if weather == \"sunny\":\n",
        "  print(\"Go for a walk\")\n",
        "else:\n",
        "  print(\"Read a book\")"
      ],
      "metadata": {
        "id": "1NPhFGfez0t1"
      },
      "execution_count": null,
      "outputs": []
    },
    {
      "cell_type": "markdown",
      "source": [
        "### **4. The `elif` Statement**:  \n",
        "Use `elif` for multiple conditions.\n"
      ],
      "metadata": {
        "id": "YpHc1etxlcao"
      }
    },
    {
      "cell_type": "code",
      "source": [
        "weather = \"sunny\"\n",
        "weather = \"cloudy\"\n",
        "if weather == \"sunny\":\n",
        "    print(\"Go for a walk.\")\n",
        "    print(\"Enjoy the weather\")\n",
        "elif weather == \"cloudy\":\n",
        "    print(\"Take an umbrella.\")\n",
        "else:\n",
        "    print(\"Stay indoors.\")"
      ],
      "metadata": {
        "id": "Y7ntFTNnldko"
      },
      "execution_count": null,
      "outputs": []
    },
    {
      "cell_type": "markdown",
      "source": [
        "## Advanced Techniques\n",
        "\n",
        "### **Nested Conditional Statements**  \n",
        "Nest conditions for more complex decision-making.\n"
      ],
      "metadata": {
        "id": "mJusl5bjl_LH"
      }
    },
    {
      "cell_type": "code",
      "source": [
        "is_member = True\n",
        "purchase_amount = 200\n",
        "\n",
        "if is_member:\n",
        "    if purchase_amount > 200:\n",
        "        print(\"You qualify for a 10% discount!\")\n",
        "    else:\n",
        "        print(\"Spend more to qualify.\")\n",
        "else:\n",
        "    print(\"Join as a member for discounts!\")"
      ],
      "metadata": {
        "id": "lLKgemn0mC1y"
      },
      "execution_count": null,
      "outputs": []
    },
    {
      "cell_type": "markdown",
      "source": [
        "### **Independent Conditions**  \n",
        "Evaluate multiple unrelated conditions independently."
      ],
      "metadata": {
        "id": "WJOPLLgbm4-f"
      }
    },
    {
      "cell_type": "code",
      "source": [
        "lights_on = True\n",
        "doors_locked = False\n",
        "\n",
        "if lights_on:\n",
        "    print(\"Turning off the lights.\")\n",
        "if not doors_locked:\n",
        "    print(\"Locking the doors.\")\n"
      ],
      "metadata": {
        "id": "KCKoBc4Nm7tB"
      },
      "execution_count": null,
      "outputs": []
    },
    {
      "cell_type": "markdown",
      "source": [
        "---\n",
        "\n",
        "## Why It Matters\n",
        "\n",
        "Conditional statements make code:  \n",
        "- **Dynamic:** Adapt to real-world scenarios.  \n",
        "- **Flexible:** Handle diverse inputs.  \n",
        "- **Intelligent:** Solve problems like user interaction, automation, and more.\n",
        "\n",
        "\n",
        "\n"
      ],
      "metadata": {
        "id": "QD_LjZqtnZrj"
      }
    },
    {
      "cell_type": "markdown",
      "source": [
        "---\n",
        "\n",
        "### Examples in Action"
      ],
      "metadata": {
        "id": "jxFTEs6991xe"
      }
    },
    {
      "cell_type": "markdown",
      "source": [
        "#### **1. Grading System**\n",
        "You type in your numeric score, press Enter, and it immediately tells you the letter grade: 90 or above is A, 80‑89 is B, 70‑79 is C, and anything below 70 is F."
      ],
      "metadata": {
        "id": "-vflcUG856Bq"
      }
    },
    {
      "cell_type": "code",
      "source": [
        "\n"
      ],
      "metadata": {
        "id": "QNMuJ8Q8nnSn"
      },
      "execution_count": null,
      "outputs": []
    },
    {
      "cell_type": "markdown",
      "source": [
        "#### **2. Restaurant Order System**"
      ],
      "metadata": {
        "id": "iQi7lVHIn1Pl"
      }
    },
    {
      "cell_type": "code",
      "source": [
        "meal = \"burger\"\n",
        "add_cheese = True\n",
        "\n",
        "if meal == \"burger\":\n",
        "    print(\"Burger selected.\")\n",
        "    if add_cheese:\n",
        "        print(\"Adding cheese.\")\n",
        "    else:\n",
        "        print(\"No cheese added.\")\n"
      ],
      "metadata": {
        "id": "zVUdFBJhn3BO"
      },
      "execution_count": null,
      "outputs": []
    },
    {
      "cell_type": "markdown",
      "source": [
        "## Takeaway\n",
        "\n",
        "Conditional statements are the backbone of decision-making in Python. Whether you need a simple `if` or complex nested logic, mastering these tools unlocks smarter, more flexible programming."
      ],
      "metadata": {
        "id": "jaljNBG_oEi9"
      }
    },
    {
      "cell_type": "markdown",
      "source": [
        "# Logical Operators in Python\n",
        "\n",
        "## Smarter Decisions in Code\n",
        "\n",
        "Imagine you're creating a game that gives rewards:\n",
        "\n",
        "- A big bonus if the player scores above 50 **and** completes the level.  \n",
        "- A small bonus if the player completes the level **or** finds a hidden item.  \n",
        "- No bonus if neither condition is met.\n",
        "\n",
        "How can your code check these conditions together? This is where **logical operators** help.\n",
        "\n",
        "### Example:\n",
        "\n",
        "\n"
      ],
      "metadata": {
        "id": "XffNkIJRtQUC"
      }
    },
    {
      "cell_type": "code",
      "source": [],
      "metadata": {
        "id": "R_I_yvFatTpr"
      },
      "execution_count": null,
      "outputs": []
    },
    {
      "cell_type": "markdown",
      "source": [
        "### Logical Operators in Python -- Revision\n",
        "\n",
        "- **`and`**: All conditions must be true.  \n",
        "- **`or`**: At least one condition must be true.  \n",
        "- **`not`**: Reverses a condition (true becomes false).  \n"
      ],
      "metadata": {
        "id": "nq3cqnSuAHoF"
      }
    },
    {
      "cell_type": "markdown",
      "source": [
        "Here are the truth tables for Python's logical operators: **`and`**, **`or`**, and **`not`**.\n",
        "\n",
        "### **Truth Table for `and`**\n",
        "`and` returns `True` if **both conditions** are `True`.\n",
        "\n",
        "| Condition 1 | Condition 2 | Result (`Condition 1 and Condition 2`) |\n",
        "|-------------|-------------|-----------------------------------------|\n",
        "| `True`      | `True`      | `True`                                  |\n",
        "| `True`      | `False`     | `False`                                 |\n",
        "| `False`     | `True`      | `False`                                 |\n",
        "| `False`     | `False`     | `False`                                 |\n",
        "\n",
        "---\n",
        "\n",
        "### **Truth Table for `or`**\n",
        "`or` returns `True` if **at least one condition** is `True`.\n",
        "\n",
        "| Condition 1 | Condition 2 | Result (`Condition 1 or Condition 2`) |\n",
        "|-------------|-------------|----------------------------------------|\n",
        "| `True`      | `True`      | `True`                                 |\n",
        "| `True`      | `False`     | `True`                                 |\n",
        "| `False`     | `True`      | `True`                                 |\n",
        "| `False`     | `False`     | `False`                                |\n",
        "\n",
        "---\n",
        "\n",
        "### **Truth Table for `not`**\n",
        "`not` reverses the condition (i.e., `True` becomes `False`, and vice versa).\n",
        "\n",
        "| Condition   | Result (`not Condition`) |\n",
        "|-------------|---------------------------|\n",
        "| `True`      | `False`                   |\n",
        "| `False`     | `True`                    |\n",
        "\n",
        "---\n",
        "\n",
        "These truth tables summarize how each logical operator behaves when combining or modifying conditions."
      ],
      "metadata": {
        "id": "lKub6zA5xVw8"
      }
    },
    {
      "cell_type": "markdown",
      "source": [
        "## Projects"
      ],
      "metadata": {
        "id": "LZb2mC_NLetk"
      }
    },
    {
      "cell_type": "markdown",
      "source": [
        "### Project 1: Weather Suggestion App\n",
        "Create a program that:\n",
        "- Asks the user for the current weather (e.g., sunny, rainy, cloudy).\n",
        "- Uses conditional statements to suggest an activity based on the weather.\n",
        "- First implement using `if`, `elif` and `else`\n",
        "- Then implements the ternary operator for concise decision-making.\n"
      ],
      "metadata": {
        "id": "Y4s9LUmpLg44"
      }
    },
    {
      "cell_type": "markdown",
      "source": [
        "### Project 2: Grading System\n",
        "Develop a Python program that:\n",
        "- Accepts a numerical score from the user.\n",
        "- Uses `if`, `elif`, and `else` to determine the corresponding grade (A, B, C, F).\n",
        "- Includes nested conditions for advanced grading (e.g., adding \"+\" or \"-\" to the grade based on score ranges).\n"
      ],
      "metadata": {
        "id": "B8FxjigBLhXM"
      }
    },
    {
      "cell_type": "markdown",
      "source": [
        "### Project 3: Logical Rewards System\n",
        "Write a program to simulate a game rewards system:\n",
        "- A big reward is given if the player scores more than 100 and collects all keys.\n",
        "- A small reward is given if the player collects at least one key or completes the level.\n",
        "- Use logical operators (`and`, `or`) to implement the conditions.\n"
      ],
      "metadata": {
        "id": "DtzAuwn4Lhua"
      }
    }
  ]
}
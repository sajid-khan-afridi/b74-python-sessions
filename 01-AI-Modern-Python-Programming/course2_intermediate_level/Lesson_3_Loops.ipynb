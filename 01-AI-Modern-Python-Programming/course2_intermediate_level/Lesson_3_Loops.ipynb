{
  "nbformat": 4,
  "nbformat_minor": 0,
  "metadata": {
    "colab": {
      "provenance": []
    },
    "kernelspec": {
      "name": "python3",
      "display_name": "Python 3"
    },
    "language_info": {
      "name": "python"
    }
  },
  "cells": [
    {
      "cell_type": "markdown",
      "source": [
        "# Problem and Solution\n",
        "## The Problem:\n",
        "\n",
        "Imagine you’re organizing a birthday party and you want to send an invitation message to 50 of your friends. Without any tools or shortcuts, you would have to write the same message 50 times, changing only the name of each friend. This is repetitive and time-consuming.\n",
        "\n",
        "you would have to manually send each message like this:\n",
        "\n",
        "```\n",
        "print(\"Hi Alice, you’re invited to my birthday party!\")\n",
        "print(\"Hi Bob, you’re invited to my birthday party!\")\n",
        "print(\"Hi Charlie, you’re invited to my birthday party!\")\n",
        "# ...and so on, for 50 friends\n",
        "```\n",
        "\n",
        "If you have a long list of friends, this approach quickly becomes impractical. Not only does it take a lot of time, but if you want to change the message later, you’d have to edit each line individually.\n",
        "\n",
        "## The Solution: Using Loops to Automate Invitations\n",
        "\n",
        "Now, let’s say you want to automate this process. You can use a loop to send the same message to all your friends with just a few lines of code"
      ],
      "metadata": {
        "id": "u9tBb9z2SjcK"
      }
    },
    {
      "cell_type": "code",
      "source": [
        "friends = [\"Alice\", \"Bob\", \"Charlie\", \"David\", \"Eve\"]  # and so on, up to any number of names\n",
        "\n",
        "print(f\"Hi {friends[0]} you’re invited to my birthday party!\")\n",
        "print(f\"Hi {friends[1]} you’re invited to my birthday party!\")\n",
        "print(f\"Hi {friends[2]} you’re invited to my birthday party!\")\n",
        "print(f\"Hi {friends[3]} you’re invited to my birthday party!\")\n",
        "print(f\"Hi {friends[4]} you’re invited to my birthday party!\")"
      ],
      "metadata": {
        "id": "gwarOKI5ufme",
        "outputId": "dba19aa4-b347-4d92-aeb0-63ca524ccc64",
        "colab": {
          "base_uri": "https://localhost:8080/"
        }
      },
      "execution_count": 2,
      "outputs": [
        {
          "output_type": "stream",
          "name": "stdout",
          "text": [
            "Hi Alice you’re invited to my birthday party!\n",
            "Hi Bob you’re invited to my birthday party!\n",
            "Hi Charlie you’re invited to my birthday party!\n",
            "Hi David you’re invited to my birthday party!\n",
            "Hi Eve you’re invited to my birthday party!\n"
          ]
        }
      ]
    },
    {
      "cell_type": "code",
      "execution_count": 3,
      "metadata": {
        "id": "Q_kNEf_zScoS",
        "outputId": "43db5ce4-94b9-4c94-8a4d-fef1240c8afc",
        "colab": {
          "base_uri": "https://localhost:8080/"
        }
      },
      "outputs": [
        {
          "output_type": "stream",
          "name": "stdout",
          "text": [
            "Hi Alice, you’re invited to my birthday party!\n",
            "Hi Bob, you’re invited to my birthday party!\n",
            "Hi Charlie, you’re invited to my birthday party!\n",
            "Hi David, you’re invited to my birthday party!\n",
            "Hi Eve, you’re invited to my birthday party!\n"
          ]
        }
      ],
      "source": [
        "friends = [\"Alice\", \"Bob\", \"Charlie\", \"David\", \"Eve\"]  # and so on, up to any number of names\n",
        "\n",
        "for friend in friends:\n",
        "    print(f\"Hi {friend}, you’re invited to my birthday party!\")"
      ]
    },
    {
      "cell_type": "markdown",
      "source": [
        "# For Loop\n",
        "\n",
        "The for loop is used to iterate over a sequence (like a list, tuple, set, string, dictionary) or any other iterable object. It allows you to execute a block of code a specific number of times, usually determined by the length of the sequence or the range of values.\n",
        "\n",
        "### Syntax\n",
        "\n",
        "```python\n",
        "for variable in iterable:\n",
        "    # Code block to execute\n",
        "```\n",
        "\n",
        "- **variable:** A temporary variable that takes on each value from the iterable.\n",
        "- **iterable:** An object that can be iterated over (e.g., [1, 2, 3], \"hello\", range(5)).\n",
        "- **Code block:** The indented code executed for each iteration."
      ],
      "metadata": {
        "id": "_4alw5VrT6hD"
      }
    },
    {
      "cell_type": "markdown",
      "source": [
        "### Iterating over a list"
      ],
      "metadata": {
        "id": "WG3-dW3KT_4h"
      }
    },
    {
      "cell_type": "code",
      "source": [
        "fruits : list[str] = [\"apple\", \"banana\", \"cherry\"]\n",
        "for fruit in fruits:\n",
        "    print(fruit)"
      ],
      "metadata": {
        "id": "GnyRxm77UDTC",
        "outputId": "15225b8c-92c1-4f65-c093-e28e71246188",
        "colab": {
          "base_uri": "https://localhost:8080/"
        }
      },
      "execution_count": 6,
      "outputs": [
        {
          "output_type": "stream",
          "name": "stdout",
          "text": [
            "apple\n",
            "banana\n",
            "cherry\n"
          ]
        }
      ]
    },
    {
      "cell_type": "markdown",
      "source": [
        "### Iterating over a string"
      ],
      "metadata": {
        "id": "a8I3w4UxUIqx"
      }
    },
    {
      "cell_type": "code",
      "source": [
        "for letter in \"Python\":\n",
        "    print(letter)"
      ],
      "metadata": {
        "id": "UiSrg0G1UK9f",
        "outputId": "50cb3f84-85b6-4ab0-c4b3-e397d6e66751",
        "colab": {
          "base_uri": "https://localhost:8080/"
        }
      },
      "execution_count": 7,
      "outputs": [
        {
          "output_type": "stream",
          "name": "stdout",
          "text": [
            "P\n",
            "y\n",
            "t\n",
            "h\n",
            "o\n",
            "n\n"
          ]
        }
      ]
    },
    {
      "cell_type": "markdown",
      "source": [
        "### Using `range()` in `for` loop\n",
        "\n",
        "The ```range()``` function generates a sequence of numbers, often used in for loops to control iteration. It’s memory-efficient because it creates a range object (not a list) that generates numbers on demand.\n",
        "\n",
        "**Syntax:**\n",
        "```python\n",
        "range(start, stop, step)\n",
        "```\n",
        "\n",
        "- start (optional): The starting number (inclusive). Defaults to 0.\n",
        "- stop (required): The ending number (exclusive).\n",
        "- step (optional): The increment between numbers. Defaults to 1.\n",
        "\n",
        "Returns a range object, which is iterable."
      ],
      "metadata": {
        "id": "oTR6LwFAUO6_"
      }
    },
    {
      "cell_type": "code",
      "source": [
        "value = range(5)\n",
        "print(value)\n",
        "# print(type(value))"
      ],
      "metadata": {
        "id": "gtxby7BmUg-i",
        "outputId": "2946a3b1-39f2-4d2e-bd41-1ffd1c6aa602",
        "colab": {
          "base_uri": "https://localhost:8080/"
        }
      },
      "execution_count": 15,
      "outputs": [
        {
          "output_type": "stream",
          "name": "stdout",
          "text": [
            "range(0, 5)\n"
          ]
        }
      ]
    },
    {
      "cell_type": "code",
      "source": [
        "for i in range(5):\n",
        "    print(i)"
      ],
      "metadata": {
        "id": "XD2d5EY1URsR",
        "outputId": "cdaacd8b-ee04-4c07-e887-28603eb5011b",
        "colab": {
          "base_uri": "https://localhost:8080/"
        }
      },
      "execution_count": 16,
      "outputs": [
        {
          "output_type": "stream",
          "name": "stdout",
          "text": [
            "0\n",
            "1\n",
            "2\n",
            "3\n",
            "4\n"
          ]
        }
      ]
    },
    {
      "cell_type": "code",
      "source": [
        "# simple for loop which print hello 5 times\n",
        "# _: A common convention in Python to indicate that the variable is unused in the loop.\n",
        "for _ in range(5):\n",
        "  print(\"hello\")"
      ],
      "metadata": {
        "id": "tDmebhSxZXxa",
        "outputId": "cdb05f30-da88-4b3e-8ae7-347c3bcfc55c",
        "colab": {
          "base_uri": "https://localhost:8080/"
        }
      },
      "execution_count": 17,
      "outputs": [
        {
          "output_type": "stream",
          "name": "stdout",
          "text": [
            "hello\n",
            "hello\n",
            "hello\n",
            "hello\n",
            "hello\n"
          ]
        }
      ]
    },
    {
      "cell_type": "markdown",
      "source": [
        "### Specifying a start and end in range()"
      ],
      "metadata": {
        "id": "_J-JDS1FUWaC"
      }
    },
    {
      "cell_type": "code",
      "source": [
        "for i in range(2, 6):\n",
        "    print(i)"
      ],
      "metadata": {
        "id": "OvrpwOa2UY8Y",
        "outputId": "2aefe1f0-8e22-435d-c6bc-85688600833e",
        "colab": {
          "base_uri": "https://localhost:8080/"
        }
      },
      "execution_count": 18,
      "outputs": [
        {
          "output_type": "stream",
          "name": "stdout",
          "text": [
            "2\n",
            "3\n",
            "4\n",
            "5\n"
          ]
        }
      ]
    },
    {
      "cell_type": "markdown",
      "source": [
        "### Using a step in range()"
      ],
      "metadata": {
        "id": "BpGpa4XaU8Td"
      }
    },
    {
      "cell_type": "code",
      "source": [
        "for i in range(1, 10, 2):\n",
        "    print(i)"
      ],
      "metadata": {
        "id": "WyN5n5H9U9Vt",
        "outputId": "c5875958-2884-4905-9a89-095a6e6c42f8",
        "colab": {
          "base_uri": "https://localhost:8080/"
        }
      },
      "execution_count": 21,
      "outputs": [
        {
          "output_type": "stream",
          "name": "stdout",
          "text": [
            "1\n",
            "3\n",
            "5\n",
            "7\n",
            "9\n"
          ]
        }
      ]
    },
    {
      "cell_type": "markdown",
      "source": [
        "### for Loop with  `zip()`\n",
        "Iterating over two lists simultaneously"
      ],
      "metadata": {
        "id": "WKRziGDhVCrz"
      }
    },
    {
      "cell_type": "code",
      "source": [
        "names : list[str] = [\"Alice\", \"Bob\", \"Charlie\"]\n",
        "ages : list[int] = [25, 30, 35]\n",
        "\n",
        "for name, age in zip(names, ages):\n",
        "    print(f\"{name} is {age} years old\")"
      ],
      "metadata": {
        "id": "VzzFd2fwVD2w",
        "outputId": "ca0d1247-98be-4241-fb37-df7cdfa78546",
        "colab": {
          "base_uri": "https://localhost:8080/"
        }
      },
      "execution_count": 34,
      "outputs": [
        {
          "output_type": "stream",
          "name": "stdout",
          "text": [
            "Alice is 25 years old\n",
            "Bob is 30 years old\n",
            "Charlie is 35 years old\n"
          ]
        }
      ]
    },
    {
      "cell_type": "code",
      "source": [
        "names : list[str] = [\"Alice\", \"Bob\", \"Charlie\", \"Ali\"]\n",
        "ages : list[int] = [25, 30, 35]\n",
        "\n",
        "for name, age in zip(names, ages,strict=True):\n",
        "    print(f\"{name} is {age} years old\")"
      ],
      "metadata": {
        "collapsed": true,
        "id": "buHDmErvuWre"
      },
      "execution_count": 36,
      "outputs": []
    },
    {
      "cell_type": "code",
      "source": [
        "# zip() method\n",
        "print(zip(names,ages))\n",
        "\n",
        "for i in zip(names,ages):\n",
        "    print(i)\n",
        "    # print(type(i))"
      ],
      "metadata": {
        "id": "lkTzeMcQk7lo",
        "outputId": "99b69929-3d3c-46d0-99c9-3e11093f3048",
        "colab": {
          "base_uri": "https://localhost:8080/"
        }
      },
      "execution_count": 39,
      "outputs": [
        {
          "output_type": "stream",
          "name": "stdout",
          "text": [
            "<zip object at 0x7c945275f340>\n",
            "('Alice', 25)\n",
            "('Bob', 30)\n",
            "('Charlie', 35)\n"
          ]
        }
      ]
    },
    {
      "cell_type": "markdown",
      "source": [
        "### for loop with ```enemerate()```\n",
        "\n",
        "The `enumerate()` function iterates over an iterable while keeping track of the index of each item. It pairs each item with its index, making it ideal for loops that need both the element and its position.\n",
        "\n",
        "**Syntax:**\n",
        "```python\n",
        " enumerate(iterable, start=0)\n",
        "```"
      ],
      "metadata": {
        "id": "kwoXIMnAtvdP"
      }
    },
    {
      "cell_type": "code",
      "source": [
        "names : list[str] = [\"Alice\", \"Bob\", \"Charlie\", \"Ali\"]\n",
        "\n",
        "for index,name in enumerate(names):\n",
        "    print(f\"{index} index and value {name}\")"
      ],
      "metadata": {
        "id": "L1rO9G8muwVk",
        "outputId": "d75ea895-33bf-4c27-e2c6-81d9011e1b58",
        "colab": {
          "base_uri": "https://localhost:8080/"
        }
      },
      "execution_count": 46,
      "outputs": [
        {
          "output_type": "stream",
          "name": "stdout",
          "text": [
            "0 index and value Alice\n",
            "1 index and value Bob\n",
            "2 index and value Charlie\n",
            "3 index and value Ali\n"
          ]
        }
      ]
    },
    {
      "cell_type": "code",
      "source": [
        "for index,name in enumerate(names,start=1):\n",
        "    print(f\"{index} index and value {name}\")"
      ],
      "metadata": {
        "id": "ixUhMZzZviNg",
        "outputId": "0effc976-40f3-4ad7-c180-6e47961ac67c",
        "colab": {
          "base_uri": "https://localhost:8080/"
        }
      },
      "execution_count": 45,
      "outputs": [
        {
          "output_type": "stream",
          "name": "stdout",
          "text": [
            "1 index and value Alice\n",
            "2 index and value Bob\n",
            "3 index and value Charlie\n",
            "4 index and value Ali\n"
          ]
        }
      ]
    },
    {
      "cell_type": "markdown",
      "source": [
        "# While Loop\n",
        "\n",
        "A `while` loop repeatedly executes a block of code **as long as a specified condition is `True`**. It's ideal when you don't know in advance how many times you need to iterate.\n",
        "\n",
        "### Syntax\n",
        "\n",
        "```python\n",
        "while condition:\n",
        "    # Code to execute\n",
        "```\n",
        "\n",
        "### Key Points\n",
        "\n",
        "- **Condition-Based:** The loop runs while the condition remains `True`.\n",
        "- **Risk of Infinite Loop:** Ensure the condition will eventually become `False` by updating variables inside the loop.\n",
        "\n",
        "### Example 1:\n"
      ],
      "metadata": {
        "id": "eRFfSlvxBZfK"
      }
    },
    {
      "cell_type": "code",
      "source": [
        "# Counting from 1 to 5 using a while loop\n",
        "counter = 1\n",
        "while counter <= 5:\n",
        "    print(counter)\n",
        "    counter += 1\n"
      ],
      "metadata": {
        "id": "f8TGNBdRBcxA",
        "outputId": "880523b5-6e2b-46ff-f12d-19ade57c61c6",
        "colab": {
          "base_uri": "https://localhost:8080/"
        }
      },
      "execution_count": 47,
      "outputs": [
        {
          "output_type": "stream",
          "name": "stdout",
          "text": [
            "1\n",
            "2\n",
            "3\n",
            "4\n",
            "5\n"
          ]
        }
      ]
    },
    {
      "cell_type": "markdown",
      "source": [
        "### Example 2: while Loop with a Condition. Number of iteration isn't predefined.\n",
        "You can use a while loop to keep prompting the user until they enter a valid input."
      ],
      "metadata": {
        "id": "d5yJv1T5DFry"
      }
    },
    {
      "cell_type": "code",
      "source": [
        "password = \"\"\n",
        "while password != \"Pass123\":\n",
        "    password = input(\"Enter the password: \")\n",
        "\n",
        "print(\"Access granted\")"
      ],
      "metadata": {
        "id": "tq3qXX8wDReX",
        "collapsed": true,
        "outputId": "59cbcb60-21e5-4b85-9ca5-8566f9a85787",
        "colab": {
          "base_uri": "https://localhost:8080/"
        }
      },
      "execution_count": 48,
      "outputs": [
        {
          "output_type": "stream",
          "name": "stdout",
          "text": [
            "Enter the password: 22\n",
            "Enter the password: 2222\n",
            "Enter the password: Pass123\n",
            "Access granted\n"
          ]
        }
      ]
    },
    {
      "cell_type": "markdown",
      "source": [
        "### Example 3: Infinite while Loop\n",
        "A while loop can run indefinitely if the condition never becomes False. This is known as an infinite loop, and it will continue to run until you manually stop it or break out of it with a break statement.\n"
      ],
      "metadata": {
        "id": "QiQGVGM6C6o-"
      }
    },
    {
      "cell_type": "code",
      "source": [
        "while True:\n",
        "    print(\"This loop will run forever\")\n",
        "    # You can include a break condition to exit the loop"
      ],
      "metadata": {
        "id": "SL0J2qhyC7vu"
      },
      "execution_count": 51,
      "outputs": []
    },
    {
      "cell_type": "markdown",
      "source": [
        "# While Loop vs For Loop\n",
        "\n",
        "### Key Differences\n",
        "\n",
        "- **Usage:**\n",
        "  - **`while` loop:** Use when the number of iterations **is not known** ahead of time and depends on a condition.\n",
        "  - **`for` loop:** Use when iterating over a sequence or a range where the number of iterations **is known**.\n",
        "\n",
        "- **Control Mechanism:**\n",
        "  - **`while` loop:** Controlled by a condition.\n",
        "  - **`for` loop:** Iterates over items in a sequence (like a list, range, or string).\n",
        "\n",
        "### Syntax Comparison\n",
        "\n",
        "```python\n",
        "# while loop\n",
        "while condition:\n",
        "    # Code block\n",
        "\n",
        "# for loop\n",
        "for item in iterable:\n",
        "    # Code block\n",
        "```\n"
      ],
      "metadata": {
        "id": "BpnjWK6GBtlD"
      }
    },
    {
      "cell_type": "markdown",
      "source": [
        "\n",
        "### When to Use Each Loop\n",
        "\n",
        "- **Use `while` loop when:**\n",
        "  - The loop should continue until a specific condition is met.\n",
        "  - The number of iterations isn't predetermined.\n",
        "\n",
        "- **Use `for` loop when:**\n",
        "  - You need to iterate over elements in a collection or range.\n",
        "  - The number of iterations is known or can be calculated.\n",
        "\n",
        "---\n",
        "\n",
        "By understanding these differences, you can choose the loop that best fits your programming needs."
      ],
      "metadata": {
        "id": "415wLEYsB858"
      }
    },
    {
      "cell_type": "markdown",
      "source": [
        "# Python provides some statements to control the flow of loops:\n",
        "\n",
        "Python provides three statements to modify loop behavior: break, continue, and else.\n"
      ],
      "metadata": {
        "id": "D2BuUKZaLwm7"
      }
    },
    {
      "cell_type": "markdown",
      "source": [
        "## 1. break Statement\n",
        "\n",
        "Exits the loop immediately, skipping the rest of the iterations.\n",
        "\n",
        "***Use in a for Loop***\n"
      ],
      "metadata": {
        "id": "zHUgbXG9L8dx"
      }
    },
    {
      "cell_type": "code",
      "source": [
        "for i in range(1, 11):\n",
        "    if i == 5:\n",
        "        break  # Exit the loop when i is 5\n",
        "    print(i)"
      ],
      "metadata": {
        "id": "_JmiosphL-MO"
      },
      "execution_count": null,
      "outputs": []
    },
    {
      "cell_type": "markdown",
      "source": [
        "***Use in a while Loop***"
      ],
      "metadata": {
        "id": "B-6nUm6RMGac"
      }
    },
    {
      "cell_type": "code",
      "source": [
        "while True:\n",
        "    query = input(\"Enter your query (quit or exit to stop): \")\n",
        "    if query.lower() in [\"quit\", \"exit\"]:\n",
        "        break\n",
        "\n",
        "print(\"Loop Stopped\")"
      ],
      "metadata": {
        "id": "bvbSr7r6MHdE"
      },
      "execution_count": null,
      "outputs": []
    },
    {
      "cell_type": "markdown",
      "source": [
        "## 2. continue Statement\n",
        "\n",
        "The continue statement is used to skip the current iteration of a loop and proceed with the next iteration. When continue is encountered, the loop doesn’t terminate; it just skips the remaining code in the current iteration and moves on to the next iteration.\n",
        "\n",
        "***Use in a for Loop***"
      ],
      "metadata": {
        "id": "KQZyJjs9MP-C"
      }
    },
    {
      "cell_type": "code",
      "source": [
        "for i in range(1, 6):\n",
        "    if i == 3:\n",
        "        continue  # Skip the iteration when i is 3\n",
        "    print(i)"
      ],
      "metadata": {
        "id": "3tp_UbdqMRtc",
        "outputId": "ebf2fb9f-02e8-4c70-b3b3-6367f7dd4ec5",
        "colab": {
          "base_uri": "https://localhost:8080/"
        }
      },
      "execution_count": 58,
      "outputs": [
        {
          "output_type": "stream",
          "name": "stdout",
          "text": [
            "1\n",
            "2\n",
            "4\n",
            "5\n"
          ]
        }
      ]
    },
    {
      "cell_type": "markdown",
      "source": [
        "***Use in a while Loop***"
      ],
      "metadata": {
        "id": "htKzgWjvMYGg"
      }
    },
    {
      "cell_type": "code",
      "source": [
        "count = 0\n",
        "while count < 5:\n",
        "    count += 1\n",
        "    if count == 3:\n",
        "        continue  # Skip the rest of the loop when count is 3\n",
        "    print(count)"
      ],
      "metadata": {
        "id": "Fdby0kTIMZLP",
        "outputId": "c1f16573-b6ed-4fe1-fc08-cdbf115f48e1",
        "colab": {
          "base_uri": "https://localhost:8080/"
        }
      },
      "execution_count": 59,
      "outputs": [
        {
          "output_type": "stream",
          "name": "stdout",
          "text": [
            "1\n",
            "2\n",
            "4\n",
            "5\n"
          ]
        }
      ]
    },
    {
      "cell_type": "markdown",
      "source": [
        "## else Clause\n",
        "\n",
        "- Executes when the loop completes normally (i.e., without hitting break).\n",
        "\n",
        "- Does not execute if the loop is terminated by break."
      ],
      "metadata": {
        "id": "JWczEoAW0Ane"
      }
    },
    {
      "cell_type": "code",
      "source": [
        "for i in range(5):\n",
        "    print(i)\n",
        "else:\n",
        "    print(\"Loop completed\")"
      ],
      "metadata": {
        "id": "sxEmmiLt0I8O",
        "outputId": "f032e967-99ae-4656-f98f-ff99508363d1",
        "colab": {
          "base_uri": "https://localhost:8080/"
        }
      },
      "execution_count": 60,
      "outputs": [
        {
          "output_type": "stream",
          "name": "stdout",
          "text": [
            "0\n",
            "1\n",
            "2\n",
            "3\n",
            "4\n",
            "Loop completed\n"
          ]
        }
      ]
    },
    {
      "cell_type": "markdown",
      "source": [
        "*Flow: The else block runs after the loop finishes all iterations.*"
      ],
      "metadata": {
        "id": "o9uW-HgI0RtC"
      }
    },
    {
      "cell_type": "code",
      "source": [
        "# with break\n",
        "\n",
        "for i in range(5):\n",
        "    if i == 3:\n",
        "        break\n",
        "    print(i)\n",
        "else:\n",
        "    print(\"This won't run\")"
      ],
      "metadata": {
        "id": "rvsSKqyr0ZgX",
        "outputId": "a717c556-a1af-4855-ae47-2066f97f9719",
        "colab": {
          "base_uri": "https://localhost:8080/"
        }
      },
      "execution_count": 61,
      "outputs": [
        {
          "output_type": "stream",
          "name": "stdout",
          "text": [
            "0\n",
            "1\n",
            "2\n"
          ]
        }
      ]
    },
    {
      "cell_type": "markdown",
      "source": [
        "**Use Case:** The `else` clause is useful for checking if a loop completed without interruption (e.g., searching for an item and confirming it wasn’t found)."
      ],
      "metadata": {
        "id": "QsZ9jYxT0qUG"
      }
    },
    {
      "cell_type": "markdown",
      "source": [
        "When to Use break and continue:\n",
        "\n",
        "**break**:\n",
        "-\tExiting a loop when a certain condition is met (e.g., finding an item in a list and stopping further search).\n",
        "- Preventing infinite loops when a certain condition occurs.\n",
        "\n",
        "**continue**:\n",
        "- Skipping certain values in a loop (e.g., skipping over unwanted data or values that don’t need processing).\n",
        "- Avoiding unnecessary computations or actions within specific loop iterations.\n",
        "\n",
        "\n",
        "Both break and continue are powerful tools for managing the flow of loops, allowing you to fine-tune how and when specific blocks of code are executed.\n"
      ],
      "metadata": {
        "id": "nIzc6ix5Mgdf"
      }
    },
    {
      "cell_type": "markdown",
      "source": [
        "## Projects"
      ],
      "metadata": {
        "id": "HLFnrBk7NSLO"
      }
    },
    {
      "cell_type": "markdown",
      "source": [
        "### Project 1: Squaring a List\n",
        "\n",
        "Build a program that:\n",
        "\n",
        "- Initialize an empty list called squares to store the results.\n",
        "- Use a for loop to iterate through numbers from 1 to 5.\n",
        "- For each number, calculate its square and append it to the squares list.\n",
        "- After the loop, print the squares list to show the results."
      ],
      "metadata": {
        "id": "g78TeqK95pMl"
      }
    },
    {
      "cell_type": "markdown",
      "source": [
        "### Project 2: Squaring Even Numbers\n",
        "Build a program that:\n",
        "\n",
        "- Initializes an empty list for squares.\n",
        "- Uses a for loop to iterate through numbers from 1 to 10.\n",
        "- Checks if the number is divisible by 2 (remainder equals zero).\n",
        "- Appends the square of the number to the list if the condition is met.\n",
        "- Prints the final list of squares."
      ],
      "metadata": {
        "id": "KXkRRacVFla2"
      }
    },
    {
      "cell_type": "markdown",
      "source": [
        "### Project 3: Automated Invitation System\n",
        "Write a Python program that:\n",
        "- Takes a list of friend names.\n",
        "- Uses a `for` loop to send a personalized invitation message to each friend.\n"
      ],
      "metadata": {
        "id": "cFCgv3I1NUZG"
      }
    },
    {
      "cell_type": "markdown",
      "source": [
        "### Project 4: Password Checker\n",
        "Develop a program using a `while` loop that:\n",
        "- Continuously prompts the user to enter a password.\n",
        "- Displays an error message for incorrect attempts.\n",
        "- Grants access when the correct password is entered.\n"
      ],
      "metadata": {
        "id": "bEo9V24yNYHp"
      }
    },
    {
      "cell_type": "markdown",
      "source": [
        "### Project 5: Number Analysis\n",
        "Create a program that:\n",
        "- Asks the user to input a range of numbers.\n",
        "- Uses a `for` loop to calculate the sum of all even numbers in the range.\n",
        "- Skips numbers divisible by 5 using the `continue` statement.\n",
        "\n",
        "<br>\n",
        "\n",
        "Task Breakdown:\n",
        "\n",
        "- Prompt the user to input two numbers: start and end (e.g., 1 and 10 for numbers 1 to 10).\n",
        "- Initialize a variable even_sum to store the sum of even numbers (start at 0).\n",
        "- Use a for loop with range(start, end + 1) to iterate through the numbers.\n",
        "- For each number:\n",
        "  \n",
        "  - Skip it if it’s divisible by 5 .\n",
        "  - If the number is even, add it to even_sum.\n",
        "- After the loop, print the sum of the even numbers that weren’t skipped.\n"
      ],
      "metadata": {
        "id": "yREvT5d-Na_T"
      }
    },
    {
      "cell_type": "markdown",
      "source": [
        "### Project 6: Countdown Timer\n",
        "Write a Python script that:\n",
        "- Uses a `while` loop to implement a countdown timer.\n",
        "- Counts down from a user-defined number to zero.\n",
        "- Prints a message when the countdown reaches zero.\n"
      ],
      "metadata": {
        "id": "BdfKSSZuNe_J"
      }
    },
    {
      "cell_type": "markdown",
      "source": [
        "### Project 7: Multiplication Table\n",
        "Build a program that:\n",
        "- Prompts the user for a number.\n",
        "- Uses a `for` loop to display its multiplication table up to 10.\n",
        "- Formats the output neatly.\n"
      ],
      "metadata": {
        "id": "MCOHpK6uNgHj"
      }
    }
  ]
}
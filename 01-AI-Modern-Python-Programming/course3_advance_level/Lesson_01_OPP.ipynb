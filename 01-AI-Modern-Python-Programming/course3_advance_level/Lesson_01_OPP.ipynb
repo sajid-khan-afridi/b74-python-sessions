{
  "cells": [
    {
      "cell_type": "markdown",
      "metadata": {
        "id": "qm23VtUSFX9w"
      },
      "source": [
        "# Object-Oriented Programming (OOP) in Python\n",
        "\n",
        "This notebook provides a clear and concise introduction to Object-Oriented Programming (OOP) in Python, covering core concepts, the four pillars of OOP, and a practical Mini Zoo Simulator project to demonstrate their application."
      ]
    },
    {
      "cell_type": "markdown",
      "metadata": {
        "id": "J47RIZVtFX9z"
      },
      "source": [
        "## 1. Everything in Python is an Object\n",
        "\n",
        "In Python, **everything is an object**, including primitive types like integers and strings. Objects are instances of **classes**, which act as blueprints defining attributes (data) and methods (behaviors)."
      ]
    },
    {
      "cell_type": "markdown",
      "metadata": {
        "id": "5upPCRlsFX9z"
      },
      "source": [
        "### Example: Objects and Types"
      ]
    },
    {
      "cell_type": "code",
      "execution_count": null,
      "metadata": {
        "id": "2tNANOIzFX90",
        "outputId": "9dbf335b-88df-4d2b-8ea8-28139e8ecb71",
        "colab": {
          "base_uri": "https://localhost:8080/"
        }
      },
      "outputs": [
        {
          "output_type": "stream",
          "name": "stdout",
          "text": [
            "<class 'int'>\n",
            "<class 'type'>\n",
            "<class 'type'>\n"
          ]
        }
      ],
      "source": [
        "x = 10\n",
        "print(type(x))        # Output: <class 'int'>\n",
        "print(type(int))      # Output: <class 'type'>\n",
        "print(type(type))     # Output: <class 'type'>"
      ]
    },
    {
      "cell_type": "markdown",
      "metadata": {
        "id": "5jYUCCNbFX91"
      },
      "source": [
        "- `x` is an instance of the `int` class.\n",
        "- The `int` class is an instance of the `type` metaclass.\n",
        "- The `type` metaclass is self-referential, forming the foundation of Python's type system.\n",
        "\n",
        "Functions are also objects:"
      ]
    },
    {
      "cell_type": "code",
      "execution_count": null,
      "metadata": {
        "id": "0MmuzDddFX92",
        "outputId": "b732f1d5-f0d3-482b-f4f3-e95644b48f69",
        "colab": {
          "base_uri": "https://localhost:8080/"
        }
      },
      "outputs": [
        {
          "output_type": "stream",
          "name": "stdout",
          "text": [
            "<class 'function'>\n"
          ]
        }
      ],
      "source": [
        "def greet(name):\n",
        "    return f\"Hello, {name}!\"\n",
        "say_hello = greet\n",
        "print(type(greet))         # Output: <class 'function'>"
      ]
    },
    {
      "cell_type": "markdown",
      "source": [
        "## 2. What is Object-Oriented Programming (OOP)? 🏠\n",
        "\n",
        "> <font color=YELLOW>**Object-Oriented Programming (OOP)** is a way of writing code that models real-world things using **classes** and **objects**. </font>\n",
        "\n",
        "> <font color=YELLOW> Instead of just writing functions, we group data and behavior together into objects — like how you’d describe a person, a car, or a dog in real life.</font>\n",
        "\n",
        "<hr color=gray>  \n",
        "\n",
        "### 🧱 The Blueprint Analogy\n",
        "\n",
        "Think of a **class** as a **blueprint**, and an **object** as the **actual thing built from that blueprint**.\n",
        "\n",
        "Imagine you’re designing houses:\n",
        "\n",
        "* The **blueprint** shows what a house looks like (rooms, doors, windows)\n",
        "* You can use that same blueprint to build many **houses**, each one slightly different\n",
        "\n",
        "In code:\n",
        "\n",
        "* `class House:` → the blueprint\n",
        "* `my_house = House()` → an actual house (object)\n",
        "\n",
        "<hr color=gray>  \n",
        "\n",
        "### 🚗 Real-Life Example: Cars\n",
        "\n",
        "Let’s take cars as an example:\n",
        "\n",
        "* **Class** = general idea of a car\n",
        "  (All cars have wheels, engines, can drive)\n",
        "* **Object** = specific car\n",
        "  (Your red Toyota, your friend's black Honda)\n",
        "\n",
        "Each car was made from the same blueprint, but has its own color, model, or speed.\n",
        "\n",
        "<hr color=gray>  \n",
        "\n",
        "### 💡 Why Use OOP?\n",
        "\n",
        "* 🔁 **Reuse**: One class can create many objects\n",
        "* 🧩 **Organized Code**: Keeps related data and actions together\n",
        "* 🔐 **Control**: You decide what parts of your object are visible or hidden\n",
        "* 🔧 **Easy Updates**: Change the class, and future objects will follow\n"
      ],
      "metadata": {
        "id": "VJ4Q_C4cYJOd"
      }
    },
    {
      "cell_type": "markdown",
      "metadata": {
        "id": "cskqtRrlFX93"
      },
      "source": [
        "## 3. Classes and Objects\n",
        "\n",
        "**1. Class:**\n",
        "\n",
        "Think of a class as a blueprint.\n",
        "\n",
        "> \"A class is like a recipe or a design. It defines what an object should have and what it can do.\"\n",
        "\n",
        "example:"
      ]
    },
    {
      "cell_type": "code",
      "source": [
        "class Student:\n",
        "    def __init__(self, name, age):\n",
        "        self.name = name\n",
        "        self.age = age\n"
      ],
      "metadata": {
        "id": "-VbDdQHHQaYe"
      },
      "execution_count": null,
      "outputs": []
    },
    {
      "cell_type": "markdown",
      "metadata": {
        "id": "9TXjBSebFX93"
      },
      "source": [
        "⬆️ Here, we define what a student is (name, age).  \n",
        "\n",
        "<br>\n",
        "\n",
        "**2. Object**\n",
        "\n",
        "An object is an actual thing created from a class — like a real student."
      ]
    },
    {
      "cell_type": "code",
      "source": [
        "s1 = Student(\"Hammad\", 22)\n",
        "s2 = Student(\"Ali\", 16)\n",
        "\n",
        "print(s1.name)\n",
        "print(s2.name)"
      ],
      "metadata": {
        "id": "OjcAVBnVRCkY",
        "outputId": "cbae84dc-c951-4bdc-c4c6-4894c9fe1614",
        "colab": {
          "base_uri": "https://localhost:8080/"
        }
      },
      "execution_count": null,
      "outputs": [
        {
          "output_type": "stream",
          "name": "stdout",
          "text": [
            "Hammad\n",
            "Ali\n"
          ]
        }
      ]
    },
    {
      "cell_type": "markdown",
      "source": [
        "⬆️ Now `s1` is a real student object with a name and age.  \n",
        "\n",
        "<br>  \n",
        "\n",
        "\n",
        "**3. Attributes and Methods**:  \n",
        "- Attributes = variables inside an object (e.g. name, age)\n",
        "\n",
        "- Methods = functions inside an object (e.g. speak(), study())    \n",
        "\n",
        "\n",
        "*Update class with a method:*"
      ],
      "metadata": {
        "id": "Ym-tqrYxMLqD"
      }
    },
    {
      "cell_type": "code",
      "source": [
        "class Student:\n",
        "    def __init__(self, name, age):\n",
        "        self.name = name\n",
        "        self.age = age\n",
        "\n",
        "    def introduce(self):\n",
        "        print(f\"My name is {self.name} and I'm {self.age} years old.\")"
      ],
      "metadata": {
        "id": "34vC3lueRs2J"
      },
      "execution_count": null,
      "outputs": []
    },
    {
      "cell_type": "markdown",
      "source": [
        "Usage:"
      ],
      "metadata": {
        "id": "o81ALSx8ONcB"
      }
    },
    {
      "cell_type": "code",
      "source": [
        "s1 = Student(\"Hammad\", 22)\n",
        "\n",
        "s1.introduce()"
      ],
      "metadata": {
        "id": "4X0ZbJAYR7B2",
        "outputId": "ef21d900-bf94-49ef-f38c-8cfdd9ace8f2",
        "colab": {
          "base_uri": "https://localhost:8080/"
        }
      },
      "execution_count": null,
      "outputs": [
        {
          "output_type": "stream",
          "name": "stdout",
          "text": [
            "My name is Hammad and I'm 22 years old.\n"
          ]
        }
      ]
    },
    {
      "cell_type": "code",
      "source": [
        "class Student:\n",
        "    def __init__(p, name, age):     # use Convention: 'self' instead of 'p'\n",
        "        p.name = name\n",
        "        p.age = age\n",
        "\n",
        "    def introduce(p):\n",
        "        print(f\"My name is {p.name} and I'm {p.age} years old.\")\n",
        "\n",
        "\n",
        "s1 = Student(\"Hammad\",22)\n",
        "\n",
        "s1.introduce()    # Student.introduce(s1) Behind the scene\n"
      ],
      "metadata": {
        "id": "AYUw6hx4VhIA",
        "outputId": "5e1c65b3-698c-4288-f24a-fa678ab54537",
        "colab": {
          "base_uri": "https://localhost:8080/"
        }
      },
      "execution_count": null,
      "outputs": [
        {
          "output_type": "stream",
          "name": "stdout",
          "text": [
            "My name is Hammad and I'm 22 years old.\n"
          ]
        }
      ]
    },
    {
      "cell_type": "markdown",
      "source": [
        "**4. Why Use OOP? (Real Talk)**\n",
        "\n",
        "- It keeps code organized and reusable\n",
        "- It matches how we think about the real world\n",
        "- It helps when building big applications (games, websites, banking systems, etc.)  \n",
        "\n",
        "\n",
        "<br>  \n",
        "\n",
        "**🧠 Easy Analogy:**  Think of a Game  \n",
        "\n",
        "> If you're building a game:\n",
        "\n",
        "- You'll have a Player class\n",
        "- An Enemy class\n",
        "- A Weapon class\n",
        "\n",
        "Each one has its own data and behavior. That's OOP.  \n",
        "\n",
        "<br>\n",
        "\n",
        "**Question:**  \n",
        "\n",
        "> “What are some real-world things we could model with code?”  \n",
        "\n",
        "\n",
        "<hr color=gray>"
      ],
      "metadata": {
        "id": "HUOEuzB1SbFU"
      }
    },
    {
      "cell_type": "markdown",
      "source": [
        "# 2nd way of initializing object attributes"
      ],
      "metadata": {
        "id": "oa8lkgcRRqnS"
      }
    },
    {
      "cell_type": "code",
      "source": [
        "class Human:\n",
        "  pass\n",
        "\n",
        "h1 = Human()\n",
        "h2 = Human()\n",
        "\n",
        "h1.name = \"Hammad\"\n",
        "h2.name = \"Ali\"\n",
        "\n",
        "print(h1.name)\n",
        "print(h2.name)"
      ],
      "metadata": {
        "id": "SXI-GjYoRQT7",
        "outputId": "9b108e69-827c-44aa-f38d-ab3afad88f61",
        "colab": {
          "base_uri": "https://localhost:8080/"
        }
      },
      "execution_count": null,
      "outputs": [
        {
          "output_type": "stream",
          "name": "stdout",
          "text": [
            "Hammad\n",
            "Ali\n"
          ]
        }
      ]
    },
    {
      "cell_type": "markdown",
      "source": [
        "### 3.1. 🛠️ What is `__init__()`?  \n",
        "The `__init__()` method is a special method in Python classes. It's called automatically whenever you create a new object from the class.\n",
        "\n",
        "This is where you set up the object's initial data — like giving it a name, color, size, etc. Think of it as the constructor that builds and prepares the object for use.  \n",
        "\n",
        "**Example:**  \n",
        "\n",
        "```python\n",
        "class Student:\n",
        "    def __init__(self, name, age):\n",
        "        self.name = name\n",
        "        self.age = age\n",
        "```\n",
        "when we write:\n",
        "\n",
        "```python\n",
        "s1 = Student(\"Hammad\",22)\n",
        "```\n",
        "python call:\n",
        "\n",
        "```python\n",
        "Student.__init__(s1, \"Ali\", 22)\n",
        "```  \n",
        "\n",
        "And it sets:  \n",
        "- s1.name = \"Ali\"\n",
        "- s1.age = 22\n",
        "\n",
        "<br>\n",
        "\n",
        "**✅ Key Points:**\n",
        "- `__init__()` runs automatically when you create an object.\n",
        "- `self` refers to the current object being created.\n",
        "- You must include self as the first parameter, even though you don't pass it when calling the class.\n",
        "- You can give it as many other parameters as needed to initialize the object's data.\n"
      ],
      "metadata": {
        "id": "irlcuvPdUN_K"
      }
    },
    {
      "cell_type": "markdown",
      "metadata": {
        "id": "aQOfH7YYFX93"
      },
      "source": [
        "## 4. The Four Pillars of OOP\n",
        "\n",
        "OOP is built on four key principles: **Encapsulation**, **Inheritance**, **Polymorphism**, and **Abstraction**."
      ]
    },
    {
      "cell_type": "markdown",
      "metadata": {
        "id": "65CCrYEhFX93"
      },
      "source": [
        "### 4.1 **Encapsulation**\n",
        "\n",
        "**Encapsulation** means bundling **data (attributes)** and **behavior (methods)** inside a class — and **restricting direct access** to some of the internal parts of an object to protect its integrity.\n",
        "\n",
        "Python does this using **naming conventions**, rather than strict rules like in some other languages (e.g., Java or C++). Python trusts the developer to follow the rules, but technically allows access if you really try.\n",
        "\n",
        "\n",
        "### 🔐 Access Levels in Python\n",
        "\n",
        "> 🧠 **Important**: Unlike other languages, Python doesn't *enforce* access restrictions. It relies on naming conventions to signal how a variable or method should be treated.\n",
        "\n",
        "#### ✅ Public\n",
        "\n",
        "* **No prefix** (e.g., `name`)\n",
        "* Accessible from **anywhere**, inside or outside the class\n",
        "* Default access level in Python\n",
        "\n",
        "#### ⚠️ Protected\n",
        "\n",
        "* **Single underscore prefix** (e.g., `_balance`)\n",
        "* Meant to be used **only inside the class and its subclasses**\n",
        "* Still accessible from outside — it's just a soft warning to developers\n",
        "\n",
        "#### 🔒 Private\n",
        "\n",
        "* **Double underscore prefix** (e.g., `__pin`)\n",
        "* Accessible **only within the class where it's defined**\n",
        "* Not accessible from outside or subclasses\n",
        "* Python uses name mangling to internally rename it to `_ClassName__pin`, making accidental access harder  \n",
        "\n",
        "**Summary**  \n",
        "\n",
        "| Level     | Prefix   | Access Scope                                     |\n",
        "| --------- | -------- | ------------------------------------------------ |\n",
        "| Public    | (none)   | Anywhere                                         |\n",
        "| Protected | `_name`  | Class and subclasses only (by convention)        |\n",
        "| Private   | `__name` | Class only, renamed internally via name mangling |\n",
        "\n"
      ]
    },
    {
      "cell_type": "markdown",
      "metadata": {
        "id": "T3DpoCVYFX94"
      },
      "source": [
        "#### Example: Bank Account"
      ]
    },
    {
      "cell_type": "code",
      "execution_count": null,
      "metadata": {
        "id": "JAbUeZa5FX94",
        "outputId": "cb93a13e-0a8c-4025-85de-9724810477d6",
        "colab": {
          "base_uri": "https://localhost:8080/"
        }
      },
      "outputs": [
        {
          "output_type": "stream",
          "name": "stdout",
          "text": [
            "1234\n"
          ]
        }
      ],
      "source": [
        "class BankAccount:\n",
        "    def __init__(self, owner: str, balance: int):\n",
        "        self.owner = owner          # Public\n",
        "        self._balance = balance     # Protected\n",
        "        self.__pin = \"1234\"         # Private\n",
        "\n",
        "    def deposit(self, amount):\n",
        "        if amount > 0:\n",
        "            self._balance += amount\n",
        "            return f\"Account Name: {self.owner}\\n Added {amount}.\\n New balance: {self._balance}\"\n",
        "        return \"Amount must be positive.\"\n",
        "\n",
        "    def check_balance(self):\n",
        "        return self._balance\n",
        "\n",
        "# Create an account\n",
        "acc = BankAccount(\"Ali\", 1000)\n",
        "\n",
        "# Accessing public method\n",
        "# print(acc.deposit(500))         # Output: Added 500. New balance: 1500\n",
        "# print(acc.check_balance())      # Output: 1500\n",
        "\n",
        "# Accessing protected variable (not recommended, but possible)\n",
        "# print(acc._balance)             # Output: 1500\n",
        "\n",
        "# Accessing private variable (will raise an error)\n",
        "# print(acc.__pin)              # ❌ AttributeError\n",
        "\n",
        "# # But technically possible with name mangling:\n",
        "# print(acc._BankAccount__pin)    # ✅ Output: 1234\n"
      ]
    },
    {
      "cell_type": "markdown",
      "metadata": {
        "id": "aHPXBV4MFX94"
      },
      "source": [
        "### 4.2 Inheritance\n",
        "Inheritance lets you create a new class (child) that reuses code from an existing class (parent). The child class gets access to the parent's attributes and methods, so you don't have to write the same code again.  \n",
        "\n",
        "\n",
        "**🧬 Why Use Inheritance?**  \n",
        "- Reuse existing code\n",
        "- Avoid repetition\n",
        "- Build relationships between classes (e.g., Animal → Dog, Cat)"
      ]
    },
    {
      "cell_type": "markdown",
      "metadata": {
        "id": "8qT1BqNhFX94"
      },
      "source": [
        "#### 4.2.1. Example: Vehicle Hierarchy"
      ]
    },
    {
      "cell_type": "code",
      "execution_count": null,
      "metadata": {
        "id": "Mzpu6lF3FX94",
        "outputId": "3ce94550-9b18-406b-ab7e-149729a118a1",
        "colab": {
          "base_uri": "https://localhost:8080/"
        }
      },
      "outputs": [
        {
          "output_type": "stream",
          "name": "stdout",
          "text": [
            "Beep beep!\n"
          ]
        }
      ],
      "source": [
        "# Parent class\n",
        "class Vehicle:\n",
        "    def __init__(self, brand):\n",
        "        self.brand = brand\n",
        "\n",
        "    def honk(self):\n",
        "        return \"Beep beep!\"\n",
        "\n",
        "# Child class\n",
        "class Car(Vehicle):\n",
        "    def __init__(self, brand, color):\n",
        "        super().__init__(brand)  # Calls Vehicle's __init__\n",
        "        self.color = color\n",
        "\n",
        "# Create a Car object\n",
        "my_car = Car(\"Toyota\", \"Red\")\n",
        "\n",
        "# Inherited method from Vehicle\n",
        "print(my_car.honk())  # Output: Beep beep!\n"
      ]
    },
    {
      "cell_type": "markdown",
      "metadata": {
        "id": "2AhqrKCzFX94"
      },
      "source": [
        "- `super()` lets a subclass call methods from its parent class, usually to run the parent’s `__init__()` method.\n",
        "- The `Car` class extends `Vehicle` with a `color` attribute."
      ]
    },
    {
      "cell_type": "markdown",
      "source": [
        "#### 4.2.2. **Multiple Inheritance:**"
      ],
      "metadata": {
        "id": "yxuxfwE4l1ol"
      }
    },
    {
      "cell_type": "code",
      "source": [
        "# Parent class 1\n",
        "class Vehicle:\n",
        "    def __init__(self, brand):\n",
        "        self.brand = brand\n",
        "\n",
        "    def honk(self):\n",
        "        return \"Beep beep!\"\n",
        "\n",
        "# Parent class 2\n",
        "class Electric:\n",
        "    def __init__(self, battery_life):\n",
        "        self.battery_life = battery_life\n",
        "\n",
        "    def charge(self):\n",
        "        return \"Charging...\"\n",
        "\n",
        "# Child class inheriting from both Vehicle and Electric\n",
        "class ElectricCar(Vehicle, Electric):\n",
        "    def __init__(self, brand, battery_life, color):\n",
        "        Vehicle.__init__(self, brand)        # Initialize Vehicle part\n",
        "        Electric.__init__(self, battery_life)  # Initialize Electric part\n",
        "        self.color = color\n",
        "\n",
        "# Create an ElectricCar object\n",
        "my_tesla = ElectricCar(\"Tesla\", 100, \"White\")\n",
        "\n",
        "# Use methods from both parent classes\n",
        "print(my_tesla.honk())    # Output: Beep beep!\n",
        "print(my_tesla.charge())  # Output: Charging...\n"
      ],
      "metadata": {
        "id": "nvIARd05mFFm",
        "outputId": "f7435ab0-b2eb-492e-d3ae-ce6d291a8b2e",
        "colab": {
          "base_uri": "https://localhost:8080/"
        }
      },
      "execution_count": null,
      "outputs": [
        {
          "output_type": "stream",
          "name": "stdout",
          "text": [
            "Beep beep!\n",
            "Charging...\n"
          ]
        }
      ]
    },
    {
      "cell_type": "markdown",
      "metadata": {
        "id": "Jk4duj5dFX94"
      },
      "source": [
        "### 4.3 **Polymorphism**\n",
        "Polymorphism means different classes can use the same method name but behave differently. It lets you write code that works with different objects through a common interface, while each class handles the details in its own way."
      ]
    },
    {
      "cell_type": "markdown",
      "metadata": {
        "id": "F0YPHGsOFX94"
      },
      "source": [
        "#### Example: Animal Sounds"
      ]
    },
    {
      "cell_type": "code",
      "execution_count": null,
      "metadata": {
        "id": "aul1rs34FX94"
      },
      "outputs": [],
      "source": [
        "class Animal:\n",
        "    def make_sound(self):\n",
        "        return \"Generic sound\"\n",
        "\n",
        "class Dog(Animal):\n",
        "    def make_sound(self):\n",
        "        return \"Woof!\"\n",
        "\n",
        "class Cat(Animal):\n",
        "    def make_sound(self):\n",
        "        return \"Meow!\"\n",
        "\n",
        "animals = [Dog(), Cat()]\n",
        "for animal in animals:\n",
        "    print(animal.make_sound())  # Output: Woof!, Meow!"
      ]
    },
    {
      "cell_type": "markdown",
      "metadata": {
        "id": "PUNDE74CFX95"
      },
      "source": [
        "### 4.4 **Abstraction**\n",
        "\n",
        "Abstraction means hiding the complex details inside a class and only showing what’s important\n",
        "\n",
        "> The abstract class acts like an interface.\n",
        "\n",
        "- It defines what methods must exist, but not how they work.\n",
        "\n",
        "- In Python, you create an abstract class by inheriting from `ABC` (Abstract Base Class). Inside it, you use the `@abstractmethod` decorator to declare methods that **must be implemented** by any subclass.\n",
        "\n",
        "- In this example, the `Shape` class is abstract. It defines the method `area()` but doesn’t provide how to calculate it. Each specific shape (like `Circle` or `Rectangle`) **must** implement its own version of `area()`.\n",
        "\n",
        "- If a subclass doesn’t implement all abstract methods, Python won’t let you create its objects and raises an error like:\n",
        "\n",
        "```\n",
        "Can't instantiate abstract class Circle with abstract method area\n",
        "```\n",
        "\n",
        "- This ensures that every concrete shape provides its own area calculation, while users only interact with the common interface.\n",
        "\n"
      ]
    },
    {
      "cell_type": "markdown",
      "metadata": {
        "id": "RNCLcN5BFX95"
      },
      "source": [
        "#### Example: Shape Calculator"
      ]
    },
    {
      "cell_type": "code",
      "execution_count": null,
      "metadata": {
        "id": "DOZ6Fa6TFX95"
      },
      "outputs": [],
      "source": [
        "from abc import ABC, abstractmethod\n",
        "\n",
        "class Shape(ABC):\n",
        "    @abstractmethod\n",
        "    def area(self):\n",
        "        pass  # No implementation here, subclasses must override\n",
        "\n",
        "class Circle(Shape):\n",
        "    def __init__(self, radius):\n",
        "        self.radius = radius\n",
        "\n",
        "    def area(self):\n",
        "        return 3.14 * self.radius ** 2\n",
        "\n",
        "class Rectangle(Shape):\n",
        "    def __init__(self, width, height):\n",
        "        self.width = width\n",
        "        self.height = height\n",
        "\n",
        "    def area(self):\n",
        "        return self.width * self.height\n",
        "\n",
        "\n",
        "shapes = [Circle(5), Rectangle(3, 4)]\n",
        "for shape in shapes:\n",
        "    print(f\"Area: {shape.area()}\")  # Output: Area: 78.5, Area: 12\n"
      ]
    },
    {
      "cell_type": "markdown",
      "metadata": {
        "id": "190F-k43FX95"
      },
      "source": [
        "## 5. **Magic Methods (a.k.a. Dunder Methods)**\n",
        "\n",
        "- Magic methods are special methods in Python that start and end with double underscores (`__like_this__`).\n",
        "\n",
        "- They let you define how your objects behave with built-in Python operations — like printing, adding, comparing, etc.\n",
        "\n",
        "### Examples:\n",
        "\n",
        "* `__str__` → Defines what gets shown when you print the object\n",
        "* `__add__` → Lets you use `+` to add two objects\n"
      ]
    },
    {
      "cell_type": "markdown",
      "metadata": {
        "id": "CGwOWIZQFX95"
      },
      "source": [
        "#### Example:"
      ]
    },
    {
      "cell_type": "code",
      "execution_count": null,
      "metadata": {
        "id": "e9XqEdGXFX95"
      },
      "outputs": [],
      "source": [
        "from typing import Any\n",
        "\n",
        "class Animal:\n",
        "    def __init__(self, name, sound):\n",
        "        self.name = name\n",
        "        self.sound = sound\n",
        "\n",
        "    # Makes the object callable like a function\n",
        "    def __call__(self) -> Any:\n",
        "        print(f\"{self.name} is callable\")\n",
        "\n",
        "    # Operator Overloading: Customizing operators for classes using special methods like __add__\n",
        "    def __add__(self, other):\n",
        "        return Animal(f\"{self.name}-{other.name}\", f\"{self.sound}-{other.sound}\")\n",
        "\n",
        "    # Used by print() or str() for user-friendly display\n",
        "    def __str__(self):\n",
        "        return f\"{self.name} says {self.sound}\"\n",
        "\n",
        "    # Destructor: called when the object is deleted\n",
        "    def __del__(self):\n",
        "        print(f\"{self.name} is no more\")\n",
        "\n",
        "    # Used in developer/debugging view (uncomment to use)\n",
        "    # def __repr__(self):\n",
        "    #     return f\"Animal(name='{self.name}', sound='{self.sound}')\"\n",
        "\n",
        "# Create two Animal objects\n",
        "lion = Animal(\"Lion\", \"Roar\")\n",
        "tiger = Animal(\"Tiger\", \"Growl\")\n",
        "\n",
        "# __call__ example\n",
        "# lion()  # Output: Lion is callable\n",
        "\n",
        "# __add__ example\n",
        "# liger = lion + tiger\n",
        "# print(liger)  # Output: Lion-Tiger says Roar-Growl\n",
        "\n",
        "# __repr__ and __str__ examples\n",
        "print(repr(lion))   # If __repr__ is not defined, falls back to default (like <__main__.Animal object at ...>)\n",
        "print(tiger)        # Output: Tiger says Growl (via __str__)\n",
        "\n",
        "# __del__ example\n",
        "# del lion  # Output: Lion is no more (when garbage collected)\n"
      ]
    },
    {
      "cell_type": "markdown",
      "metadata": {
        "id": "ZJYquyjIFX96"
      },
      "source": [
        "- `__call__`:  Lets your object behave like a function\n",
        "\n",
        "- `__add__`:  Lets you define how two objects are added\n",
        "\n",
        "- `__del__`: Executes cleanup or logs a message when the object is destroyed\n",
        "\n",
        "- `__str__`: Returns a **user-friendly** string. Used by `print()`.\n",
        "\n",
        "> Think: What should a normal person see?\n",
        "\n",
        "- `__repr__`: Returns a **developer-friendly** string. Used in debugging, logs, and `repr()`.\n",
        "\n",
        "> Think: How do I represent this object clearly for debugging?\n",
        "\n",
        "(*If both `__str__` & `__repr__` are defined, `__str__` takes priority when printing.*)\n",
        "\n",
        "\n"
      ]
    },
    {
      "cell_type": "markdown",
      "metadata": {
        "id": "A5MrFiEKFX96"
      },
      "source": [
        "## 6. Class vs. Instance Attributes\n",
        "- **Class attributes**: Shared across all instances (e.g., `species`).\n",
        "- **Instance attributes**: Unique to each instance (e.g., `name`)."
      ]
    },
    {
      "cell_type": "markdown",
      "metadata": {
        "id": "Js2HSZgDFX96"
      },
      "source": [
        "#### Example: Dog Class"
      ]
    },
    {
      "cell_type": "code",
      "execution_count": null,
      "metadata": {
        "id": "_k9l-MOOFX96"
      },
      "outputs": [],
      "source": [
        "class Dog:\n",
        "    species = \"Canis familiaris\"  # Class attribute\n",
        "\n",
        "    def __init__(self, name):\n",
        "        self.name = name  # Instance attribute\n",
        "\n",
        "dog1 = Dog(\"Buddy\")\n",
        "dog2 = Dog(\"Max\")\n",
        "print(dog1.species, dog2.species)  # Output: Canis familiaris Canis familiaris\n",
        "Dog.species = \"Canis lupus\"\n",
        "print(dog1.species, dog2.species)  # Output: Canis lupus Canis lupus"
      ]
    },
    {
      "cell_type": "markdown",
      "metadata": {
        "id": "G7whmGiFFX96"
      },
      "source": [
        "## 7. Types of Methods\n",
        "In Python, methods are functions defined within a class that operate on the class’s data. There are three types of methods in Python: **instance methods**, **class methods**, and **static methods**. Each type has a specific purpose and use case. Let’s explore them in detail.\n",
        "\n",
        "### **1. Instance Methods**\n",
        "\n",
        "- **Definition**: Instance methods are the most common type of methods. They operate on an instance of the class and can access and modify instance attributes.\n",
        "\n",
        "- **First Parameter**: <font color=gold>The first parameter is always self, which refers to the instance of the class.</font>\n",
        "\n",
        "- **Usage**: Used for methods that need to access or modify instance-specific data.\n",
        "\n",
        "### **2. Class Methods (@classmethod)**\n",
        "\n",
        "- **Definition**: Class methods operate on the class itself rather than on instances. They can access and modify class attributes.\n",
        "\n",
        "- **First Parameter**: <font color=gold>The first parameter is always cls, which refers to the class.</font>\n",
        "- **Decorator**: Defined using the @classmethod decorator.\n",
        "\n",
        "- **Usage**: Used for methods that need to work with class-level data or perform operations related to the class.\n",
        "\n",
        "### **3. Static Methods (@staticmethod)**\n",
        "\n",
        "- **Definition**: <font color=gold>Static methods are independent of both the class and its instances. They don’t have access to self or cls.</font>\n",
        "\n",
        "- **Decorator**: Defined using the @staticmethod decorator.\n",
        "\n",
        "- **Usage**: Used for utility functions that don’t depend on class or instance data.\n",
        "\n",
        "\n",
        "<hr color=grey>\n",
        "\n",
        "\n",
        "| Aspect               | Instance Methods                          | Class Methods                          | Static Methods                             |\n",
        "|----------------------|-------------------------------------------|----------------------------------------|--------------------------------------------|\n",
        "| First Parameter      | self (refers to the instance)             | cls (refers to the class)              | No specific parameter                      |\n",
        "| Access to Attributes | Can access and modify instance attributes | Can access and modify class attributes | Cannot access instance or class attributes |\n",
        "| Decorator            | None                                      | @classmethod                           | @staticmethod                              |\n",
        "| Usage                | For methods that work with instance data  | For methods that work with class data  | For utility functions                      |\n",
        "|                      |                                           |                                        \n",
        "\n"
      ]
    },
    {
      "cell_type": "markdown",
      "metadata": {
        "id": "yjaZ7E2GFX96"
      },
      "source": [
        "#### Example: Person Class"
      ]
    },
    {
      "cell_type": "code",
      "execution_count": null,
      "metadata": {
        "id": "ynU0H6nUFX97"
      },
      "outputs": [],
      "source": [
        "class Person:\n",
        "    species = \"Homo sapiens\"\n",
        "\n",
        "    def __init__(self, name):\n",
        "        self.name = name\n",
        "\n",
        "    def display(self):\n",
        "        return f\"{self.name} is a {self.species}\"\n",
        "\n",
        "    @classmethod\n",
        "    def update_species(cls, new_species):\n",
        "        cls.species = new_species\n",
        "\n",
        "    @staticmethod\n",
        "    def is_adult(age):\n",
        "        return age >= 18\n",
        "\n",
        "person = Person(\"Alice\")\n",
        "print(person.display())         # Output: Alice is a Homo sapiens\n",
        "Person.update_species(\"Homo novus\")\n",
        "print(person.display())         # Output: Alice is a Homo novus\n",
        "print(Person.is_adult(20))     # Output: True"
      ]
    },
    {
      "cell_type": "markdown",
      "metadata": {
        "id": "ZO7difC9FX97"
      },
      "source": [
        "## 8. The `object` Class\n",
        "All Python classes inherit from the `object` class, which provides default methods like `__str__`, `__repr__`, and `__del__`."
      ]
    },
    {
      "cell_type": "markdown",
      "metadata": {
        "id": "0cc_qO_vFX97"
      },
      "source": [
        "#### Example: Exploring `object`"
      ]
    },
    {
      "cell_type": "code",
      "execution_count": null,
      "metadata": {
        "id": "u65o3L2wFX97"
      },
      "outputs": [],
      "source": [
        "class MyClass:\n",
        "    pass\n",
        "\n",
        "obj = MyClass()\n",
        "print(isinstance(obj, object))  # Output: True\n",
        "print(dir(object)[:5])         # Output: ['__class__', '__delattr__', '__dir__', '__doc__', '__eq__']"
      ]
    },
    {
      "cell_type": "markdown",
      "metadata": {
        "id": "sWQ-DmHHFX97"
      },
      "source": [
        "## 9. Mini Zoo Simulator Project\n",
        "This small project demonstrates all major OOP concepts in Python through a basic zoo system. Students can explore, modify, and experiment with the code to better understand how object-oriented programming works in practice.\n"
      ]
    },
    {
      "cell_type": "markdown",
      "metadata": {
        "id": "wHlAlYV3FX9_"
      },
      "source": [
        "### Implementation"
      ]
    },
    {
      "cell_type": "code",
      "execution_count": null,
      "metadata": {
        "id": "a0QAQaSkFX9_"
      },
      "outputs": [],
      "source": [
        "from abc import ABC, abstractmethod\n",
        "\n",
        "# ABSTRACTION: Base class that defines what all animals must have\n",
        "class Animal(ABC):\n",
        "    def __init__(self, name, species):\n",
        "        self.name = name\n",
        "        self.species = species\n",
        "        self._happiness = 50  # ENCAPSULATION: Protected attribute (notice the _)\n",
        "\n",
        "    @abstractmethod\n",
        "    def make_sound(self):  # ABSTRACTION: Every animal must implement this\n",
        "        pass\n",
        "\n",
        "    def feed(self):  # ENCAPSULATION: Safe way to change happiness\n",
        "        self._happiness += 20\n",
        "        return f\"{self.name} is happy after eating! Happiness: {self._happiness}\"\n",
        "\n",
        "    def get_happiness(self):  # ENCAPSULATION: Safe way to check happiness\n",
        "        return self._happiness\n",
        "\n",
        "# INHERITANCE: Dog inherits from Animal\n",
        "class Dog(Animal):\n",
        "    def __init__(self, name, breed):\n",
        "        super().__init__(name, \"Dog\")  # Call parent's __init__\n",
        "        self.breed = breed  # Add dog-specific attribute\n",
        "\n",
        "    def make_sound(self):  # POLYMORPHISM: Dog's version of make_sound\n",
        "        return f\"{self.name} says: Woof woof! 🐕\"\n",
        "\n",
        "# INHERITANCE: Cat inherits from Animal\n",
        "class Cat(Animal):\n",
        "    def __init__(self, name, color):\n",
        "        super().__init__(name, \"Cat\")  # Call parent's __init__\n",
        "        self.color = color  # Add cat-specific attribute\n",
        "\n",
        "    def make_sound(self):  # POLYMORPHISM: Cat's version of make_sound\n",
        "        return f\"{self.name} says: Meow! 🐱\"\n",
        "\n",
        "# Let's create our zoo animals\n",
        "buddy = Dog(\"Buddy\", \"Golden Retriever\")\n",
        "whiskers = Cat(\"Whiskers\", \"Orange\")\n",
        "\n",
        "# POLYMORPHISM in action - same method call, different results!\n",
        "animals = [buddy, whiskers]\n",
        "print(\"🎪 Animal Show Time!\")\n",
        "for animal in animals:\n",
        "    print(f\"- {animal.make_sound()}\")  # Same method, different sounds!\n",
        "\n",
        "print(\"\\n🍽️ Feeding Time!\")\n",
        "for animal in animals:\n",
        "    print(f\"- {animal.feed()}\")  # ENCAPSULATION: Safe way to change data\n",
        "\n",
        "print(f\"\\n😊 Happiness Check:\")\n",
        "print(f\"- {buddy.name}'s happiness: {buddy.get_happiness()}\")  # ENCAPSULATION: Safe way to read data\n",
        "print(f\"- {whiskers.name}'s happiness: {whiskers.get_happiness()}\")\n"
      ]
    },
    {
      "cell_type": "markdown",
      "metadata": {
        "id": "exSsBLhtFX-A"
      },
      "source": [
        "### 🎯 Let's Break Down What Just Happened!\n",
        "\n",
        "**🔒 ENCAPSULATION in Action:**\n",
        "- `_happiness` is protected (notice the underscore) - we don't access it directly\n",
        "- We use `feed()` and `get_happiness()` methods to safely interact with the data\n",
        "- This protects the data from being accidentally broken\n",
        "\n",
        "**👨‍👩‍👧‍👦 INHERITANCE in Action:**\n",
        "- Both `Dog` and `Cat` inherit from `Animal`\n",
        "- They get all of Animal's features (name, species, happiness, feed method)\n",
        "- Plus they add their own unique features (breed for dogs, color for cats)\n",
        "\n",
        "**🎭 POLYMORPHISM in Action:**\n",
        "- Both animals have a `make_sound()` method\n",
        "- But dogs say \"Woof\" and cats say \"Meow\" - same method name, different behavior!\n",
        "- We can treat all animals the same way in our loop\n",
        "\n",
        "**🎛️ ABSTRACTION in Action:**\n",
        "- The `Animal` class defines the interface - what all animals must have\n",
        "- You can't create an `Animal` directly - it's just a template\n",
        "- Each specific animal implements the abstract `make_sound()` method\n"
      ]
    },
    {
      "cell_type": "markdown",
      "metadata": {
        "id": "lXILWnXnFX-A"
      },
      "source": [
        "### 9.1 🏋️‍♀️ Your Turn to Practice!\n",
        "\n",
        "#### Challenge 1: Add a New Animal\n",
        "Create a `Bird` class that inherits from `Animal`. What sound does it make?"
      ]
    },
    {
      "cell_type": "markdown",
      "metadata": {
        "id": "ezLFUf44FX-A"
      },
      "source": [
        "## 10. Best Practices\n",
        "- Use meaningful class and method names (e.g., `Dog`, `bark`).\n",
        "- Keep classes focused on a single responsibility.\n",
        "- Prefer composition over inheritance for flexibility.\n",
        "- Use magic methods to make classes Pythonic.\n",
        "- Leverage abstraction for clear interfaces."
      ]
    },
    {
      "cell_type": "markdown",
      "metadata": {
        "id": "WD8zBt6FFX-A"
      },
      "source": [
        "## Conclusion\n",
        "OOP in Python enables modular, reusable, and maintainable code. By mastering classes, objects, and the four pillars, you can model complex systems effectively. The Mini Zoo Simulator project showcases these concepts in action, providing a foundation for further exploration. Happy coding! 🚀"
      ]
    }
  ],
  "metadata": {
    "kernelspec": {
      "display_name": "aiclass",
      "language": "python",
      "name": "python3"
    },
    "language_info": {
      "codemirror_mode": {
        "name": "ipython",
        "version": 3
      },
      "file_extension": ".py",
      "mimetype": "text/x-python",
      "name": "python",
      "nbconvert_exporter": "python",
      "pygments_lexer": "ipython3",
      "version": "3.12.0"
    },
    "colab": {
      "provenance": []
    }
  },
  "nbformat": 4,
  "nbformat_minor": 0
}
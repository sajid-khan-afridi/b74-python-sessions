{
 "cells": [
  {
   "cell_type": "markdown",
   "metadata": {},
   "source": [
    "# Object-Oriented Programming (OOP) in Python\n",
    "\n",
    "This notebook provides a clear and concise introduction to Object-Oriented Programming (OOP) in Python, covering core concepts, the four pillars of OOP, and a practical Mini Zoo Simulator project to demonstrate their application."
   ]
  },
  {
   "cell_type": "markdown",
   "metadata": {},
   "source": [
    "## 1. Everything in Python is an Object\n",
    "\n",
    "In Python, **everything is an object**, including primitive types like integers and strings. Objects are instances of **classes**, which act as blueprints defining attributes (data) and methods (behaviors)."
   ]
  },
  {
   "cell_type": "markdown",
   "metadata": {},
   "source": [
    "### Example: Objects and Types"
   ]
  },
  {
   "cell_type": "code",
   "execution_count": null,
   "metadata": {},
   "outputs": [],
   "source": [
    "x = 10\n",
    "print(type(x))        # Output: <class 'int'>\n",
    "print(type(int))      # Output: <class 'type'>\n",
    "print(type(type))     # Output: <class 'type'>"
   ]
  },
  {
   "cell_type": "markdown",
   "metadata": {},
   "source": [
    "- `x` is an instance of the `int` class.\n",
    "- The `int` class is an instance of the `type` metaclass.\n",
    "- The `type` metaclass is self-referential, forming the foundation of Python's type system.\n",
    "\n",
    "Functions are also objects:"
   ]
  },
  {
   "cell_type": "code",
   "execution_count": null,
   "metadata": {},
   "outputs": [],
   "source": [
    "def greet(name):\n",
    "    return f\"Hello, {name}!\"\n",
    "say_hello = greet\n",
    "print(type(greet))         # Output: <class 'function'>\n",
    "print(say_hello(\"Alice\"))  # Output: Hello, Alice!"
   ]
  },
  {
   "cell_type": "markdown",
   "metadata": {},
   "source": [
    "## 2. What is Object-Oriented Programming? 🏠\n",
    "\n",
    "<font color=gold> **Object-Oriented Programming (OOP)** is a programming paradigm that organizes software design around **objects and classes**, rather than functions and logic. An object is an instance of a class, which is a blueprint for creating objects. **OOP focuses on modeling real-world entities and their relationships in a more intuitive and structured way.** </font>\n",
    "\n",
    "### The Blueprint Analogy\n",
    "Imagine you're an architect who wants to build houses. Instead of designing each house from scratch, you create a **blueprint** that shows:\n",
    "- What the house should look like (2 bedrooms, 1 bathroom, kitchen)\n",
    "- What the house can do (provide shelter, have electricity, plumbing)\n",
    "\n",
    "In programming:\n",
    "- The **blueprint** = **Class** \n",
    "- The **actual house built from the blueprint** = **Object**\n",
    "\n",
    "### Real-World Example\n",
    "Think about cars:\n",
    "- **Class = Car Blueprint**: All cars have wheels, engine, doors, can start/stop\n",
    "- **Objects = Actual Cars**: Your Toyota Camry, your friend's Honda Civic\n",
    "\n",
    "Each car (object) was made from the car blueprint (class), but they can have different colors, sizes, and features.\n",
    "\n",
    "### Why is this useful?\n",
    "- 🔄 **Reusability**: One blueprint can create many houses\n",
    "- 🧹 **Organization**: Everything related to \"house\" is in one place  \n",
    "- 🛡️ **Protection**: You can control how people interact with your house\n",
    "- 🔧 **Easy Changes**: Modify the blueprint, and all future houses get the update"
   ]
  },
  {
   "cell_type": "markdown",
   "metadata": {},
   "source": [
    "## 3. Classes and Objects\n",
    "\n",
    "A **class** is a blueprint for creating objects, defining their attributes and methods. An **object** is an instance of a class."
   ]
  },
  {
   "cell_type": "markdown",
   "metadata": {},
   "source": [
    "### Example: Defining a Class"
   ]
  },
  {
   "cell_type": "code",
   "execution_count": null,
   "metadata": {},
   "outputs": [],
   "source": [
    "class Dog:\n",
    "    def __init__(self, name, breed):\n",
    "        self.name = name\n",
    "        self.breed = breed\n",
    "    \n",
    "    def bark(self):\n",
    "        return f\"{self.name} says Woof!\"\n",
    "    \n",
    "    def __str__(self):\n",
    "        return f\"{self.name} the {self.breed}\"\n",
    "\n",
    "my_dog = Dog(\"Buddy\", \"Labrador\")\n",
    "print(my_dog.bark())  # Output: Buddy says Woof!\n",
    "print(my_dog)         # Output: Buddy the Labrador"
   ]
  },
  {
   "cell_type": "markdown",
   "metadata": {},
   "source": [
    "- `__init__` is the constructor, initializing object attributes.\n",
    "- `self` refers to the instance, allowing access to its attributes and methods.\n",
    "- `__str__` provides a user-friendly string representation."
   ]
  },
  {
   "cell_type": "markdown",
   "metadata": {},
   "source": [
    "## 4. The Four Pillars of OOP\n",
    "\n",
    "OOP is built on four key principles: **Encapsulation**, **Inheritance**, **Polymorphism**, and **Abstraction**."
   ]
  },
  {
   "cell_type": "markdown",
   "metadata": {},
   "source": [
    "### 4.1 Encapsulation\n",
    "Encapsulation bundles data and methods into a class, restricting access to protect data integrity. Python uses naming conventions:\n",
    "- **Public**: No prefix (e.g., `name`).\n",
    "- **Protected**: Single underscore (e.g., `_balance`).\n",
    "- **Private**: Double underscore (e.g., `__pin`), using name mangling."
   ]
  },
  {
   "cell_type": "markdown",
   "metadata": {},
   "source": [
    "#### Example: Bank Account"
   ]
  },
  {
   "cell_type": "code",
   "execution_count": null,
   "metadata": {},
   "outputs": [],
   "source": [
    "class BankAccount:\n",
    "    def __init__(self, holder, balance):\n",
    "        self.holder = holder        # Public\n",
    "        self._balance = balance     # Protected\n",
    "        self.__pin = \"1234\"        # Private\n",
    "    \n",
    "    def deposit(self, amount):\n",
    "        if amount > 0:\n",
    "            self._balance += amount\n",
    "            return f\"Deposited ${amount}. New balance: ${self._balance}\"\n",
    "        return \"Invalid amount.\"\n",
    "    \n",
    "    def get_balance(self):\n",
    "        return self._balance\n",
    "\n",
    "account = BankAccount(\"Alice\", 1000)\n",
    "print(account.deposit(500))  # Output: Deposited $500. New balance: $1500\n",
    "print(account.get_balance())  # Output: 1500\n",
    "# print(account.__pin)       # Raises AttributeError"
   ]
  },
  {
   "cell_type": "markdown",
   "metadata": {},
   "source": [
    "### 4.2 Inheritance\n",
    "Inheritance allows a subclass to inherit attributes and methods from a parent class, promoting code reuse."
   ]
  },
  {
   "cell_type": "markdown",
   "metadata": {},
   "source": [
    "#### Example: Vehicle Hierarchy"
   ]
  },
  {
   "cell_type": "code",
   "execution_count": null,
   "metadata": {},
   "outputs": [],
   "source": [
    "class Vehicle:\n",
    "    def __init__(self, brand):\n",
    "        self.brand = brand\n",
    "    \n",
    "    def honk(self):\n",
    "        return \"Beep beep!\"\n",
    "\n",
    "class Car(Vehicle):\n",
    "    def __init__(self, brand, color):\n",
    "        super().__init__(brand)\n",
    "        self.color = color\n",
    "\n",
    "my_car = Car(\"Toyota\", \"Red\")\n",
    "print(my_car.honk())  # Output: Beep beep!"
   ]
  },
  {
   "cell_type": "markdown",
   "metadata": {},
   "source": [
    "- `super()` calls the parent class's methods.\n",
    "- The `Car` class extends `Vehicle` with a `color` attribute."
   ]
  },
  {
   "cell_type": "markdown",
   "metadata": {},
   "source": [
    "### 4.3 Polymorphism\n",
    "Polymorphism allows different classes to share a common interface, with each class implementing methods in its own way."
   ]
  },
  {
   "cell_type": "markdown",
   "metadata": {},
   "source": [
    "#### Example: Animal Sounds"
   ]
  },
  {
   "cell_type": "code",
   "execution_count": null,
   "metadata": {},
   "outputs": [],
   "source": [
    "class Animal:\n",
    "    def make_sound(self):\n",
    "        return \"Generic sound\"\n",
    "\n",
    "class Dog(Animal):\n",
    "    def make_sound(self):\n",
    "        return \"Woof!\"\n",
    "\n",
    "class Cat(Animal):\n",
    "    def make_sound(self):\n",
    "        return \"Meow!\"\n",
    "\n",
    "animals = [Dog(), Cat()]\n",
    "for animal in animals:\n",
    "    print(animal.make_sound())  # Output: Woof!, Meow!"
   ]
  },
  {
   "cell_type": "markdown",
   "metadata": {},
   "source": [
    "### 4.4 Abstraction\n",
    "Abstraction hides complex implementation details, exposing only necessary interfaces using abstract base classes (ABCs)."
   ]
  },
  {
   "cell_type": "markdown",
   "metadata": {},
   "source": [
    "#### Example: Shape Calculator"
   ]
  },
  {
   "cell_type": "code",
   "execution_count": null,
   "metadata": {},
   "outputs": [],
   "source": [
    "from abc import ABC, abstractmethod\n",
    "\n",
    "class Shape(ABC):\n",
    "    @abstractmethod\n",
    "    def area(self):\n",
    "        pass\n",
    "\n",
    "class Circle(Shape):\n",
    "    def __init__(self, radius):\n",
    "        self.radius = radius\n",
    "    \n",
    "    def area(self):\n",
    "        return 3.14 * self.radius ** 2\n",
    "\n",
    "class Rectangle(Shape):\n",
    "    def __init__(self, width, height):\n",
    "        self.width = width\n",
    "        self.height = height\n",
    "    \n",
    "    def area(self):\n",
    "        return self.width * self.height\n",
    "\n",
    "shapes = [Circle(5), Rectangle(3, 4)]\n",
    "for shape in shapes:\n",
    "    print(f\"Area: {shape.area()}\")  # Output: Area: 78.5, Area: 12"
   ]
  },
  {
   "cell_type": "markdown",
   "metadata": {},
   "source": [
    "## 5. Magic Methods\n",
    "Magic (dunder) methods customize object behavior for Python operations (e.g., `+`, `print`)."
   ]
  },
  {
   "cell_type": "markdown",
   "metadata": {},
   "source": [
    "#### Example: Custom Addition"
   ]
  },
  {
   "cell_type": "code",
   "execution_count": null,
   "metadata": {},
   "outputs": [],
   "source": [
    "from typing import Any\n",
    "\n",
    "\n",
    "class Animal:\n",
    "    def __init__(self, name, sound):\n",
    "        self.name = name\n",
    "        self.sound = sound\n",
    "    \n",
    "    def __call__(self) -> Any:\n",
    "        print(f\"{self.name} is callable\")\n",
    "    \n",
    "    def __add__(self, other):\n",
    "        return Animal(f\"{self.name}-{other.name}\", f\"{self.sound}-{other.sound}\")\n",
    "    \n",
    "    def __repr__(self):\n",
    "        return f\"Animal(name={self.name}, sound={self.sound})\"\n",
    "\n",
    "    # def __str__(self):\n",
    "    #     return f\"{self.name} says {self.sound}\"\n",
    "    \n",
    "    def __del__(self):\n",
    "        print(f\"{self.name} is no more\")\n",
    "    \n",
    "   \n",
    "\n",
    "lion = Animal(\"Lion\", \"Roar\")\n",
    "tiger = Animal(\"Tiger\", \"Growl\")   \n",
    "\n",
    " \n",
    "## __call__ example\n",
    "# # lion()\n",
    "\n",
    "## __add__ example\n",
    "# # liger = lion + tiger\n",
    "# # print(liger)  # Output: Lion-Tiger says Roar-Growl\n",
    "\n",
    "\n",
    "## __repr__ example\n",
    "# # print(lion)\n",
    "# # print(tiger)\n",
    "\n",
    "## __str__ example\n",
    "# # print(lion)\n",
    "# # print(tiger)\n",
    "\n",
    "## __del__ example\n",
    "# del lion"
   ]
  },
  {
   "cell_type": "markdown",
   "metadata": {},
   "source": [
    "**`__call__`:** \n",
    "Makes the object callable like a function. Running animal() triggers custom behavior.\n",
    "\n",
    "**`__add__`**\n",
    "Lets you use + between two Animal objects. Combines their names and sounds into a new Animal.\n",
    "\n",
    "**`__str__`:**\n",
    "Returns a **user-friendly** string. Used by `print()`.\n",
    "\n",
    "> Think: What should a normal person see?\n",
    "\n",
    "**`__repr__`:**\n",
    "Returns a **developer-friendly** string. Used in debugging, logs, and `repr()`.\n",
    "\n",
    "> Think: How do I represent this object clearly for debugging?\n",
    "\n",
    "(*If both `__str__` & `__repr__` are defined, `__str__` takes priority when printing.*) \n",
    "\n",
    "**`__del__`:**\n",
    "Called when an object is about to be destroyed (garbage collected). Use it to clean up resources or run final code.\n"
   ]
  },
  {
   "cell_type": "markdown",
   "metadata": {},
   "source": [
    "## 6. Class vs. Instance Attributes\n",
    "- **Class attributes**: Shared across all instances (e.g., `species`).\n",
    "- **Instance attributes**: Unique to each instance (e.g., `name`)."
   ]
  },
  {
   "cell_type": "markdown",
   "metadata": {},
   "source": [
    "#### Example: Dog Class"
   ]
  },
  {
   "cell_type": "code",
   "execution_count": null,
   "metadata": {},
   "outputs": [],
   "source": [
    "class Dog:\n",
    "    species = \"Canis familiaris\"  # Class attribute\n",
    "    \n",
    "    def __init__(self, name):\n",
    "        self.name = name  # Instance attribute\n",
    "\n",
    "dog1 = Dog(\"Buddy\")\n",
    "dog2 = Dog(\"Max\")\n",
    "print(dog1.species, dog2.species)  # Output: Canis familiaris Canis familiaris\n",
    "Dog.species = \"Canis lupus\"\n",
    "print(dog1.species, dog2.species)  # Output: Canis lupus Canis lupus"
   ]
  },
  {
   "cell_type": "markdown",
   "metadata": {},
   "source": [
    "## 7. Types of Methods\n",
    "- **Instance methods**: Use `self` to access instance data.\n",
    "  - Instance methods work with individual objects. They always get `self` as the first argument, which gives them access to that specific object's data and behavior. If you want a method to read or change attributes of an instance, this is what you use.\n",
    "\n",
    "- **Class methods**: Use `@classmethod` and `cls` for class-level data.\n",
    "  - Class methods work with the class itself, not with one specific object. They receive `cls` as the first argument instead of `self`. That lets them access or modify class-level data shared by all instances. They're often used for factory methods or keeping track of global state.\n",
    "\n",
    "- **Static methods**: Use `@staticmethod` for utility functions.\n",
    "  - Static methods are just namespaced functions inside a class. They don’t know or care about the class or the object — they’re self-contained. Use them when the logic belongs to the class conceptually, but doesn’t need to touch instance or class data.\n",
    "\n",
    "\n"
   ]
  },
  {
   "cell_type": "markdown",
   "metadata": {},
   "source": [
    "#### Example: Person Class"
   ]
  },
  {
   "cell_type": "code",
   "execution_count": null,
   "metadata": {},
   "outputs": [],
   "source": [
    "class Person:\n",
    "    species = \"Homo sapiens\"\n",
    "    \n",
    "    def __init__(self, name):\n",
    "        self.name = name\n",
    "    \n",
    "    def display(self):\n",
    "        return f\"{self.name} is a {self.species}\"\n",
    "    \n",
    "    @classmethod\n",
    "    def update_species(cls, new_species):\n",
    "        cls.species = new_species\n",
    "    \n",
    "    @staticmethod\n",
    "    def is_adult(age):\n",
    "        return age >= 18\n",
    "\n",
    "person = Person(\"Alice\")\n",
    "print(person.display())         # Output: Alice is a Homo sapiens\n",
    "Person.update_species(\"Homo novus\")\n",
    "print(person.display())         # Output: Alice is a Homo novus\n",
    "print(Person.is_adult(20))     # Output: True"
   ]
  },
  {
   "cell_type": "markdown",
   "metadata": {},
   "source": [
    "## 8. The `object` Class\n",
    "All Python classes inherit from the `object` class, which provides default methods like `__str__`, `__repr__`, and `__del__`."
   ]
  },
  {
   "cell_type": "markdown",
   "metadata": {},
   "source": [
    "#### Example: Exploring `object`"
   ]
  },
  {
   "cell_type": "code",
   "execution_count": null,
   "metadata": {},
   "outputs": [],
   "source": [
    "class MyClass:\n",
    "    pass\n",
    "\n",
    "obj = MyClass()\n",
    "print(isinstance(obj, object))  # Output: True\n",
    "print(dir(object)[:5])         # Output: ['__class__', '__delattr__', '__dir__', '__doc__', '__eq__']"
   ]
  },
  {
   "cell_type": "markdown",
   "metadata": {},
   "source": [
    "## 9. Mini Zoo Simulator Project\n",
    "This project demonstrates all OOP concepts through a simple zoo management system."
   ]
  },
  {
   "cell_type": "markdown",
   "metadata": {},
   "source": [
    "### Implementation"
   ]
  },
  {
   "cell_type": "code",
   "execution_count": null,
   "metadata": {},
   "outputs": [],
   "source": [
    "from abc import ABC, abstractmethod\n",
    "\n",
    "# ABSTRACTION: Base class that defines what all animals must have\n",
    "class Animal(ABC):\n",
    "    def __init__(self, name, species):\n",
    "        self.name = name\n",
    "        self.species = species\n",
    "        self._happiness = 50  # ENCAPSULATION: Protected attribute (notice the _)\n",
    "    \n",
    "    @abstractmethod\n",
    "    def make_sound(self):  # ABSTRACTION: Every animal must implement this\n",
    "        pass\n",
    "    \n",
    "    def feed(self):  # ENCAPSULATION: Safe way to change happiness\n",
    "        self._happiness += 20\n",
    "        return f\"{self.name} is happy after eating! Happiness: {self._happiness}\"\n",
    "    \n",
    "    def get_happiness(self):  # ENCAPSULATION: Safe way to check happiness\n",
    "        return self._happiness\n",
    "\n",
    "# INHERITANCE: Dog inherits from Animal\n",
    "class Dog(Animal):\n",
    "    def __init__(self, name, breed):\n",
    "        super().__init__(name, \"Dog\")  # Call parent's __init__\n",
    "        self.breed = breed  # Add dog-specific attribute\n",
    "    \n",
    "    def make_sound(self):  # POLYMORPHISM: Dog's version of make_sound\n",
    "        return f\"{self.name} says: Woof woof! 🐕\"\n",
    "\n",
    "# INHERITANCE: Cat inherits from Animal  \n",
    "class Cat(Animal):\n",
    "    def __init__(self, name, color):\n",
    "        super().__init__(name, \"Cat\")  # Call parent's __init__\n",
    "        self.color = color  # Add cat-specific attribute\n",
    "    \n",
    "    def make_sound(self):  # POLYMORPHISM: Cat's version of make_sound\n",
    "        return f\"{self.name} says: Meow! 🐱\"\n",
    "\n",
    "# Let's create our zoo animals\n",
    "buddy = Dog(\"Buddy\", \"Golden Retriever\")\n",
    "whiskers = Cat(\"Whiskers\", \"Orange\")\n",
    "\n",
    "# POLYMORPHISM in action - same method call, different results!\n",
    "animals = [buddy, whiskers]\n",
    "print(\"🎪 Animal Show Time!\")\n",
    "for animal in animals:\n",
    "    print(f\"- {animal.make_sound()}\")  # Same method, different sounds!\n",
    "\n",
    "print(\"\\n🍽️ Feeding Time!\")\n",
    "for animal in animals:\n",
    "    print(f\"- {animal.feed()}\")  # ENCAPSULATION: Safe way to change data\n",
    "\n",
    "print(f\"\\n😊 Happiness Check:\")\n",
    "print(f\"- {buddy.name}'s happiness: {buddy.get_happiness()}\")  # ENCAPSULATION: Safe way to read data\n",
    "print(f\"- {whiskers.name}'s happiness: {whiskers.get_happiness()}\")\n"
   ]
  },
  {
   "cell_type": "markdown",
   "metadata": {},
   "source": [
    "### 🎯 Let's Break Down What Just Happened!\n",
    "\n",
    "**🔒 ENCAPSULATION in Action:**\n",
    "- `_happiness` is protected (notice the underscore) - we don't access it directly\n",
    "- We use `feed()` and `get_happiness()` methods to safely interact with the data\n",
    "- This protects the data from being accidentally broken\n",
    "\n",
    "**👨‍👩‍👧‍👦 INHERITANCE in Action:**\n",
    "- Both `Dog` and `Cat` inherit from `Animal`\n",
    "- They get all of Animal's features (name, species, happiness, feed method)\n",
    "- Plus they add their own unique features (breed for dogs, color for cats)\n",
    "\n",
    "**🎭 POLYMORPHISM in Action:**\n",
    "- Both animals have a `make_sound()` method\n",
    "- But dogs say \"Woof\" and cats say \"Meow\" - same method name, different behavior!\n",
    "- We can treat all animals the same way in our loop\n",
    "\n",
    "**🎛️ ABSTRACTION in Action:**\n",
    "- The `Animal` class defines the interface - what all animals must have\n",
    "- You can't create an `Animal` directly - it's just a template\n",
    "- Each specific animal implements the abstract `make_sound()` method\n"
   ]
  },
  {
   "cell_type": "markdown",
   "metadata": {},
   "source": [
    "### 9.1 🏋️‍♀️ Your Turn to Practice!\n",
    "\n",
    "#### Challenge 1: Add a New Animal\n",
    "Create a `Bird` class that inherits from `Animal`. What sound does it make?"
   ]
  },
  {
   "cell_type": "markdown",
   "metadata": {},
   "source": [
    "## 10. Best Practices\n",
    "- Use meaningful class and method names (e.g., `Dog`, `bark`).\n",
    "- Keep classes focused on a single responsibility.\n",
    "- Prefer composition over inheritance for flexibility.\n",
    "- Use magic methods to make classes Pythonic.\n",
    "- Leverage abstraction for clear interfaces."
   ]
  },
  {
   "cell_type": "markdown",
   "metadata": {},
   "source": [
    "## Conclusion\n",
    "OOP in Python enables modular, reusable, and maintainable code. By mastering classes, objects, and the four pillars, you can model complex systems effectively. The Mini Zoo Simulator project showcases these concepts in action, providing a foundation for further exploration. Happy coding! 🚀"
   ]
  }
 ],
 "metadata": {
  "kernelspec": {
   "display_name": "aiclass",
   "language": "python",
   "name": "python3"
  },
  "language_info": {
   "codemirror_mode": {
    "name": "ipython",
    "version": 3
   },
   "file_extension": ".py",
   "mimetype": "text/x-python",
   "name": "python",
   "nbconvert_exporter": "python",
   "pygments_lexer": "ipython3",
   "version": "3.12.0"
  }
 },
 "nbformat": 4,
 "nbformat_minor": 4
}

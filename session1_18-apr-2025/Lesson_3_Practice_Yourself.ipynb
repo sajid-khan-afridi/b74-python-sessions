{
  "nbformat": 4,
  "nbformat_minor": 0,
  "metadata": {
    "colab": {
      "provenance": []
    },
    "kernelspec": {
      "name": "python3",
      "display_name": "Python 3"
    },
    "language_info": {
      "name": "python"
    }
  },
  "cells": [
    {
      "cell_type": "markdown",
      "source": [
        "# Practice for yourself!\n",
        "Feel free to use the chatbot if you need help.\n",
        "\n",
        "Topics need to be cover:\n",
        "- Comments\n",
        "- print function\n",
        "- Single line string\n",
        "- Multiline String with triple quotation\n",
        "- Type function (use without the variables)\n",
        "- Python as calculator\n",
        "- Order of operator e.g. print(75-32*5/9)\n",
        "- Displaying text and calculations together— using , and +\n",
        "- f-string e.g. ```print(f\"Addition:  {2+3}   Subtration: {4-3}\")```\n",
        "- round(33/7), int(33/7), 33//7\n",
        "- Multi-line using f-strings\n",
        "- Escape Sequences\n"
      ],
      "metadata": {
        "id": "8TQN41ZAtCfX"
      }
    },
    {
      "cell_type": "markdown",
      "source": [
        "## Practice 1\n",
        "You can ask the chatbot to help you fix this code:\n",
        "1. Open the chatbot\n",
        "2. Enter the following prompt:\n",
        "\n",
        "       What is wrong with this code, and how do I fix it?\n",
        "\n",
        "       print(\"Hello, Andrew!)\n",
        "Fix the code in the next cell based on the chatbot's recommendation and run the cell using `Shift`+`Enter` to see if the fix worked!\n"
      ],
      "metadata": {
        "id": "eEmZmxLWu5Ej"
      }
    },
    {
      "cell_type": "markdown",
      "source": [
        "## Practice 2\n",
        " Write code that displays your favorite color"
      ],
      "metadata": {
        "id": "Hzrv8PzDvVqh"
      }
    },
    {
      "cell_type": "code",
      "execution_count": null,
      "metadata": {
        "id": "EpWtPbK9sV-m"
      },
      "outputs": [],
      "source": []
    },
    {
      "cell_type": "markdown",
      "source": [
        "## Practice 3\n",
        "Write code that answers the question \"How are you feeling today?"
      ],
      "metadata": {
        "id": "pro1ed4tvakd"
      }
    },
    {
      "cell_type": "code",
      "source": [],
      "metadata": {
        "id": "tLdHb0rbvcWx"
      },
      "execution_count": null,
      "outputs": []
    },
    {
      "cell_type": "markdown",
      "source": [
        "## Errors\n",
        "Fix the errors in the following code cells."
      ],
      "metadata": {
        "id": "NRB_YBwsCSiZ"
      }
    },
    {
      "cell_type": "code",
      "source": [
        "# Fix the error in the following code\n",
        "print(There are 366 days in a leap year\")"
      ],
      "metadata": {
        "id": "hs7ZpjnqCV3H"
      },
      "execution_count": null,
      "outputs": []
    },
    {
      "cell_type": "code",
      "source": [
        "# Fix the error in the following code\n",
        "print(\"There are 366\n",
        "days in a leap year\")"
      ],
      "metadata": {
        "id": "kzZKBJlVCtGT"
      },
      "execution_count": null,
      "outputs": []
    },
    {
      "cell_type": "code",
      "source": [
        "# Fix this code\n",
        "print(f\"There are {365/7 weeks in a year\")"
      ],
      "metadata": {
        "id": "n-ebLLc7GSjN"
      },
      "execution_count": null,
      "outputs": []
    },
    {
      "cell_type": "markdown",
      "source": [
        "## Practice 4\n",
        "A foot was defined as exactly 0.3048 meters. Convert 6 feet to meters.*italicized text*"
      ],
      "metadata": {
        "id": "tBPt6yijC62z"
      }
    },
    {
      "cell_type": "code",
      "source": [
        "# Write code to convert 6 feet to meters\n",
        "print(\"Convert 6 feet to meters\")\n"
      ],
      "metadata": {
        "id": "sxUKAvLKDB9E"
      },
      "execution_count": null,
      "outputs": []
    },
    {
      "cell_type": "markdown",
      "source": [
        "## Practice 5"
      ],
      "metadata": {
        "id": "mMqlNaVtGnDl"
      }
    },
    {
      "cell_type": "code",
      "source": [
        "# Modify the code to display one decimal place\n",
        "print(f\"The house was a good size: 1200 square feet, or {1200 * 0.092903} meters squared!\")"
      ],
      "metadata": {
        "id": "goY4KPAbGcpv"
      },
      "execution_count": null,
      "outputs": []
    },
    {
      "cell_type": "markdown",
      "source": [
        "## Practice 6"
      ],
      "metadata": {
        "id": "P3i9PHiOGt1s"
      }
    },
    {
      "cell_type": "code",
      "source": [
        "# Complete the code\n",
        "print(f\"The area of a square with side 5 cm is {} cm squared.\")"
      ],
      "metadata": {
        "id": "bCDEvnOEGXIF"
      },
      "execution_count": null,
      "outputs": []
    }
  ]
}